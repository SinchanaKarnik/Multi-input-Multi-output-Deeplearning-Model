{
 "cells": [
  {
   "cell_type": "markdown",
   "id": "85bb1ed9",
   "metadata": {},
   "source": [
    "# Import required libraries"
   ]
  },
  {
   "cell_type": "code",
   "execution_count": 1,
   "id": "4fb98da2",
   "metadata": {},
   "outputs": [],
   "source": [
    "import pandas as pd\n",
    "import numpy as np\n",
    "from sklearn.preprocessing import OrdinalEncoder\n",
    "from sklearn.model_selection import train_test_split\n",
    "import tensorflow\n",
    "from tensorflow import keras\n",
    "import tensorflow"
   ]
  },
  {
   "cell_type": "markdown",
   "id": "4b7dc4c3",
   "metadata": {},
   "source": [
    "# To display complete pandas dataframe without truncating"
   ]
  },
  {
   "cell_type": "code",
   "execution_count": 2,
   "id": "e095f575",
   "metadata": {},
   "outputs": [
    {
     "name": "stderr",
     "output_type": "stream",
     "text": [
      "C:\\ProgramData\\Anaconda3\\envs\\deeplearning\\lib\\site-packages\\ipykernel_launcher.py:4: FutureWarning: Passing a negative integer is deprecated in version 1.0 and will not be supported in future version. Instead, use None to not limit the column width.\n",
      "  after removing the cwd from sys.path.\n"
     ]
    }
   ],
   "source": [
    "pd.set_option('display.max_rows', None)\n",
    "pd.set_option('display.max_columns', None)\n",
    "pd.set_option('display.width', None)\n",
    "pd.set_option('display.max_colwidth', -1)"
   ]
  },
  {
   "cell_type": "markdown",
   "id": "a9be4016",
   "metadata": {},
   "source": [
    "# To display complete pandas dataframe without truncating"
   ]
  },
  {
   "cell_type": "code",
   "execution_count": 3,
   "id": "73190200",
   "metadata": {},
   "outputs": [],
   "source": [
    "laptop = pd.read_csv('dataset/completelaptopdata.csv', encoding= 'unicode_escape')"
   ]
  },
  {
   "cell_type": "code",
   "execution_count": 4,
   "id": "3a9e7ca3",
   "metadata": {},
   "outputs": [],
   "source": [
    "laptop = laptop.iloc[:,1:]"
   ]
  },
  {
   "cell_type": "markdown",
   "id": "20c8512a",
   "metadata": {},
   "source": [
    "# extract company from name. description in name are already in other features"
   ]
  },
  {
   "cell_type": "code",
   "execution_count": 5,
   "id": "fc48b27b",
   "metadata": {},
   "outputs": [],
   "source": [
    "laptop['name'].unique()\n",
    "laptop_list = ['ASUS','Lenovo','DELL','HP','acer','MSI','LG','realme','Avita','SAMSUNG','Infinix','Nokia','RedmiBook','APPLE','Mi','Vaio']\n",
    "def extract_company(x):\n",
    "    for i in laptop_list:\n",
    "        if i.capitalize() in x.capitalize():\n",
    "            return i\n",
    "laptop['company'] = laptop['name'].apply(extract_company)"
   ]
  },
  {
   "cell_type": "markdown",
   "id": "ad8ef01a",
   "metadata": {},
   "source": [
    "# convert battery cell to int from string by extracting"
   ]
  },
  {
   "cell_type": "code",
   "execution_count": 6,
   "id": "68b5f5b3",
   "metadata": {},
   "outputs": [],
   "source": [
    "laptop['Battery Cell'] = laptop['Battery Cell'].str.lower()\n",
    "laptop['Battery Cell'] = laptop['Battery Cell'].replace(' cell','-cell',regex=True)\n",
    "laptop['Battery Cell'] = laptop['Battery Cell'].str.extract('(\\d)-cell')"
   ]
  },
  {
   "cell_type": "markdown",
   "id": "0f4a802e",
   "metadata": {},
   "source": [
    "# categorise laptop use"
   ]
  },
  {
   "cell_type": "code",
   "execution_count": 7,
   "id": "32862f4d",
   "metadata": {},
   "outputs": [
    {
     "data": {
      "text/plain": [
       "array(['Processing & Multitasking', 'Travel & Business', 'Performance',\n",
       "       'Processing & Multitasking, Travel & Business',\n",
       "       'Performance, Processing & Multitasking, Travel & Business'],\n",
       "      dtype=object)"
      ]
     },
     "execution_count": 7,
     "metadata": {},
     "output_type": "execute_result"
    }
   ],
   "source": [
    "def categorise_laptop_suitablity(x):\n",
    "    \n",
    "    if 'Gaming' in x:\n",
    "        return 1\n",
    "    elif'Everyday Use' in x or 'Entertainment' in x:\n",
    "        return 2\n",
    "    else:\n",
    "        return 3\n",
    "laptop['Suitable_cat'] = laptop['Suitable For'].apply(categorise_laptop_suitablity)\n",
    "laptop['Suitable_cat'].unique()\n",
    "laptop[laptop['Suitable_cat']==3]['Suitable For'].unique()"
   ]
  },
  {
   "cell_type": "markdown",
   "id": "d330a3bc",
   "metadata": {},
   "source": [
    "# Drop unwanted columns"
   ]
  },
  {
   "cell_type": "code",
   "execution_count": 8,
   "id": "525309e6",
   "metadata": {},
   "outputs": [],
   "source": [
    "laptop = laptop.drop('Type',axis=1)"
   ]
  },
  {
   "cell_type": "code",
   "execution_count": 9,
   "id": "014a4eb5",
   "metadata": {},
   "outputs": [],
   "source": [
    "laptop = laptop.drop('Suitable For',axis=1)"
   ]
  },
  {
   "cell_type": "code",
   "execution_count": 10,
   "id": "0651302a",
   "metadata": {},
   "outputs": [],
   "source": [
    "laptop = laptop.drop('Power Supply',axis=1)"
   ]
  },
  {
   "cell_type": "code",
   "execution_count": 11,
   "id": "084f229d",
   "metadata": {},
   "outputs": [],
   "source": [
    "laptop = laptop.drop('MS Office Provided',axis=1)"
   ]
  },
  {
   "cell_type": "markdown",
   "id": "f19df14f",
   "metadata": {},
   "source": [
    "# Convert values in GB to MB for all"
   ]
  },
  {
   "cell_type": "code",
   "execution_count": 12,
   "id": "c3332ed8",
   "metadata": {},
   "outputs": [
    {
     "data": {
      "text/plain": [
       "array(['GDDR6', nan, 'DDR4', 'GDDR3', 'GDDR5', 'DDR5'], dtype=object)"
      ]
     },
     "execution_count": 12,
     "metadata": {},
     "output_type": "execute_result"
    }
   ],
   "source": [
    "laptop['Dedicated Graphic Memory Type'].unique()"
   ]
  },
  {
   "cell_type": "code",
   "execution_count": 13,
   "id": "3d707b4e",
   "metadata": {},
   "outputs": [
    {
     "data": {
      "text/plain": [
       "array(['8 GB', '4 GB', nan, '6 GB', '2 GB', '16 GB', '128 MB', '10 GB',\n",
       "       '512 MB', '12 GB'], dtype=object)"
      ]
     },
     "execution_count": 13,
     "metadata": {},
     "output_type": "execute_result"
    }
   ],
   "source": [
    "laptop['Dedicated Graphic Memory Capacity'].unique()"
   ]
  },
  {
   "cell_type": "code",
   "execution_count": 14,
   "id": "285117b1",
   "metadata": {},
   "outputs": [],
   "source": [
    "laptop['Dedicated Graphic Memory Capacity'].unique()\n",
    "def converttobytes(x):\n",
    "    if x is not np.nan:\n",
    "        if 'GB'not in x:\n",
    "            print(x.split(' ')[0])\n",
    "        else:\n",
    "            return int(x.split(' ')[0])\n",
    "    \n",
    "    "
   ]
  },
  {
   "cell_type": "code",
   "execution_count": 15,
   "id": "d85ae002",
   "metadata": {
    "scrolled": false
   },
   "outputs": [
    {
     "name": "stdout",
     "output_type": "stream",
     "text": [
      "128\n",
      "128\n",
      "512\n"
     ]
    }
   ],
   "source": [
    "laptop['Dedicated Graphic Memory Capacity in MB'] = laptop['Dedicated Graphic Memory Capacity'].apply(converttobytes)"
   ]
  },
  {
   "cell_type": "code",
   "execution_count": 16,
   "id": "c2b4b089",
   "metadata": {},
   "outputs": [
    {
     "data": {
      "text/plain": [
       "array([ 8.,  4., nan,  6.,  2., 16., 10., 12.])"
      ]
     },
     "execution_count": 16,
     "metadata": {},
     "output_type": "execute_result"
    }
   ],
   "source": [
    "laptop['Dedicated Graphic Memory Capacity in MB'].unique()"
   ]
  },
  {
   "cell_type": "code",
   "execution_count": 17,
   "id": "3a377d24",
   "metadata": {},
   "outputs": [],
   "source": [
    "laptop = laptop.drop('Dedicated Graphic Memory Capacity',axis=1)"
   ]
  },
  {
   "cell_type": "code",
   "execution_count": 18,
   "id": "812ac52e",
   "metadata": {},
   "outputs": [],
   "source": [
    "laptop = laptop.drop('Processor Brand',axis=1)"
   ]
  },
  {
   "cell_type": "code",
   "execution_count": 19,
   "id": "b1598d48",
   "metadata": {},
   "outputs": [
    {
     "data": {
      "text/plain": [
       "array(['Core i9', 'Ryzen 7 Octa Core', 'Core i5', 'Core i7',\n",
       "       'Celeron Dual Core', 'Pentium Silver', 'Athlon Dual Core',\n",
       "       'Ryzen 7 Dual Core', 'Ryzen 3 Quad Core', 'Ryzen 9 Octa Core',\n",
       "       'Core i3', 'Ryzen 5 Hexa Core', 'Ryzen 5 Quad Core',\n",
       "       'Ryzen 7 Hexa Core', 'Ryzen 7 Quad Core', 'Pentium Quad Core',\n",
       "       'Celeron Quad Core', 'Snapdragon 7c Gen 2', 'Ryzen 5 Dual Core',\n",
       "       'Ryzen 3 Dual Core', 'Dual Core', 'Ryzen 5 Octa Core', 'M1 Pro',\n",
       "       'Ryzen 3 Hexa Core', 'APU Dual Core A6', 'MediaTek Kompanio 500',\n",
       "       'M1', 'APU Dual Core A9', 'Hexa Core i5', 'Octa Core i7'],\n",
       "      dtype=object)"
      ]
     },
     "execution_count": 19,
     "metadata": {},
     "output_type": "execute_result"
    }
   ],
   "source": [
    "laptop['Processor Name'].unique()"
   ]
  },
  {
   "cell_type": "markdown",
   "id": "33a3c67c",
   "metadata": {},
   "source": [
    "# extract int from string for processor generation"
   ]
  },
  {
   "cell_type": "code",
   "execution_count": 20,
   "id": "96ca64ee",
   "metadata": {},
   "outputs": [
    {
     "data": {
      "text/plain": [
       "array(['12th Gen', nan, '5th Gen', '11th Gen', '10th Gen', '7th Gen',\n",
       "       '3rd Gen', '9th Gen', '4th Gen', '8th Gen'], dtype=object)"
      ]
     },
     "execution_count": 20,
     "metadata": {},
     "output_type": "execute_result"
    }
   ],
   "source": [
    "laptop['Processor Generation'].unique()"
   ]
  },
  {
   "cell_type": "code",
   "execution_count": 21,
   "id": "dd5c5e11",
   "metadata": {},
   "outputs": [],
   "source": [
    "def getGen(x):\n",
    "    if x is not np.nan:\n",
    "        if 'th' in x:\n",
    "            return int(x.split('th')[0])\n",
    "        if 'rd' in x:\n",
    "            return int(x.split('rd')[0])"
   ]
  },
  {
   "cell_type": "code",
   "execution_count": 22,
   "id": "22330673",
   "metadata": {},
   "outputs": [],
   "source": [
    "laptop['Processor Generation'] = laptop['Processor Generation'].apply(getGen)"
   ]
  },
  {
   "cell_type": "markdown",
   "id": "a1de82f1",
   "metadata": {},
   "source": [
    "# Convert TB to GB for all "
   ]
  },
  {
   "cell_type": "code",
   "execution_count": 23,
   "id": "74f1a332",
   "metadata": {},
   "outputs": [
    {
     "data": {
      "text/plain": [
       "array(['Yes', 'No'], dtype=object)"
      ]
     },
     "execution_count": 23,
     "metadata": {},
     "output_type": "execute_result"
    }
   ],
   "source": [
    "laptop['SSD'].unique()"
   ]
  },
  {
   "cell_type": "code",
   "execution_count": 24,
   "id": "b809e30a",
   "metadata": {},
   "outputs": [
    {
     "data": {
      "text/plain": [
       "array(['1 TB', '512 GB', '256 GB', '128 GB', nan, '2 TB'], dtype=object)"
      ]
     },
     "execution_count": 24,
     "metadata": {},
     "output_type": "execute_result"
    }
   ],
   "source": [
    "laptop['SSD Capacity'].unique()"
   ]
  },
  {
   "cell_type": "code",
   "execution_count": 25,
   "id": "891dad93",
   "metadata": {},
   "outputs": [],
   "source": [
    "def converttoGbytes(x):\n",
    "    if x is not np.nan:\n",
    "        if 'TB' in x:\n",
    "            return 1000 * int(x.split(' ')[0])\n",
    "        else:\n",
    "            return int(x.split(' ')[0])"
   ]
  },
  {
   "cell_type": "code",
   "execution_count": 26,
   "id": "ae6c87f0",
   "metadata": {},
   "outputs": [],
   "source": [
    "laptop['SSD Capacity'] = laptop['SSD Capacity'].apply(converttoGbytes)"
   ]
  },
  {
   "cell_type": "markdown",
   "id": "ce7c01e8",
   "metadata": {},
   "source": [
    "# Drop unwanted columns\n",
    "Can  be done in single step but i was experimenting"
   ]
  },
  {
   "cell_type": "code",
   "execution_count": 27,
   "id": "a0ea4507",
   "metadata": {},
   "outputs": [],
   "source": [
    "laptop = laptop.drop('Processor Variant',axis=1)"
   ]
  },
  {
   "cell_type": "code",
   "execution_count": 28,
   "id": "aeb112d4",
   "metadata": {},
   "outputs": [
    {
     "data": {
      "text/plain": [
       "array([nan, '250 Nits', '300 Nits', '400 Nits', '220 Nits'], dtype=object)"
      ]
     },
     "execution_count": 28,
     "metadata": {},
     "output_type": "execute_result"
    }
   ],
   "source": [
    "laptop['Brightness'].unique()"
   ]
  },
  {
   "cell_type": "code",
   "execution_count": 29,
   "id": "6fbd59ab",
   "metadata": {},
   "outputs": [],
   "source": [
    "laptop = laptop.drop('Brightness',axis=1)"
   ]
  },
  {
   "cell_type": "code",
   "execution_count": 30,
   "id": "9a8c3e83",
   "metadata": {},
   "outputs": [],
   "source": [
    "laptop = laptop.drop('Laptop Bag',axis=1)"
   ]
  },
  {
   "cell_type": "code",
   "execution_count": 31,
   "id": "043b3daf",
   "metadata": {},
   "outputs": [],
   "source": [
    "laptop = laptop.drop('Other Accessories',axis=1)"
   ]
  },
  {
   "cell_type": "code",
   "execution_count": 32,
   "id": "97f8c730",
   "metadata": {},
   "outputs": [],
   "source": [
    "laptop = laptop.drop(['NFC Support','Stylus Included','TGP','VGA Port','Color Gamut','Inbuilt 4G LTE','Cloud Storage','S-video','Dock Port','Firewire Port','RJ11','Read/Write Speed','EMMC Storage Capacity','Optane Memory'],axis=1)"
   ]
  },
  {
   "cell_type": "code",
   "execution_count": 33,
   "id": "977e02d3",
   "metadata": {},
   "outputs": [],
   "source": [
    "laptop = laptop.drop('link',axis=1)"
   ]
  },
  {
   "cell_type": "code",
   "execution_count": 34,
   "id": "490822af",
   "metadata": {},
   "outputs": [],
   "source": [
    "laptop = laptop.drop('name',axis=1)"
   ]
  },
  {
   "cell_type": "code",
   "execution_count": 35,
   "id": "ffe28262",
   "metadata": {},
   "outputs": [],
   "source": [
    "laptop = laptop.drop(['Model Number','Part Number','Model Name','Series'],axis=1)"
   ]
  },
  {
   "cell_type": "code",
   "execution_count": 36,
   "id": "634fa425",
   "metadata": {
    "scrolled": true
   },
   "outputs": [],
   "source": [
    "laptop = laptop.drop('Sales Package',axis=1)"
   ]
  },
  {
   "cell_type": "code",
   "execution_count": 37,
   "id": "83baa425",
   "metadata": {},
   "outputs": [],
   "source": [
    "laptop = laptop.dropna(axis=0, subset=['user rating']) "
   ]
  },
  {
   "cell_type": "code",
   "execution_count": 38,
   "id": "6bd66f74",
   "metadata": {},
   "outputs": [],
   "source": [
    "#laptop = laptop.drop('Sales Package',axis=1)"
   ]
  },
  {
   "cell_type": "code",
   "execution_count": 39,
   "id": "70192139",
   "metadata": {},
   "outputs": [],
   "source": [
    "laptop_x, laptop_y = laptop.drop(['user rating', 'Price'],axis=1), laptop[['user rating', 'Price']]"
   ]
  },
  {
   "cell_type": "code",
   "execution_count": 40,
   "id": "6a1eab80",
   "metadata": {},
   "outputs": [],
   "source": [
    "laptop_x = laptop_x.replace(np.nan, '')\n",
    "laptop_x['Number of Cores'] = laptop_x['Number of Cores'].replace('',0.0)\n",
    "laptop_x['RPM']= laptop_x['RPM'].replace('',0.0)\n",
    "laptop_x['Weight']=laptop_x['Weight'].replace('',0.0)"
   ]
  },
  {
   "cell_type": "code",
   "execution_count": 41,
   "id": "3bbbdfe9",
   "metadata": {},
   "outputs": [
    {
     "data": {
      "text/plain": [
       "array(['4', nan, '3', '2', '6'], dtype=object)"
      ]
     },
     "execution_count": 41,
     "metadata": {},
     "output_type": "execute_result"
    }
   ],
   "source": [
    "laptop['Battery Cell'].unique()"
   ]
  },
  {
   "cell_type": "code",
   "execution_count": 42,
   "id": "fbb33f7e",
   "metadata": {},
   "outputs": [
    {
     "data": {
      "text/plain": [
       "array(['64', nan, 'Upto 32 GB', '16', '32', '12', '20', '8', '16 GB',\n",
       "       '24', 'Upto 16 GB', 'Yes', 'Upto 12 GB', 'Upto12GB', 'Upto 8GB',\n",
       "       'Upto12 GB', '32 GB', 'Upto 20 GB', 'Upto 12GB', 'Up to 16 GB',\n",
       "       '16GB', 'Upgradable Upto 20 GB', 'No', '40',\n",
       "       'Upgradeable up to 20GB', 'Upto 40 GB', 'Upto 24 GB',\n",
       "       'Up to 32 GB', 'Up to 16GB', '32GB'], dtype=object)"
      ]
     },
     "execution_count": 42,
     "metadata": {},
     "output_type": "execute_result"
    }
   ],
   "source": [
    "laptop['Expandable Memory'].unique()"
   ]
  },
  {
   "cell_type": "code",
   "execution_count": 43,
   "id": "010b4b14",
   "metadata": {},
   "outputs": [],
   "source": [
    "def extractBytes(x):\n",
    "    if x is not np.nan:\n",
    "        for i in x.split():\n",
    "            if i.isdigit():\n",
    "                return int(i)\n",
    "            elif i.split('G')[0].isdigit():\n",
    "                return int(i.split('G')[0])\n",
    "            else:\n",
    "                if len(i.split('G')[0].split('Upto'))>1:\n",
    "                    if i.split('G')[0].split('Upto')[1].isdigit():\n",
    "                        return int(i.split('G')[0].split('Upto')[1])\n",
    "                "
   ]
  },
  {
   "cell_type": "code",
   "execution_count": 44,
   "id": "0c2413a5",
   "metadata": {},
   "outputs": [],
   "source": [
    "laptop['Expandable Memory'] = laptop['Expandable Memory'].apply(extractBytes)"
   ]
  },
  {
   "cell_type": "code",
   "execution_count": 45,
   "id": "a5a320a3",
   "metadata": {},
   "outputs": [
    {
     "data": {
      "text/plain": [
       "array([64., nan, 32., 16., 12., 20.,  8., 24., 40.])"
      ]
     },
     "execution_count": 45,
     "metadata": {},
     "output_type": "execute_result"
    }
   ],
   "source": [
    "laptop['Expandable Memory'].unique()"
   ]
  },
  {
   "cell_type": "code",
   "execution_count": 46,
   "id": "93e335f3",
   "metadata": {},
   "outputs": [],
   "source": [
    "def extractMBytes(x):\n",
    "    if x is not np.nan:\n",
    "        for i in x.split(' '):\n",
    "            if i.isdigit():\n",
    "                return int(i)\n",
    "            elif i.split('M')[0].isdigit():\n",
    "                return int(i.split('M')[0])\n",
    "            else:\n",
    "                if len(i.split('M')[0].split('Upto'))>1:\n",
    "                    if i.split('M')[0].split('Upto')[1].isdigit():\n",
    "                        return int(i.split('M')[0].split('Upto')[1])"
   ]
  },
  {
   "cell_type": "code",
   "execution_count": 47,
   "id": "b6a52fd7",
   "metadata": {},
   "outputs": [],
   "source": [
    "laptop['Cache'] = laptop['Cache'].apply(extractMBytes)"
   ]
  },
  {
   "cell_type": "code",
   "execution_count": 48,
   "id": "f1de99ed",
   "metadata": {},
   "outputs": [
    {
     "data": {
      "text/plain": [
       "array(['64 bit', nan, '32 bit'], dtype=object)"
      ]
     },
     "execution_count": 48,
     "metadata": {},
     "output_type": "execute_result"
    }
   ],
   "source": [
    "laptop['OS Architecture'].unique()"
   ]
  },
  {
   "cell_type": "code",
   "execution_count": 49,
   "id": "c25826de",
   "metadata": {},
   "outputs": [
    {
     "data": {
      "text/plain": [
       "array(['Windows 11 Home', 'Windows 10', 'Chrome', 'Windows 10 Home',\n",
       "       'DOS', 'Mac OS Monterey', 'Mac OS Big Sur', 'Windows 10 Pro',\n",
       "       'Ubuntu'], dtype=object)"
      ]
     },
     "execution_count": 49,
     "metadata": {},
     "output_type": "execute_result"
    }
   ],
   "source": [
    "laptop['Operating System'].unique()"
   ]
  },
  {
   "cell_type": "code",
   "execution_count": 50,
   "id": "08e8a232",
   "metadata": {},
   "outputs": [],
   "source": [
    "laptop = laptop.drop('Supported Operating System',axis=1)"
   ]
  },
  {
   "cell_type": "code",
   "execution_count": 51,
   "id": "0903183e",
   "metadata": {},
   "outputs": [],
   "source": [
    "laptop['Mic In'].unique()\n",
    "laptop['Mic In'] = laptop['Mic In'].fillna(\"No\")"
   ]
  },
  {
   "cell_type": "code",
   "execution_count": 52,
   "id": "a2066640",
   "metadata": {},
   "outputs": [],
   "source": [
    "\n",
    "laptop = laptop.drop('USB Port',axis=1)"
   ]
  },
  {
   "cell_type": "code",
   "execution_count": 53,
   "id": "3aa49679",
   "metadata": {},
   "outputs": [],
   "source": [
    "laptop['HDMI Port'].unique()\n",
    "laptop = laptop.drop('HDMI Port',axis=1)"
   ]
  },
  {
   "cell_type": "code",
   "execution_count": 54,
   "id": "c3d0a628",
   "metadata": {},
   "outputs": [
    {
     "data": {
      "text/plain": [
       "array(['No', 'Yes'], dtype=object)"
      ]
     },
     "execution_count": 54,
     "metadata": {},
     "output_type": "execute_result"
    }
   ],
   "source": [
    "laptop['Touchscreen'].unique()"
   ]
  },
  {
   "cell_type": "code",
   "execution_count": 55,
   "id": "c2804cb9",
   "metadata": {},
   "outputs": [],
   "source": [
    "laptop = laptop.drop('Recovery Options',axis=1)"
   ]
  },
  {
   "cell_type": "code",
   "execution_count": 56,
   "id": "c7d6dd1d",
   "metadata": {},
   "outputs": [
    {
     "data": {
      "text/plain": [
       "array(['No', 'Yes'], dtype=object)"
      ]
     },
     "execution_count": 56,
     "metadata": {},
     "output_type": "execute_result"
    }
   ],
   "source": [
    "laptop['Face Recognition'].unique()\n",
    "laptop['Face Recognition'] = laptop['Face Recognition'].fillna('No')\n",
    "laptop['Face Recognition'].unique()"
   ]
  },
  {
   "cell_type": "code",
   "execution_count": 57,
   "id": "4873f1cc",
   "metadata": {},
   "outputs": [],
   "source": [
    "laptop = laptop.drop(['System Architecture','Security Chip','Lock Port','HDD Capacity', 'International Warranty','Chipset','Antivirus'],axis=1)"
   ]
  },
  {
   "cell_type": "code",
   "execution_count": 58,
   "id": "39dac754",
   "metadata": {},
   "outputs": [],
   "source": [
    "laptop = laptop.drop(['Wireless WAN','Domestic Warranty','Ethernet', 'Pointer Device','Hardware Interface','Included Software'],axis=1)"
   ]
  },
  {
   "cell_type": "code",
   "execution_count": 59,
   "id": "ae86ac3d",
   "metadata": {},
   "outputs": [],
   "source": [
    "laptop = laptop.drop(['Additional Features','Warranty Summary','Warranty Service Type', 'Covered in Warranty','Not Covered in Warranty'],axis=1)"
   ]
  },
  {
   "cell_type": "code",
   "execution_count": 60,
   "id": "f7bab7f6",
   "metadata": {},
   "outputs": [
    {
     "data": {
      "text/plain": [
       "array([    nan, 4.0e+00, 5.4e+03, 7.2e+03])"
      ]
     },
     "execution_count": 60,
     "metadata": {},
     "output_type": "execute_result"
    }
   ],
   "source": [
    "laptop['RPM'].unique()"
   ]
  },
  {
   "cell_type": "code",
   "execution_count": 61,
   "id": "394d964c",
   "metadata": {},
   "outputs": [],
   "source": [
    "laptop = laptop.drop(\"RPM\",axis=1)"
   ]
  },
  {
   "cell_type": "code",
   "execution_count": 62,
   "id": "020ac78c",
   "metadata": {},
   "outputs": [],
   "source": [
    "laptop = laptop.drop(\"Sound Chip\",axis=1)"
   ]
  },
  {
   "cell_type": "code",
   "execution_count": 63,
   "id": "bbd862dc",
   "metadata": {},
   "outputs": [],
   "source": [
    "laptop = laptop.drop(\"Battery Backup\",axis=1)"
   ]
  },
  {
   "cell_type": "code",
   "execution_count": 64,
   "id": "6c25b324",
   "metadata": {},
   "outputs": [],
   "source": [
    "laptop = laptop.drop(\"Memory Slots\",axis=1)"
   ]
  },
  {
   "cell_type": "code",
   "execution_count": 65,
   "id": "fb7147de",
   "metadata": {},
   "outputs": [],
   "source": [
    "laptop['Weight'] = laptop['Weight'].str.extractall('(\\d.\\d+)').unstack().loc[:,0]"
   ]
  },
  {
   "cell_type": "code",
   "execution_count": 66,
   "id": "2ad417aa",
   "metadata": {},
   "outputs": [],
   "source": [
    "laptop['RAM'] = laptop['RAM'].apply(extractBytes)"
   ]
  },
  {
   "cell_type": "code",
   "execution_count": 67,
   "id": "dbc0c101",
   "metadata": {},
   "outputs": [],
   "source": [
    "laptop['Backlit Keyboard'] = laptop['Backlit Keyboard'].fillna(\"No\")\n",
    "laptop['Finger Print Sensor'] = laptop['Finger Print Sensor'].fillna(\"No\")\n",
    "laptop['Web Camera'] = laptop['Web Camera'].fillna(\"No\")\n",
    "laptop['Dedicated Graphic Memory Capacity in MB'] = laptop['Dedicated Graphic Memory Capacity in MB'].fillna(0.0)"
   ]
  },
  {
   "cell_type": "code",
   "execution_count": 68,
   "id": "820e25d7",
   "metadata": {},
   "outputs": [],
   "source": [
    "def extractbit(x):\n",
    "    if x is not np.nan:\n",
    "        return x.split(' ')[0]"
   ]
  },
  {
   "cell_type": "code",
   "execution_count": 69,
   "id": "0ef061a5",
   "metadata": {},
   "outputs": [],
   "source": [
    "laptop['OS Architecture'] = laptop['OS Architecture'].apply(extractbit)"
   ]
  },
  {
   "cell_type": "code",
   "execution_count": 70,
   "id": "f3b98f6a",
   "metadata": {},
   "outputs": [],
   "source": [
    "def extractWT(x):\n",
    "    if x is not np.nan:\n",
    "        return x.split(' ')[0]"
   ]
  },
  {
   "cell_type": "code",
   "execution_count": 71,
   "id": "571e4d32",
   "metadata": {},
   "outputs": [],
   "source": [
    "int_col = laptop.select_dtypes(include=[np.float]).columns"
   ]
  },
  {
   "cell_type": "code",
   "execution_count": 72,
   "id": "5442f248",
   "metadata": {},
   "outputs": [],
   "source": [
    "laptop_object = laptop.select_dtypes('object')"
   ]
  },
  {
   "cell_type": "code",
   "execution_count": 73,
   "id": "b3f09b7f",
   "metadata": {},
   "outputs": [],
   "source": [
    "laptop['Price'] = laptop['Price'].replace(',','', regex=True)\n",
    "laptop['Price'] = laptop['Price'].str.extract('(\\d+)').astype(float)"
   ]
  },
  {
   "cell_type": "code",
   "execution_count": 74,
   "id": "e10ee897",
   "metadata": {},
   "outputs": [],
   "source": [
    "laptop['user rating'] = laptop['user rating'].astype(int)"
   ]
  },
  {
   "cell_type": "code",
   "execution_count": 75,
   "id": "d1a71f8d",
   "metadata": {},
   "outputs": [],
   "source": [
    "laptop_x, laptop_y = laptop.drop(['user rating', 'Price'],axis=1), laptop[['user rating', 'Price']]"
   ]
  },
  {
   "cell_type": "code",
   "execution_count": 76,
   "id": "6d3690ba",
   "metadata": {},
   "outputs": [],
   "source": [
    "laptop_x_obj = laptop_x.select_dtypes('object')"
   ]
  },
  {
   "cell_type": "markdown",
   "id": "eef70fde",
   "metadata": {},
   "source": [
    "# fill NA with 0"
   ]
  },
  {
   "cell_type": "code",
   "execution_count": 77,
   "id": "dfba0a79",
   "metadata": {},
   "outputs": [],
   "source": [
    "laptop = laptop.fillna(0)"
   ]
  },
  {
   "cell_type": "markdown",
   "id": "931db6df",
   "metadata": {},
   "source": [
    "# For columns which do not have numerical form"
   ]
  },
  {
   "cell_type": "code",
   "execution_count": 78,
   "id": "128b8b44",
   "metadata": {},
   "outputs": [],
   "source": [
    "num_columns = laptop.select_dtypes(include=np.number).columns\n",
    "num_columns\n",
    "cat_columns = []\n",
    "for col in laptop.columns:\n",
    "    if col not in num_columns:\n",
    "        cat_columns.append(col)"
   ]
  },
  {
   "cell_type": "code",
   "execution_count": 79,
   "id": "0a0af106",
   "metadata": {},
   "outputs": [],
   "source": [
    "for cc in cat_columns:\n",
    "    laptop[cc] = pd.Categorical(laptop[cc])\n",
    "    laptop[cc] = laptop[cc].cat.codes"
   ]
  },
  {
   "cell_type": "code",
   "execution_count": 80,
   "id": "ad54d106",
   "metadata": {},
   "outputs": [],
   "source": [
    "laptop_x, laptop_y = laptop.drop(['user rating', 'Price'],axis=1), laptop[['user rating', 'Price']]"
   ]
  },
  {
   "cell_type": "markdown",
   "id": "6f62a81d",
   "metadata": {},
   "source": [
    "# Finding correlation"
   ]
  },
  {
   "cell_type": "code",
   "execution_count": 81,
   "id": "260a9de4",
   "metadata": {},
   "outputs": [],
   "source": [
    "corr_lap = laptop.corr()"
   ]
  },
  {
   "cell_type": "code",
   "execution_count": 82,
   "id": "19a30e91",
   "metadata": {},
   "outputs": [],
   "source": [
    "price_col_ = list(corr_lap[corr_lap['Price']>0.5]['Price'].index)"
   ]
  },
  {
   "cell_type": "code",
   "execution_count": 83,
   "id": "d4e3ce34",
   "metadata": {},
   "outputs": [],
   "source": [
    "corr_lap = laptop.corr()"
   ]
  },
  {
   "cell_type": "code",
   "execution_count": 84,
   "id": "041adfef",
   "metadata": {},
   "outputs": [],
   "source": [
    "userrating_col_ = list(corr_lap[corr_lap['user rating']>0.1]['user rating'].index)"
   ]
  },
  {
   "cell_type": "code",
   "execution_count": 85,
   "id": "585b8e56",
   "metadata": {},
   "outputs": [],
   "source": [
    "userrating_col = [col for col in userrating_col_ if col not in price_col_]"
   ]
  },
  {
   "cell_type": "code",
   "execution_count": 86,
   "id": "edf70b25",
   "metadata": {},
   "outputs": [],
   "source": [
    "rem_col = ['Price', 'user rating']"
   ]
  },
  {
   "cell_type": "code",
   "execution_count": 87,
   "id": "1596f5e3",
   "metadata": {},
   "outputs": [],
   "source": [
    "userrating_col = [col for col in userrating_col_ if col not in rem_col]\n",
    "price_col = [col for col in price_col_ if col not in rem_col]"
   ]
  },
  {
   "cell_type": "markdown",
   "id": "86a9d301",
   "metadata": {},
   "source": [
    "# Preparing the data for training, Validating and testing the model"
   ]
  },
  {
   "cell_type": "code",
   "execution_count": 88,
   "id": "e0fff183",
   "metadata": {},
   "outputs": [],
   "source": [
    "train_x, test_x = train_test_split(laptop_x,  random_state=42)"
   ]
  },
  {
   "cell_type": "code",
   "execution_count": 89,
   "id": "264f0554",
   "metadata": {},
   "outputs": [],
   "source": [
    "train_y, test_y = train_test_split(laptop_y,  random_state=42)"
   ]
  },
  {
   "cell_type": "code",
   "execution_count": 90,
   "id": "630c1462",
   "metadata": {},
   "outputs": [],
   "source": [
    "valid_x, test_x = train_test_split(test_x,  random_state=42)"
   ]
  },
  {
   "cell_type": "code",
   "execution_count": 91,
   "id": "247aa080",
   "metadata": {},
   "outputs": [],
   "source": [
    "valid_y, test_y = train_test_split(test_y,  random_state=42)"
   ]
  },
  {
   "cell_type": "code",
   "execution_count": 92,
   "id": "238f61f7",
   "metadata": {},
   "outputs": [],
   "source": [
    "train_price_x = train_x\n",
    "valid_price_x = valid_x\n",
    "test_price_x = test_x\n",
    "#train_user_x = train_x[price_col]\n",
    "#valid_user_x = valid_x[price_col]\n",
    "#test_user_x = test_x[price_col]\n",
    "train_rating_x = train_x[userrating_col]\n",
    "valid_rating_x = valid_x[userrating_col]\n",
    "test_rating_x =test_x[userrating_col]"
   ]
  },
  {
   "cell_type": "code",
   "execution_count": 93,
   "id": "8743afbc",
   "metadata": {},
   "outputs": [],
   "source": [
    "train_price_x = np.array(train_price_x, dtype=np.float32)\n",
    "valid_price_x = np.array(valid_price_x, dtype=np.float32)\n",
    "test_price_x = np.array(test_price_x, dtype=np.float32)\n",
    "train_rating_x = np.array(train_rating_x,dtype=np.float32)\n",
    "valid_rating_x =  np.array(valid_rating_x, dtype=np.float32)\n",
    "test_rating_x =  np.array(test_rating_x,dtype=np.float32)"
   ]
  },
  {
   "cell_type": "code",
   "execution_count": 94,
   "id": "eabc478e",
   "metadata": {},
   "outputs": [
    {
     "name": "stdout",
     "output_type": "stream",
     "text": [
      "517 517 129 129 44 44\n"
     ]
    }
   ],
   "source": [
    "print(len(train_x), len(train_y), len(valid_x), len(valid_y), len(test_x), len(test_y))"
   ]
  },
  {
   "cell_type": "markdown",
   "id": "f8c2e728",
   "metadata": {},
   "source": [
    "# Creating layers for the model  and visualizing it"
   ]
  },
  {
   "cell_type": "code",
   "execution_count": 95,
   "id": "638f1428",
   "metadata": {},
   "outputs": [],
   "source": [
    "input_1 = keras.layers.Input(shape=train_price_x[0].shape[0])\n",
    "input_2 = keras.layers.Input(shape=train_rating_x[0].shape[0])\n",
    "#input_3 = keras.layers.concatenate([input_1,input_2])\n",
    "hidden_1 = keras.layers.Dense(30,activation='relu')(input_1)\n",
    "hidden_2 = keras.layers.Dense(30,activation='relu')(hidden_1)\n",
    "hidden_3 = keras.layers.Dense(30,activation='relu')(hidden_2)\n",
    "hidden_4 = keras.layers.Dense(30,activation='relu')(hidden_3)\n",
    "hidden_5 = keras.layers.Dense(30,activation='relu')(hidden_4)\n",
    "concat = keras.layers.concatenate([input_2,hidden_4])\n",
    "output_1 = keras.layers.Dense(6,name='userrating', activation='softmax')(concat)\n",
    "output_2 = keras.layers.Dense(1, name='price')(hidden_4)\n",
    "\n",
    "model = keras.Model(inputs=[input_1, input_2], outputs=[output_1, output_2])"
   ]
  },
  {
   "cell_type": "code",
   "execution_count": 96,
   "id": "05164388",
   "metadata": {},
   "outputs": [
    {
     "name": "stdout",
     "output_type": "stream",
     "text": [
      "Model: \"model\"\n",
      "__________________________________________________________________________________________________\n",
      "Layer (type)                    Output Shape         Param #     Connected to                     \n",
      "==================================================================================================\n",
      "input_1 (InputLayer)            [(None, 41)]         0                                            \n",
      "__________________________________________________________________________________________________\n",
      "dense (Dense)                   (None, 30)           1260        input_1[0][0]                    \n",
      "__________________________________________________________________________________________________\n",
      "dense_1 (Dense)                 (None, 30)           930         dense[0][0]                      \n",
      "__________________________________________________________________________________________________\n",
      "dense_2 (Dense)                 (None, 30)           930         dense_1[0][0]                    \n",
      "__________________________________________________________________________________________________\n",
      "input_2 (InputLayer)            [(None, 14)]         0                                            \n",
      "__________________________________________________________________________________________________\n",
      "dense_3 (Dense)                 (None, 30)           930         dense_2[0][0]                    \n",
      "__________________________________________________________________________________________________\n",
      "concatenate (Concatenate)       (None, 44)           0           input_2[0][0]                    \n",
      "                                                                 dense_3[0][0]                    \n",
      "__________________________________________________________________________________________________\n",
      "userrating (Dense)              (None, 6)            270         concatenate[0][0]                \n",
      "__________________________________________________________________________________________________\n",
      "price (Dense)                   (None, 1)            31          dense_3[0][0]                    \n",
      "==================================================================================================\n",
      "Total params: 4,351\n",
      "Trainable params: 4,351\n",
      "Non-trainable params: 0\n",
      "__________________________________________________________________________________________________\n"
     ]
    }
   ],
   "source": [
    "model.summary()"
   ]
  },
  {
   "cell_type": "code",
   "execution_count": 97,
   "id": "aeb3e931",
   "metadata": {},
   "outputs": [
    {
     "data": {
      "image/png": "[encoded data removed]",
      "text/plain": [
       "<IPython.core.display.Image object>"
      ]
     },
     "execution_count": 97,
     "metadata": {},
     "output_type": "execute_result"
    }
   ],
   "source": [
    "keras.utils.plot_model(model)"
   ]
  },
  {
   "cell_type": "markdown",
   "id": "25577fad",
   "metadata": {},
   "source": [
    "# Compiling and building a multi input multi output model"
   ]
  },
  {
   "cell_type": "code",
   "execution_count": 98,
   "id": "1649426c",
   "metadata": {
    "scrolled": false
   },
   "outputs": [
    {
     "name": "stdout",
     "output_type": "stream",
     "text": [
      "Epoch 1/100\n",
      "17/17 [==============================] - 1s 21ms/step - loss: 4533285262.2222 - userrating_loss: 43.5718 - price_loss: 4533285262.2222 - userrating_accuracy: 0.0310 - price_root_mean_squared_error: 67326.6345 - val_loss: 4181021184.0000 - val_userrating_loss: 36.2164 - val_price_loss: 4181021184.0000 - val_userrating_accuracy: 0.0930 - val_price_root_mean_squared_error: 64660.8164\n",
      "Epoch 2/100\n",
      "17/17 [==============================] - 0s 3ms/step - loss: 4419872071.1111 - userrating_loss: 37.4242 - price_loss: 4419872071.1111 - userrating_accuracy: 0.0694 - price_root_mean_squared_error: 66451.2335 - val_loss: 4180208128.0000 - val_userrating_loss: 33.1569 - val_price_loss: 4180208128.0000 - val_userrating_accuracy: 0.1395 - val_price_root_mean_squared_error: 64654.5273\n",
      "Epoch 3/100\n",
      "17/17 [==============================] - 0s 4ms/step - loss: 4562263352.8889 - userrating_loss: 34.6283 - price_loss: 4562263352.8889 - userrating_accuracy: 0.0892 - price_root_mean_squared_error: 67540.5521 - val_loss: 4179472384.0000 - val_userrating_loss: 30.8854 - val_price_loss: 4179472384.0000 - val_userrating_accuracy: 0.1783 - val_price_root_mean_squared_error: 64648.8398\n",
      "Epoch 4/100\n",
      "17/17 [==============================] - 0s 4ms/step - loss: 4647180700.4444 - userrating_loss: 32.4353 - price_loss: 4647180700.4444 - userrating_accuracy: 0.1279 - price_root_mean_squared_error: 68152.8162 - val_loss: 4178792704.0000 - val_userrating_loss: 29.3860 - val_price_loss: 4178792704.0000 - val_userrating_accuracy: 0.2171 - val_price_root_mean_squared_error: 64643.5820\n",
      "Epoch 5/100\n",
      "17/17 [==============================] - 0s 3ms/step - loss: 4455539384.8889 - userrating_loss: 31.9307 - price_loss: 4455539384.8889 - userrating_accuracy: 0.1583 - price_root_mean_squared_error: 66730.9620 - val_loss: 4178141440.0000 - val_userrating_loss: 28.5392 - val_price_loss: 4178141440.0000 - val_userrating_accuracy: 0.3023 - val_price_root_mean_squared_error: 64638.5430\n",
      "Epoch 6/100\n",
      "17/17 [==============================] - 0s 4ms/step - loss: 4645646108.4444 - userrating_loss: 31.2090 - price_loss: 4645646108.4444 - userrating_accuracy: 0.2119 - price_root_mean_squared_error: 68073.2934 - val_loss: 4177461248.0000 - val_userrating_loss: 28.3354 - val_price_loss: 4177461248.0000 - val_userrating_accuracy: 0.3333 - val_price_root_mean_squared_error: 64633.2812\n",
      "Epoch 7/100\n",
      "17/17 [==============================] - 0s 3ms/step - loss: 4734828714.6667 - userrating_loss: 30.2904 - price_loss: 4734828714.6667 - userrating_accuracy: 0.2399 - price_root_mean_squared_error: 68777.2778 - val_loss: 4176776448.0000 - val_userrating_loss: 28.7756 - val_price_loss: 4176776448.0000 - val_userrating_accuracy: 0.3178 - val_price_root_mean_squared_error: 64627.9844\n",
      "Epoch 8/100\n",
      "17/17 [==============================] - 0s 3ms/step - loss: 4596006769.7778 - userrating_loss: 32.1039 - price_loss: 4596006769.7778 - userrating_accuracy: 0.2559 - price_root_mean_squared_error: 67741.1756 - val_loss: 4176034304.0000 - val_userrating_loss: 29.7276 - val_price_loss: 4176034304.0000 - val_userrating_accuracy: 0.2868 - val_price_root_mean_squared_error: 64622.2422\n",
      "Epoch 9/100\n",
      "17/17 [==============================] - 0s 4ms/step - loss: 4845019448.8889 - userrating_loss: 33.5359 - price_loss: 4845019448.8889 - userrating_accuracy: 0.2040 - price_root_mean_squared_error: 69573.9970 - val_loss: 4175157760.0000 - val_userrating_loss: 31.4128 - val_price_loss: 4175157760.0000 - val_userrating_accuracy: 0.2636 - val_price_root_mean_squared_error: 64615.4609\n",
      "Epoch 10/100\n",
      "17/17 [==============================] - 0s 3ms/step - loss: 4420438727.1111 - userrating_loss: 37.1205 - price_loss: 4420438727.1111 - userrating_accuracy: 0.1962 - price_root_mean_squared_error: 66407.5158 - val_loss: 4174134784.0000 - val_userrating_loss: 33.8129 - val_price_loss: 4174134784.0000 - val_userrating_accuracy: 0.2171 - val_price_root_mean_squared_error: 64607.5430\n",
      "Epoch 11/100\n",
      "17/17 [==============================] - 0s 3ms/step - loss: 4436920334.2222 - userrating_loss: 35.2982 - price_loss: 4436920334.2222 - userrating_accuracy: 0.1984 - price_root_mean_squared_error: 66595.6866 - val_loss: 4172915200.0000 - val_userrating_loss: 37.1186 - val_price_loss: 4172915200.0000 - val_userrating_accuracy: 0.1628 - val_price_root_mean_squared_error: 64598.1055\n",
      "Epoch 12/100\n",
      "17/17 [==============================] - 0s 3ms/step - loss: 4544113905.7778 - userrating_loss: 42.5057 - price_loss: 4544113905.7778 - userrating_accuracy: 0.1337 - price_root_mean_squared_error: 67349.0751 - val_loss: 4171396096.0000 - val_userrating_loss: 41.5413 - val_price_loss: 4171396096.0000 - val_userrating_accuracy: 0.1395 - val_price_root_mean_squared_error: 64586.3477\n",
      "Epoch 13/100\n",
      "17/17 [==============================] - 0s 3ms/step - loss: 4501427200.0000 - userrating_loss: 49.6555 - price_loss: 4501427200.0000 - userrating_accuracy: 0.0766 - price_root_mean_squared_error: 67002.7752 - val_loss: 4169474048.0000 - val_userrating_loss: 47.0704 - val_price_loss: 4169474048.0000 - val_userrating_accuracy: 0.1085 - val_price_root_mean_squared_error: 64571.4648\n",
      "Epoch 14/100\n",
      "17/17 [==============================] - 0s 2ms/step - loss: 4526539477.3333 - userrating_loss: 57.2217 - price_loss: 4526539477.3333 - userrating_accuracy: 0.0522 - price_root_mean_squared_error: 67272.9701 - val_loss: 4167178752.0000 - val_userrating_loss: 53.2969 - val_price_loss: 4167178752.0000 - val_userrating_accuracy: 0.0698 - val_price_root_mean_squared_error: 64553.6875\n",
      "Epoch 15/100\n",
      "17/17 [==============================] - 0s 4ms/step - loss: 4477342691.5556 - userrating_loss: 60.4755 - price_loss: 4477342691.5556 - userrating_accuracy: 0.0323 - price_root_mean_squared_error: 66891.8830 - val_loss: 4164358656.0000 - val_userrating_loss: 60.2317 - val_price_loss: 4164358656.0000 - val_userrating_accuracy: 0.0310 - val_price_root_mean_squared_error: 64531.8438\n",
      "Epoch 16/100\n",
      "17/17 [==============================] - 0s 3ms/step - loss: 4553968654.2222 - userrating_loss: 70.0542 - price_loss: 4553968654.2222 - userrating_accuracy: 0.0168 - price_root_mean_squared_error: 67458.3234 - val_loss: 4160907520.0000 - val_userrating_loss: 67.9466 - val_price_loss: 4160907520.0000 - val_userrating_accuracy: 0.0078 - val_price_root_mean_squared_error: 64505.0977\n",
      "Epoch 17/100\n",
      "17/17 [==============================] - 0s 3ms/step - loss: 4518299904.0000 - userrating_loss: 74.9674 - price_loss: 4518299904.0000 - userrating_accuracy: 0.0123 - price_root_mean_squared_error: 67189.5102 - val_loss: 4156686592.0000 - val_userrating_loss: 76.4306 - val_price_loss: 4156686592.0000 - val_userrating_accuracy: 0.0078 - val_price_root_mean_squared_error: 64472.3711\n",
      "Epoch 18/100\n",
      "17/17 [==============================] - 0s 3ms/step - loss: 4847731882.6667 - userrating_loss: 87.1393 - price_loss: 4847731882.6667 - userrating_accuracy: 0.0035 - price_root_mean_squared_error: 69602.8611 - val_loss: 4151303936.0000 - val_userrating_loss: 85.7070 - val_price_loss: 4151303936.0000 - val_userrating_accuracy: 0.0078 - val_price_root_mean_squared_error: 64430.6133\n",
      "Epoch 19/100\n",
      "17/17 [==============================] - 0s 3ms/step - loss: 4528744135.1111 - userrating_loss: 93.4389 - price_loss: 4528744135.1111 - userrating_accuracy: 0.0000e+00 - price_root_mean_squared_error: 67282.7207 - val_loss: 4144712192.0000 - val_userrating_loss: 94.1361 - val_price_loss: 4144712192.0000 - val_userrating_accuracy: 0.0078 - val_price_root_mean_squared_error: 64379.4375\n",
      "Epoch 20/100\n",
      "17/17 [==============================] - 0s 3ms/step - loss: 4466909966.2222 - userrating_loss: 104.0904 - price_loss: 4466909966.2222 - userrating_accuracy: 0.0000e+00 - price_root_mean_squared_error: 66790.1272 - val_loss: 4136293376.0000 - val_userrating_loss: 100.6655 - val_price_loss: 4136293376.0000 - val_userrating_accuracy: 0.0078 - val_price_root_mean_squared_error: 64314.0234\n",
      "Epoch 21/100\n",
      "17/17 [==============================] - 0s 3ms/step - loss: 4815882097.7778 - userrating_loss: 111.2229 - price_loss: 4815882097.7778 - userrating_accuracy: 0.0000e+00 - price_root_mean_squared_error: 69308.2222 - val_loss: 4125943552.0000 - val_userrating_loss: 104.6346 - val_price_loss: 4125943552.0000 - val_userrating_accuracy: 0.0078 - val_price_root_mean_squared_error: 64233.5078\n"
     ]
    },
    {
     "name": "stdout",
     "output_type": "stream",
     "text": [
      "Epoch 22/100\n",
      "17/17 [==============================] - 0s 2ms/step - loss: 4310190606.2222 - userrating_loss: 110.4664 - price_loss: 4310190606.2222 - userrating_accuracy: 0.0000e+00 - price_root_mean_squared_error: 65606.9128 - val_loss: 4113159936.0000 - val_userrating_loss: 106.5667 - val_price_loss: 4113159936.0000 - val_userrating_accuracy: 0.0078 - val_price_root_mean_squared_error: 64133.9219\n",
      "Epoch 23/100\n",
      "17/17 [==============================] - 0s 3ms/step - loss: 4871547960.8889 - userrating_loss: 119.5719 - price_loss: 4871547960.8889 - userrating_accuracy: 8.4139e-04 - price_root_mean_squared_error: 69762.5564 - val_loss: 4097289216.0000 - val_userrating_loss: 105.9068 - val_price_loss: 4097289216.0000 - val_userrating_accuracy: 0.0078 - val_price_root_mean_squared_error: 64010.0703\n",
      "Epoch 24/100\n",
      "17/17 [==============================] - 0s 3ms/step - loss: 4628899953.7778 - userrating_loss: 117.0604 - price_loss: 4628899697.7778 - userrating_accuracy: 0.0042 - price_root_mean_squared_error: 68009.9961 - val_loss: 4078978048.0000 - val_userrating_loss: 99.6018 - val_price_loss: 4078978048.0000 - val_userrating_accuracy: 0.0078 - val_price_root_mean_squared_error: 63866.8789\n",
      "Epoch 25/100\n",
      "17/17 [==============================] - 0s 3ms/step - loss: 4577260174.2222 - userrating_loss: 110.8509 - price_loss: 4577260174.2222 - userrating_accuracy: 0.0108 - price_root_mean_squared_error: 67639.3646 - val_loss: 4056772352.0000 - val_userrating_loss: 86.4359 - val_price_loss: 4056772352.0000 - val_userrating_accuracy: 0.0543 - val_price_root_mean_squared_error: 63692.7969\n",
      "Epoch 26/100\n",
      "17/17 [==============================] - 0s 3ms/step - loss: 4842903751.1111 - userrating_loss: 98.3989 - price_loss: 4842903751.1111 - userrating_accuracy: 0.0838 - price_root_mean_squared_error: 69413.9089 - val_loss: 4029214976.0000 - val_userrating_loss: 70.4435 - val_price_loss: 4029214976.0000 - val_userrating_accuracy: 0.2791 - val_price_root_mean_squared_error: 63476.0977\n",
      "Epoch 27/100\n",
      "17/17 [==============================] - 0s 4ms/step - loss: 4340959445.3333 - userrating_loss: 69.5408 - price_loss: 4340959445.3333 - userrating_accuracy: 0.3561 - price_root_mean_squared_error: 65858.6643 - val_loss: 3996768256.0000 - val_userrating_loss: 64.9672 - val_price_loss: 3996768256.0000 - val_userrating_accuracy: 0.6512 - val_price_root_mean_squared_error: 63220.0000\n",
      "Epoch 28/100\n",
      "17/17 [==============================] - 0s 3ms/step - loss: 4532400640.0000 - userrating_loss: 72.2126 - price_loss: 4532400640.0000 - userrating_accuracy: 0.6193 - price_root_mean_squared_error: 67287.3843 - val_loss: 3958122496.0000 - val_userrating_loss: 67.4825 - val_price_loss: 3958122496.0000 - val_userrating_accuracy: 0.7364 - val_price_root_mean_squared_error: 62913.6133\n",
      "Epoch 29/100\n",
      "17/17 [==============================] - 0s 3ms/step - loss: 4530897123.5556 - userrating_loss: 74.4460 - price_loss: 4530897123.5556 - userrating_accuracy: 0.7450 - price_root_mean_squared_error: 67243.5855 - val_loss: 3913268992.0000 - val_userrating_loss: 68.8743 - val_price_loss: 3913268992.0000 - val_userrating_accuracy: 0.7597 - val_price_root_mean_squared_error: 62556.1250\n",
      "Epoch 30/100\n",
      "17/17 [==============================] - 0s 3ms/step - loss: 4214058936.8889 - userrating_loss: 74.6531 - price_loss: 4214058936.8889 - userrating_accuracy: 0.7534 - price_root_mean_squared_error: 64906.1380 - val_loss: 3860723968.0000 - val_userrating_loss: 68.0341 - val_price_loss: 3860723968.0000 - val_userrating_accuracy: 0.7597 - val_price_root_mean_squared_error: 62134.7227\n",
      "Epoch 31/100\n",
      "17/17 [==============================] - 0s 3ms/step - loss: 4096993763.5556 - userrating_loss: 83.3074 - price_loss: 4096993763.5556 - userrating_accuracy: 0.7617 - price_root_mean_squared_error: 63986.2925 - val_loss: 3799805440.0000 - val_userrating_loss: 64.7763 - val_price_loss: 3799805440.0000 - val_userrating_accuracy: 0.7674 - val_price_root_mean_squared_error: 61642.5625\n",
      "Epoch 32/100\n",
      "17/17 [==============================] - 0s 2ms/step - loss: 4144942464.0000 - userrating_loss: 79.6831 - price_loss: 4144942464.0000 - userrating_accuracy: 0.7537 - price_root_mean_squared_error: 64364.5688 - val_loss: 3729342976.0000 - val_userrating_loss: 57.6221 - val_price_loss: 3729342976.0000 - val_userrating_accuracy: 0.7597 - val_price_root_mean_squared_error: 61068.3477\n",
      "Epoch 33/100\n",
      "17/17 [==============================] - 0s 6ms/step - loss: 4147723377.7778 - userrating_loss: 63.7300 - price_loss: 4147723377.7778 - userrating_accuracy: 0.7634 - price_root_mean_squared_error: 64379.0614 - val_loss: 3646749696.0000 - val_userrating_loss: 46.4218 - val_price_loss: 3646749696.0000 - val_userrating_accuracy: 0.7519 - val_price_root_mean_squared_error: 60388.3242\n",
      "Epoch 34/100\n",
      "17/17 [==============================] - 0s 4ms/step - loss: 3928860686.2222 - userrating_loss: 75.8129 - price_loss: 3928860657.7778 - userrating_accuracy: 0.7235 - price_root_mean_squared_error: 62664.8678 - val_loss: 3554579200.0000 - val_userrating_loss: 32.9878 - val_price_loss: 3554579200.0000 - val_userrating_accuracy: 0.7287 - val_price_root_mean_squared_error: 59620.2930\n",
      "Epoch 35/100\n",
      "17/17 [==============================] - 0s 3ms/step - loss: 3727468814.2222 - userrating_loss: 47.6368 - price_loss: 3727468814.2222 - userrating_accuracy: 0.6463 - price_root_mean_squared_error: 61002.0256 - val_loss: 3450347520.0000 - val_userrating_loss: 34.7031 - val_price_loss: 3450347520.0000 - val_userrating_accuracy: 0.7287 - val_price_root_mean_squared_error: 58739.6602\n",
      "Epoch 36/100\n",
      "17/17 [==============================] - 0s 3ms/step - loss: 3905520341.3333 - userrating_loss: 60.9234 - price_loss: 3905520341.3333 - userrating_accuracy: 0.7384 - price_root_mean_squared_error: 62481.6691 - val_loss: 3333858560.0000 - val_userrating_loss: 34.0829 - val_price_loss: 3333858560.0000 - val_userrating_accuracy: 0.7054 - val_price_root_mean_squared_error: 57739.5742\n",
      "Epoch 37/100\n",
      "17/17 [==============================] - 0s 3ms/step - loss: 3798878862.2222 - userrating_loss: 65.6399 - price_loss: 3798878862.2222 - userrating_accuracy: 0.6581 - price_root_mean_squared_error: 61580.4182 - val_loss: 3203384576.0000 - val_userrating_loss: 34.2733 - val_price_loss: 3203384576.0000 - val_userrating_accuracy: 0.7287 - val_price_root_mean_squared_error: 56598.4492\n",
      "Epoch 38/100\n",
      "17/17 [==============================] - 0s 3ms/step - loss: 3523147249.7778 - userrating_loss: 63.3403 - price_loss: 3523147249.7778 - userrating_accuracy: 0.6940 - price_root_mean_squared_error: 59330.7025 - val_loss: 3061889792.0000 - val_userrating_loss: 33.4467 - val_price_loss: 3061889792.0000 - val_userrating_accuracy: 0.6279 - val_price_root_mean_squared_error: 55334.3438\n",
      "Epoch 39/100\n",
      "17/17 [==============================] - 0s 3ms/step - loss: 3414382108.4444 - userrating_loss: 64.4349 - price_loss: 3414382023.1111 - userrating_accuracy: 0.6582 - price_root_mean_squared_error: 58424.2951 - val_loss: 2909260800.0000 - val_userrating_loss: 34.7874 - val_price_loss: 2909260800.0000 - val_userrating_accuracy: 0.7209 - val_price_root_mean_squared_error: 53937.5625\n",
      "Epoch 40/100\n",
      "17/17 [==============================] - 0s 4ms/step - loss: 3047511025.7778 - userrating_loss: 53.9313 - price_loss: 3047511025.7778 - userrating_accuracy: 0.7484 - price_root_mean_squared_error: 55180.0584 - val_loss: 2744386304.0000 - val_userrating_loss: 36.4388 - val_price_loss: 2744386304.0000 - val_userrating_accuracy: 0.6434 - val_price_root_mean_squared_error: 52386.8906\n",
      "Epoch 41/100\n",
      "17/17 [==============================] - 0s 3ms/step - loss: 3001887729.7778 - userrating_loss: 48.2756 - price_loss: 3001887715.5556 - userrating_accuracy: 0.6468 - price_root_mean_squared_error: 54728.4831 - val_loss: 2567585792.0000 - val_userrating_loss: 36.4444 - val_price_loss: 2567585792.0000 - val_userrating_accuracy: 0.6667 - val_price_root_mean_squared_error: 50671.3516\n",
      "Epoch 42/100\n",
      "17/17 [==============================] - 0s 3ms/step - loss: 2831962695.1111 - userrating_loss: 65.4703 - price_loss: 2831962638.2222 - userrating_accuracy: 0.7094 - price_root_mean_squared_error: 53204.3464 - val_loss: 2383004928.0000 - val_userrating_loss: 36.6176 - val_price_loss: 2383004928.0000 - val_userrating_accuracy: 0.6977 - val_price_root_mean_squared_error: 48816.0312\n"
     ]
    },
    {
     "name": "stdout",
     "output_type": "stream",
     "text": [
      "Epoch 43/100\n",
      "17/17 [==============================] - 0s 3ms/step - loss: 2621026787.5556 - userrating_loss: 74.1355 - price_loss: 2621026787.5556 - userrating_accuracy: 0.6453 - price_root_mean_squared_error: 51178.6237 - val_loss: 2196312576.0000 - val_userrating_loss: 37.1733 - val_price_loss: 2196312576.0000 - val_userrating_accuracy: 0.7364 - val_price_root_mean_squared_error: 46864.8320\n",
      "Epoch 44/100\n",
      "17/17 [==============================] - 0s 4ms/step - loss: 2610334407.1111 - userrating_loss: 86.9889 - price_loss: 2610334065.7778 - userrating_accuracy: 0.6792 - price_root_mean_squared_error: 51025.5516 - val_loss: 2005551104.0000 - val_userrating_loss: 39.2556 - val_price_loss: 2005551104.0000 - val_userrating_accuracy: 0.7597 - val_price_root_mean_squared_error: 44783.3789\n",
      "Epoch 45/100\n",
      "17/17 [==============================] - 0s 3ms/step - loss: 2139773738.6667 - userrating_loss: 82.1393 - price_loss: 2139773511.1111 - userrating_accuracy: 0.7280 - price_root_mean_squared_error: 46192.0799 - val_loss: 1812841984.0000 - val_userrating_loss: 35.8946 - val_price_loss: 1812841984.0000 - val_userrating_accuracy: 0.7364 - val_price_root_mean_squared_error: 42577.4805\n",
      "Epoch 46/100\n",
      "17/17 [==============================] - 0s 2ms/step - loss: 2061158698.6667 - userrating_loss: 58.6541 - price_loss: 2061158698.6667 - userrating_accuracy: 0.6987 - price_root_mean_squared_error: 45387.2795 - val_loss: 1617239680.0000 - val_userrating_loss: 34.2340 - val_price_loss: 1617239680.0000 - val_userrating_accuracy: 0.7364 - val_price_root_mean_squared_error: 40214.9180\n",
      "Epoch 47/100\n",
      "17/17 [==============================] - 0s 3ms/step - loss: 1935578588.4444 - userrating_loss: 90.7077 - price_loss: 1935578503.1111 - userrating_accuracy: 0.6979 - price_root_mean_squared_error: 43908.8262 - val_loss: 1436301440.0000 - val_userrating_loss: 32.9799 - val_price_loss: 1436301440.0000 - val_userrating_accuracy: 0.7519 - val_price_root_mean_squared_error: 37898.5664\n",
      "Epoch 48/100\n",
      "17/17 [==============================] - 0s 3ms/step - loss: 1525964504.8889 - userrating_loss: 61.6032 - price_loss: 1525964401.7778 - userrating_accuracy: 0.6994 - price_root_mean_squared_error: 38915.5165 - val_loss: 1261125760.0000 - val_userrating_loss: 31.2535 - val_price_loss: 1261125760.0000 - val_userrating_accuracy: 0.6047 - val_price_root_mean_squared_error: 35512.3320\n",
      "Epoch 49/100\n",
      "17/17 [==============================] - 0s 3ms/step - loss: 1407769628.4444 - userrating_loss: 62.2571 - price_loss: 1407769621.3333 - userrating_accuracy: 0.6381 - price_root_mean_squared_error: 37491.6925 - val_loss: 1103864320.0000 - val_userrating_loss: 29.5699 - val_price_loss: 1103864320.0000 - val_userrating_accuracy: 0.7597 - val_price_root_mean_squared_error: 33224.4531\n",
      "Epoch 50/100\n",
      "17/17 [==============================] - 0s 4ms/step - loss: 1296685230.2222 - userrating_loss: 60.5078 - price_loss: 1296685059.5556 - userrating_accuracy: 0.7400 - price_root_mean_squared_error: 35865.5432 - val_loss: 960740352.0000 - val_userrating_loss: 27.8776 - val_price_loss: 960740352.0000 - val_userrating_accuracy: 0.7519 - val_price_root_mean_squared_error: 30995.8125\n",
      "Epoch 51/100\n",
      "17/17 [==============================] - 0s 3ms/step - loss: 1202602730.6667 - userrating_loss: 34.6300 - price_loss: 1202602645.3333 - userrating_accuracy: 0.7202 - price_root_mean_squared_error: 34644.6738 - val_loss: 836535808.0000 - val_userrating_loss: 24.8019 - val_price_loss: 836535808.0000 - val_userrating_accuracy: 0.5194 - val_price_root_mean_squared_error: 28922.9297\n",
      "Epoch 52/100\n",
      "17/17 [==============================] - 0s 3ms/step - loss: 1104069233.7778 - userrating_loss: 26.7439 - price_loss: 1104069212.4444 - userrating_accuracy: 0.6502 - price_root_mean_squared_error: 33175.3180 - val_loss: 730220288.0000 - val_userrating_loss: 15.7301 - val_price_loss: 730220288.0000 - val_userrating_accuracy: 0.6512 - val_price_root_mean_squared_error: 27022.5879\n",
      "Epoch 53/100\n",
      "17/17 [==============================] - 0s 3ms/step - loss: 685968329.7778 - userrating_loss: 16.2741 - price_loss: 685968259.5556 - userrating_accuracy: 0.6821 - price_root_mean_squared_error: 25858.9833 - val_loss: 645236160.0000 - val_userrating_loss: 13.2123 - val_price_loss: 645236160.0000 - val_userrating_accuracy: 0.7519 - val_price_root_mean_squared_error: 25401.5000\n",
      "Epoch 54/100\n",
      "17/17 [==============================] - 0s 3ms/step - loss: 738627729.7778 - userrating_loss: 12.2294 - price_loss: 738627729.7778 - userrating_accuracy: 0.7384 - price_root_mean_squared_error: 27100.5641 - val_loss: 576167936.0000 - val_userrating_loss: 11.0437 - val_price_loss: 576167936.0000 - val_userrating_accuracy: 0.6124 - val_price_root_mean_squared_error: 24003.4980\n",
      "Epoch 55/100\n",
      "17/17 [==============================] - 0s 4ms/step - loss: 870351093.3333 - userrating_loss: 12.8379 - price_loss: 870351093.3333 - userrating_accuracy: 0.6225 - price_root_mean_squared_error: 29451.8937 - val_loss: 519167904.0000 - val_userrating_loss: 15.5762 - val_price_loss: 519167904.0000 - val_userrating_accuracy: 0.7674 - val_price_root_mean_squared_error: 22785.2559\n",
      "Epoch 56/100\n",
      "17/17 [==============================] - 0s 3ms/step - loss: 669269600.0000 - userrating_loss: 13.4843 - price_loss: 669269600.0000 - userrating_accuracy: 0.7349 - price_root_mean_squared_error: 25845.1595 - val_loss: 478300576.0000 - val_userrating_loss: 10.6495 - val_price_loss: 478300544.0000 - val_userrating_accuracy: 0.7442 - val_price_root_mean_squared_error: 21870.0840\n",
      "Epoch 57/100\n",
      "17/17 [==============================] - 0s 3ms/step - loss: 791405095.1111 - userrating_loss: 11.9548 - price_loss: 791405024.0000 - userrating_accuracy: 0.7003 - price_root_mean_squared_error: 27997.6288 - val_loss: 450808096.0000 - val_userrating_loss: 9.5010 - val_price_loss: 450808096.0000 - val_userrating_accuracy: 0.6977 - val_price_root_mean_squared_error: 21232.2422\n",
      "Epoch 58/100\n",
      "17/17 [==============================] - 0s 4ms/step - loss: 681579729.7778 - userrating_loss: 10.6501 - price_loss: 681579729.7778 - userrating_accuracy: 0.6360 - price_root_mean_squared_error: 26080.2580 - val_loss: 434040032.0000 - val_userrating_loss: 14.2395 - val_price_loss: 434040000.0000 - val_userrating_accuracy: 0.7519 - val_price_root_mean_squared_error: 20833.6270\n",
      "Epoch 59/100\n",
      "17/17 [==============================] - 0s 3ms/step - loss: 598807939.5556 - userrating_loss: 10.6780 - price_loss: 598807928.8889 - userrating_accuracy: 0.6816 - price_root_mean_squared_error: 24435.6764 - val_loss: 421813280.0000 - val_userrating_loss: 9.7449 - val_price_loss: 421813280.0000 - val_userrating_accuracy: 0.7287 - val_price_root_mean_squared_error: 20538.0938\n",
      "Epoch 60/100\n",
      "17/17 [==============================] - 0s 3ms/step - loss: 517971032.8889 - userrating_loss: 9.1807 - price_loss: 517971032.8889 - userrating_accuracy: 0.7162 - price_root_mean_squared_error: 22718.1897 - val_loss: 414120544.0000 - val_userrating_loss: 10.4996 - val_price_loss: 414120544.0000 - val_userrating_accuracy: 0.6744 - val_price_root_mean_squared_error: 20349.9512\n",
      "Epoch 61/100\n",
      "17/17 [==============================] - 0s 3ms/step - loss: 538166254.2222 - userrating_loss: 11.1084 - price_loss: 538166252.4444 - userrating_accuracy: 0.6811 - price_root_mean_squared_error: 23082.2786 - val_loss: 408075744.0000 - val_userrating_loss: 10.6929 - val_price_loss: 408075744.0000 - val_userrating_accuracy: 0.7364 - val_price_root_mean_squared_error: 20200.8848\n",
      "Epoch 62/100\n",
      "17/17 [==============================] - 0s 3ms/step - loss: 652055377.7778 - userrating_loss: 8.7193 - price_loss: 652055377.7778 - userrating_accuracy: 0.7058 - price_root_mean_squared_error: 25456.7945 - val_loss: 404508000.0000 - val_userrating_loss: 10.8937 - val_price_loss: 404508000.0000 - val_userrating_accuracy: 0.7287 - val_price_root_mean_squared_error: 20112.3848\n",
      "Epoch 63/100\n",
      "17/17 [==============================] - 0s 2ms/step - loss: 685065649.7778 - userrating_loss: 9.8665 - price_loss: 685065649.7778 - userrating_accuracy: 0.6540 - price_root_mean_squared_error: 26061.9935 - val_loss: 401346144.0000 - val_userrating_loss: 10.4388 - val_price_loss: 401346080.0000 - val_userrating_accuracy: 0.6202 - val_price_root_mean_squared_error: 20033.6230\n"
     ]
    },
    {
     "name": "stdout",
     "output_type": "stream",
     "text": [
      "Epoch 64/100\n",
      "17/17 [==============================] - 0s 3ms/step - loss: 611897240.8889 - userrating_loss: 9.0690 - price_loss: 611897240.8889 - userrating_accuracy: 0.6843 - price_root_mean_squared_error: 24700.3817 - val_loss: 398899872.0000 - val_userrating_loss: 12.5572 - val_price_loss: 398899872.0000 - val_userrating_accuracy: 0.7597 - val_price_root_mean_squared_error: 19972.4785\n",
      "Epoch 65/100\n",
      "17/17 [==============================] - 0s 3ms/step - loss: 574905676.4444 - userrating_loss: 9.4119 - price_loss: 574905676.4444 - userrating_accuracy: 0.6760 - price_root_mean_squared_error: 23958.6621 - val_loss: 396605440.0000 - val_userrating_loss: 12.0018 - val_price_loss: 396605440.0000 - val_userrating_accuracy: 0.7519 - val_price_root_mean_squared_error: 19914.9551\n",
      "Epoch 66/100\n",
      "17/17 [==============================] - 0s 3ms/step - loss: 642911978.6667 - userrating_loss: 12.5752 - price_loss: 642911978.6667 - userrating_accuracy: 0.7031 - price_root_mean_squared_error: 25275.9998 - val_loss: 394446592.0000 - val_userrating_loss: 18.0258 - val_price_loss: 394446592.0000 - val_userrating_accuracy: 0.7597 - val_price_root_mean_squared_error: 19860.6797\n",
      "Epoch 67/100\n",
      "17/17 [==============================] - 0s 5ms/step - loss: 475028826.6667 - userrating_loss: 10.6762 - price_loss: 475028826.6667 - userrating_accuracy: 0.7003 - price_root_mean_squared_error: 21747.5906 - val_loss: 392492992.0000 - val_userrating_loss: 9.9118 - val_price_loss: 392492960.0000 - val_userrating_accuracy: 0.7054 - val_price_root_mean_squared_error: 19811.4355\n",
      "Epoch 68/100\n",
      "17/17 [==============================] - 0s 4ms/step - loss: 592734938.6667 - userrating_loss: 10.7562 - price_loss: 592734938.6667 - userrating_accuracy: 0.6026 - price_root_mean_squared_error: 24325.4761 - val_loss: 390408288.0000 - val_userrating_loss: 10.9445 - val_price_loss: 390408288.0000 - val_userrating_accuracy: 0.7442 - val_price_root_mean_squared_error: 19758.7520\n",
      "Epoch 69/100\n",
      "17/17 [==============================] - 0s 4ms/step - loss: 501286307.5556 - userrating_loss: 9.7067 - price_loss: 501286307.5556 - userrating_accuracy: 0.7672 - price_root_mean_squared_error: 22327.8030 - val_loss: 388650464.0000 - val_userrating_loss: 11.0636 - val_price_loss: 388650464.0000 - val_userrating_accuracy: 0.7209 - val_price_root_mean_squared_error: 19714.2207\n",
      "Epoch 70/100\n",
      "17/17 [==============================] - 0s 3ms/step - loss: 495750673.7778 - userrating_loss: 9.4166 - price_loss: 495750673.7778 - userrating_accuracy: 0.7089 - price_root_mean_squared_error: 22229.2275 - val_loss: 386608576.0000 - val_userrating_loss: 10.6545 - val_price_loss: 386608544.0000 - val_userrating_accuracy: 0.6434 - val_price_root_mean_squared_error: 19662.3633\n",
      "Epoch 71/100\n",
      "17/17 [==============================] - 0s 3ms/step - loss: 575013957.3333 - userrating_loss: 10.5978 - price_loss: 575013957.3333 - userrating_accuracy: 0.6108 - price_root_mean_squared_error: 23902.9885 - val_loss: 384787008.0000 - val_userrating_loss: 12.0505 - val_price_loss: 384787008.0000 - val_userrating_accuracy: 0.6202 - val_price_root_mean_squared_error: 19615.9883\n",
      "Epoch 72/100\n",
      "17/17 [==============================] - 0s 3ms/step - loss: 496374211.5556 - userrating_loss: 10.4352 - price_loss: 496374210.6667 - userrating_accuracy: 0.6337 - price_root_mean_squared_error: 22197.7300 - val_loss: 382535008.0000 - val_userrating_loss: 12.0272 - val_price_loss: 382535008.0000 - val_userrating_accuracy: 0.7519 - val_price_root_mean_squared_error: 19558.5020\n",
      "Epoch 73/100\n",
      "17/17 [==============================] - 0s 3ms/step - loss: 635389418.6667 - userrating_loss: 9.1894 - price_loss: 635389418.6667 - userrating_accuracy: 0.6978 - price_root_mean_squared_error: 25147.6986 - val_loss: 380556928.0000 - val_userrating_loss: 12.4423 - val_price_loss: 380556928.0000 - val_userrating_accuracy: 0.7674 - val_price_root_mean_squared_error: 19507.8691\n",
      "Epoch 74/100\n",
      "17/17 [==============================] - 0s 4ms/step - loss: 522688505.7778 - userrating_loss: 8.6514 - price_loss: 522688505.7778 - userrating_accuracy: 0.7390 - price_root_mean_squared_error: 22757.0148 - val_loss: 378671808.0000 - val_userrating_loss: 11.8064 - val_price_loss: 378671808.0000 - val_userrating_accuracy: 0.5271 - val_price_root_mean_squared_error: 19459.4922\n",
      "Epoch 75/100\n",
      "17/17 [==============================] - 0s 6ms/step - loss: 629913048.8889 - userrating_loss: 11.1533 - price_loss: 629913048.8889 - userrating_accuracy: 0.5738 - price_root_mean_squared_error: 25045.6645 - val_loss: 377412320.0000 - val_userrating_loss: 11.2008 - val_price_loss: 377412320.0000 - val_userrating_accuracy: 0.7442 - val_price_root_mean_squared_error: 19427.1035\n",
      "Epoch 76/100\n",
      "17/17 [==============================] - 0s 4ms/step - loss: 549086254.2222 - userrating_loss: 10.2431 - price_loss: 549086254.2222 - userrating_accuracy: 0.6984 - price_root_mean_squared_error: 23293.8589 - val_loss: 375365408.0000 - val_userrating_loss: 15.0357 - val_price_loss: 375365408.0000 - val_userrating_accuracy: 0.6822 - val_price_root_mean_squared_error: 19374.3496\n",
      "Epoch 77/100\n",
      "17/17 [==============================] - 0s 3ms/step - loss: 517310565.3333 - userrating_loss: 12.7556 - price_loss: 517310565.3333 - userrating_accuracy: 0.6511 - price_root_mean_squared_error: 22698.5930 - val_loss: 373501440.0000 - val_userrating_loss: 10.6553 - val_price_loss: 373501440.0000 - val_userrating_accuracy: 0.6977 - val_price_root_mean_squared_error: 19326.1855\n",
      "Epoch 78/100\n",
      "17/17 [==============================] - 0s 2ms/step - loss: 472436851.5556 - userrating_loss: 8.0320 - price_loss: 472436851.5556 - userrating_accuracy: 0.6793 - price_root_mean_squared_error: 21687.4290 - val_loss: 370882560.0000 - val_userrating_loss: 13.4638 - val_price_loss: 370882528.0000 - val_userrating_accuracy: 0.7519 - val_price_root_mean_squared_error: 19258.3105\n",
      "Epoch 79/100\n",
      "17/17 [==============================] - 0s 3ms/step - loss: 588165464.8889 - userrating_loss: 10.4175 - price_loss: 588165464.8889 - userrating_accuracy: 0.6877 - price_root_mean_squared_error: 24200.8103 - val_loss: 368767424.0000 - val_userrating_loss: 11.2515 - val_price_loss: 368767424.0000 - val_userrating_accuracy: 0.7364 - val_price_root_mean_squared_error: 19203.3184\n",
      "Epoch 80/100\n",
      "17/17 [==============================] - 0s 3ms/step - loss: 556810110.2222 - userrating_loss: 8.1265 - price_loss: 556810110.2222 - userrating_accuracy: 0.6769 - price_root_mean_squared_error: 23579.7418 - val_loss: 366942560.0000 - val_userrating_loss: 10.0731 - val_price_loss: 366942560.0000 - val_userrating_accuracy: 0.7287 - val_price_root_mean_squared_error: 19155.7441\n",
      "Epoch 81/100\n",
      "17/17 [==============================] - 0s 2ms/step - loss: 581333605.3333 - userrating_loss: 9.7441 - price_loss: 581333605.3333 - userrating_accuracy: 0.6224 - price_root_mean_squared_error: 24057.5639 - val_loss: 364728672.0000 - val_userrating_loss: 11.2192 - val_price_loss: 364728672.0000 - val_userrating_accuracy: 0.7364 - val_price_root_mean_squared_error: 19097.8711\n",
      "Epoch 82/100\n",
      "17/17 [==============================] - 0s 3ms/step - loss: 484514248.8889 - userrating_loss: 9.6203 - price_loss: 484514247.1111 - userrating_accuracy: 0.7059 - price_root_mean_squared_error: 21966.7386 - val_loss: 362438784.0000 - val_userrating_loss: 10.0624 - val_price_loss: 362438784.0000 - val_userrating_accuracy: 0.6899 - val_price_root_mean_squared_error: 19037.8242\n",
      "Epoch 83/100\n",
      "17/17 [==============================] - 0s 3ms/step - loss: 631682058.6667 - userrating_loss: 10.2388 - price_loss: 631682051.5556 - userrating_accuracy: 0.6405 - price_root_mean_squared_error: 24990.0904 - val_loss: 360301920.0000 - val_userrating_loss: 14.3902 - val_price_loss: 360301888.0000 - val_userrating_accuracy: 0.7519 - val_price_root_mean_squared_error: 18981.6191\n",
      "Epoch 84/100\n",
      "17/17 [==============================] - 0s 3ms/step - loss: 482849514.6667 - userrating_loss: 13.3898 - price_loss: 482849491.5556 - userrating_accuracy: 0.7133 - price_root_mean_squared_error: 21937.4858 - val_loss: 358210944.0000 - val_userrating_loss: 14.3275 - val_price_loss: 358210944.0000 - val_userrating_accuracy: 0.7442 - val_price_root_mean_squared_error: 18926.4609\n"
     ]
    },
    {
     "name": "stdout",
     "output_type": "stream",
     "text": [
      "Epoch 85/100\n",
      "17/17 [==============================] - 0s 4ms/step - loss: 546993454.2222 - userrating_loss: 10.8478 - price_loss: 546993450.6667 - userrating_accuracy: 0.6891 - price_root_mean_squared_error: 23328.9575 - val_loss: 356477216.0000 - val_userrating_loss: 10.2631 - val_price_loss: 356477184.0000 - val_userrating_accuracy: 0.7209 - val_price_root_mean_squared_error: 18880.6035\n",
      "Epoch 86/100\n",
      "17/17 [==============================] - 0s 3ms/step - loss: 562751400.8889 - userrating_loss: 9.3624 - price_loss: 562751400.8889 - userrating_accuracy: 0.6449 - price_root_mean_squared_error: 23643.6897 - val_loss: 354607904.0000 - val_userrating_loss: 10.1253 - val_price_loss: 354607904.0000 - val_userrating_accuracy: 0.7287 - val_price_root_mean_squared_error: 18831.0352\n",
      "Epoch 87/100\n",
      "17/17 [==============================] - 0s 3ms/step - loss: 722200773.3333 - userrating_loss: 10.2009 - price_loss: 722200773.3333 - userrating_accuracy: 0.6281 - price_root_mean_squared_error: 26385.8961 - val_loss: 352882048.0000 - val_userrating_loss: 10.7139 - val_price_loss: 352882048.0000 - val_userrating_accuracy: 0.6357 - val_price_root_mean_squared_error: 18785.1543\n",
      "Epoch 88/100\n",
      "17/17 [==============================] - 0s 4ms/step - loss: 504905941.3333 - userrating_loss: 9.6062 - price_loss: 504905941.3333 - userrating_accuracy: 0.6039 - price_root_mean_squared_error: 22420.0356 - val_loss: 350740160.0000 - val_userrating_loss: 12.4515 - val_price_loss: 350740160.0000 - val_userrating_accuracy: 0.5659 - val_price_root_mean_squared_error: 18728.0586\n",
      "Epoch 89/100\n",
      "17/17 [==============================] - 0s 4ms/step - loss: 502914387.5556 - userrating_loss: 9.3109 - price_loss: 502914369.7778 - userrating_accuracy: 0.6055 - price_root_mean_squared_error: 22415.5350 - val_loss: 349301376.0000 - val_userrating_loss: 10.3888 - val_price_loss: 349301376.0000 - val_userrating_accuracy: 0.6744 - val_price_root_mean_squared_error: 18689.6055\n",
      "Epoch 90/100\n",
      "17/17 [==============================] - 0s 3ms/step - loss: 589155763.5556 - userrating_loss: 9.6979 - price_loss: 589155763.5556 - userrating_accuracy: 0.6741 - price_root_mean_squared_error: 24134.8894 - val_loss: 347292416.0000 - val_userrating_loss: 13.4285 - val_price_loss: 347292416.0000 - val_userrating_accuracy: 0.7442 - val_price_root_mean_squared_error: 18635.7832\n",
      "Epoch 91/100\n",
      "17/17 [==============================] - 0s 3ms/step - loss: 456202033.7778 - userrating_loss: 10.5033 - price_loss: 456202033.7778 - userrating_accuracy: 0.7270 - price_root_mean_squared_error: 21324.0588 - val_loss: 345501856.0000 - val_userrating_loss: 13.2928 - val_price_loss: 345501856.0000 - val_userrating_accuracy: 0.7519 - val_price_root_mean_squared_error: 18587.6797\n",
      "Epoch 92/100\n",
      "17/17 [==============================] - 0s 3ms/step - loss: 466795831.1111 - userrating_loss: 9.8394 - price_loss: 466795831.1111 - userrating_accuracy: 0.7026 - price_root_mean_squared_error: 21528.3423 - val_loss: 343677056.0000 - val_userrating_loss: 10.6202 - val_price_loss: 343677056.0000 - val_userrating_accuracy: 0.7054 - val_price_root_mean_squared_error: 18538.5293\n",
      "Epoch 93/100\n",
      "17/17 [==============================] - 0s 3ms/step - loss: 549875018.6667 - userrating_loss: 8.4745 - price_loss: 549875018.6667 - userrating_accuracy: 0.6959 - price_root_mean_squared_error: 23373.7722 - val_loss: 342164992.0000 - val_userrating_loss: 10.0805 - val_price_loss: 342164992.0000 - val_userrating_accuracy: 0.6589 - val_price_root_mean_squared_error: 18497.7031\n",
      "Epoch 94/100\n",
      "17/17 [==============================] - 0s 3ms/step - loss: 560511589.3333 - userrating_loss: 9.6563 - price_loss: 560511589.3333 - userrating_accuracy: 0.5909 - price_root_mean_squared_error: 23616.8646 - val_loss: 341009632.0000 - val_userrating_loss: 10.4870 - val_price_loss: 341009632.0000 - val_userrating_accuracy: 0.7287 - val_price_root_mean_squared_error: 18466.4453\n",
      "Epoch 95/100\n",
      "17/17 [==============================] - 0s 3ms/step - loss: 443977274.6667 - userrating_loss: 8.8263 - price_loss: 443977274.6667 - userrating_accuracy: 0.6350 - price_root_mean_squared_error: 20942.8262 - val_loss: 339312096.0000 - val_userrating_loss: 11.1511 - val_price_loss: 339312096.0000 - val_userrating_accuracy: 0.6899 - val_price_root_mean_squared_error: 18420.4258\n",
      "Epoch 96/100\n",
      "17/17 [==============================] - 0s 3ms/step - loss: 509180705.7778 - userrating_loss: 9.1060 - price_loss: 509180705.7778 - userrating_accuracy: 0.6548 - price_root_mean_squared_error: 22495.5672 - val_loss: 337804800.0000 - val_userrating_loss: 9.8183 - val_price_loss: 337804800.0000 - val_userrating_accuracy: 0.6899 - val_price_root_mean_squared_error: 18379.4668\n",
      "Epoch 97/100\n",
      "17/17 [==============================] - 0s 4ms/step - loss: 583886058.6667 - userrating_loss: 7.2748 - price_loss: 583886058.6667 - userrating_accuracy: 0.6909 - price_root_mean_squared_error: 24112.4578 - val_loss: 336899680.0000 - val_userrating_loss: 10.4209 - val_price_loss: 336899648.0000 - val_userrating_accuracy: 0.7209 - val_price_root_mean_squared_error: 18354.8262\n",
      "Epoch 98/100\n",
      "17/17 [==============================] - 0s 3ms/step - loss: 537701697.7778 - userrating_loss: 8.6974 - price_loss: 537701697.7778 - userrating_accuracy: 0.6594 - price_root_mean_squared_error: 23124.2310 - val_loss: 334782144.0000 - val_userrating_loss: 10.1886 - val_price_loss: 334782144.0000 - val_userrating_accuracy: 0.6667 - val_price_root_mean_squared_error: 18297.0527\n",
      "Epoch 99/100\n",
      "17/17 [==============================] - 0s 3ms/step - loss: 458419472.8889 - userrating_loss: 9.6837 - price_loss: 458419472.0000 - userrating_accuracy: 0.6258 - price_root_mean_squared_error: 21316.1201 - val_loss: 333595360.0000 - val_userrating_loss: 12.0992 - val_price_loss: 333595360.0000 - val_userrating_accuracy: 0.7287 - val_price_root_mean_squared_error: 18264.5938\n",
      "Epoch 100/100\n",
      "17/17 [==============================] - 0s 2ms/step - loss: 389841790.2222 - userrating_loss: 10.6235 - price_loss: 389841786.6667 - userrating_accuracy: 0.6878 - price_root_mean_squared_error: 19666.7907 - val_loss: 331539616.0000 - val_userrating_loss: 12.5114 - val_price_loss: 331539616.0000 - val_userrating_accuracy: 0.7442 - val_price_root_mean_squared_error: 18208.2285\n"
     ]
    }
   ],
   "source": [
    "model.compile(loss=['sparse_categorical_crossentropy','mse'], metrics={'price': keras.metrics.RootMeanSquaredError(),\n",
    "                     'userrating': 'accuracy'}, optimizer=keras.optimizers.Adam(lr=0.0001))\n",
    "\n",
    "history = model.fit((train_price_x,train_rating_x),(train_y['user rating'],train_y['Price']),epochs=100,validation_data=((valid_price_x, valid_rating_x),(valid_y['user rating'],valid_y['Price'])))"
   ]
  },
  {
   "cell_type": "markdown",
   "id": "533ef636",
   "metadata": {},
   "source": [
    "# Saving the model"
   ]
  },
  {
   "cell_type": "code",
   "execution_count": 99,
   "id": "408622f4",
   "metadata": {},
   "outputs": [
    {
     "name": "stdout",
     "output_type": "stream",
     "text": [
      "INFO:tensorflow:Assets written to: first_model\\0001\\assets\n"
     ]
    }
   ],
   "source": [
    "import os\n",
    "import tensorflow as tf\n",
    "model_version = '0001'\n",
    "model_name = 'first_model'\n",
    "model_path = os.path.join(model_name, model_version)\n",
    "tf.saved_model.save(model, model_path)"
   ]
  },
  {
   "cell_type": "code",
   "execution_count": 100,
   "id": "4ce8360d",
   "metadata": {},
   "outputs": [],
   "source": [
    "saved_model = tf.saved_model.load(model_path)"
   ]
  },
  {
   "cell_type": "code",
   "execution_count": 101,
   "id": "24a28053",
   "metadata": {},
   "outputs": [
    {
     "data": {
      "text/plain": [
       "517"
      ]
     },
     "execution_count": 101,
     "metadata": {},
     "output_type": "execute_result"
    }
   ],
   "source": [
    "train_x.shape[0]"
   ]
  },
  {
   "cell_type": "markdown",
   "id": "82fe07a9",
   "metadata": {},
   "source": [
    "# Converting the model to a light-weight version using tflite"
   ]
  },
  {
   "cell_type": "code",
   "execution_count": 102,
   "id": "324f5dee",
   "metadata": {},
   "outputs": [],
   "source": [
    "converter = tf.lite.TFLiteConverter.from_saved_model(model_path)\n",
    "converter.optimizations=[tf.lite.Optimize.OPTIMIZE_FOR_SIZE]\n",
    "tflite_model = converter.convert()\n",
    "with open(\"converted_model.tflite\",\"wb\") as f:\n",
    "    f.write(tflite_model)"
   ]
  },
  {
   "cell_type": "code",
   "execution_count": 103,
   "id": "3f1154b2",
   "metadata": {},
   "outputs": [
    {
     "data": {
      "text/plain": [
       "(129, 41)"
      ]
     },
     "execution_count": 103,
     "metadata": {},
     "output_type": "execute_result"
    }
   ],
   "source": [
    "valid_x.shape"
   ]
  },
  {
   "cell_type": "markdown",
   "id": "249ea555",
   "metadata": {},
   "source": [
    "# Prediction using saved model"
   ]
  },
  {
   "cell_type": "code",
   "execution_count": 104,
   "id": "4e803712",
   "metadata": {},
   "outputs": [],
   "source": [
    "#test_user_x = tf.convert_to_tensor(test_user_x, dtype=np.float32)\n",
    "#test_rating_x = tf.convert_to_tensor(test_rating_x, dtype=np.float32)\n",
    "predictions=saved_model([test_price_x, test_rating_x], training=False)"
   ]
  },
  {
   "cell_type": "code",
   "execution_count": 105,
   "id": "10599a5b",
   "metadata": {},
   "outputs": [],
   "source": [
    "price_pred = predictions[1]\n",
    "rate_pred = predictions[0]"
   ]
  },
  {
   "cell_type": "code",
   "execution_count": 106,
   "id": "dcc80fbb",
   "metadata": {},
   "outputs": [],
   "source": [
    "final= []\n",
    "for rate in rate_pred:\n",
    "    final.append(np.argmax(rate))"
   ]
  },
  {
   "cell_type": "code",
   "execution_count": 107,
   "id": "e27fddf9",
   "metadata": {
    "scrolled": false
   },
   "outputs": [
    {
     "data": {
      "image/png": "[encoded data removed]",
      "text/plain": [
       "<Figure size 720x432 with 1 Axes>"
      ]
     },
     "metadata": {
      "needs_background": "light"
     },
     "output_type": "display_data"
    }
   ],
   "source": [
    "import matplotlib.pyplot as plt\n",
    "plt.figure(figsize=(10, 6))\n",
    "plt.scatter(range(len(price_pred)), price_pred, color='green')\n",
    "plt.scatter(range(len(price_pred)), test_y['Price'], color='red')\n",
    "#plt.legend()\n",
    "plt.title(\"Comparison of Actual and Predicted Prices\", fontsize=18)\n",
    "plt.show()"
   ]
  },
  {
   "cell_type": "code",
   "execution_count": 108,
   "id": "5ed78ba7",
   "metadata": {},
   "outputs": [
    {
     "data": {
      "image/png": "[encoded data removed]",
      "text/plain": [
       "<Figure size 720x432 with 1 Axes>"
      ]
     },
     "metadata": {
      "needs_background": "light"
     },
     "output_type": "display_data"
    }
   ],
   "source": [
    "import matplotlib.pyplot as plt\n",
    "plt.figure(figsize=(10, 6))\n",
    "plt.scatter(range(len(final)), final, color='green')\n",
    "plt.scatter(range(len(final)), test_y['user rating'], color='red')\n",
    "#plt.legend()\n",
    "plt.title(\"Comparison of Actual and Predicted Prices\", fontsize=18)\n",
    "plt.show()"
   ]
  },
  {
   "cell_type": "markdown",
   "id": "2be9d1dc",
   "metadata": {},
   "source": [
    "# Using TF-serving"
   ]
  },
  {
   "cell_type": "markdown",
   "id": "5519f5cb",
   "metadata": {},
   "source": [
    "U need to have TF serving docker image and then run the container\n",
    "\n",
    "docker run -it --rm -p 8500:8500 -p 8501:8501 -v \"file_path_where_model_is_saved:/models/first_model\" -e MODEL_NAME=first_model tensorflow/serving"
   ]
  },
  {
   "cell_type": "markdown",
   "id": "4c9d4a25",
   "metadata": {},
   "source": [
    "# Querying using Rest API and making predictions"
   ]
  },
  {
   "cell_type": "code",
   "execution_count": 109,
   "id": "6efcb7b1",
   "metadata": {},
   "outputs": [],
   "source": [
    "import requests\n",
    "import json\n",
    "\n",
    "data = {\"signature_name\":\"serving_default\",\n",
    "                   \"instances\":[{\n",
    "                        'input_1':test_price,\n",
    "                        'input_2':test_rating} for test_price, test_rating in zip(test_price_x.tolist(),test_rating_x.tolist())]}\n",
    "headers = {\"content-type\":\"application/json\"}\n",
    "\n",
    "json_response = requests.post('http://localhost:8501/v1/models/first_model:predict',json=data,headers=headers)\n",
    "json_response.raise_for_status()\n",
    "response =  json.loads(json_response.text)"
   ]
  },
  {
   "cell_type": "code",
   "execution_count": 110,
   "id": "f92675c9",
   "metadata": {},
   "outputs": [],
   "source": [
    "y_proba = np.array(response['predictions'])"
   ]
  },
  {
   "cell_type": "markdown",
   "id": "4a408461",
   "metadata": {},
   "source": [
    "# Querying using gRPC API"
   ]
  },
  {
   "cell_type": "code",
   "execution_count": 111,
   "id": "436c9ec8",
   "metadata": {},
   "outputs": [],
   "source": [
    "from tensorflow_serving.apis.predict_pb2 import PredictRequest"
   ]
  },
  {
   "cell_type": "code",
   "execution_count": 112,
   "id": "1e956e0a",
   "metadata": {},
   "outputs": [
    {
     "data": {
      "text/plain": [
       "['input_1', 'input_2']"
      ]
     },
     "execution_count": 112,
     "metadata": {},
     "output_type": "execute_result"
    }
   ],
   "source": [
    "model.input_names"
   ]
  },
  {
   "cell_type": "code",
   "execution_count": 113,
   "id": "8cba13b5",
   "metadata": {},
   "outputs": [],
   "source": [
    "request = PredictRequest()\n",
    "request.model_spec.name = model_name\n",
    "request.model_spec.signature_name ='serving_default'\n",
    "input_name_1 = model.input_names[0]\n",
    "input_name_2 = model.input_names[1]"
   ]
  },
  {
   "cell_type": "code",
   "execution_count": 114,
   "id": "1ba2dbff",
   "metadata": {},
   "outputs": [],
   "source": [
    "request.inputs[input_name_1].CopyFrom(tf.make_tensor_proto(test_price_x))\n",
    "request.inputs[input_name_2].CopyFrom(tf.make_tensor_proto(test_rating_x))"
   ]
  },
  {
   "cell_type": "code",
   "execution_count": 115,
   "id": "1aebbb37",
   "metadata": {},
   "outputs": [],
   "source": [
    "import grpc\n",
    "from tensorflow_serving.apis import prediction_service_pb2_grpc\n",
    "\n",
    "channel = grpc.insecure_channel('localhost:8500')\n",
    "predict_service = prediction_service_pb2_grpc.PredictionServiceStub(channel)\n",
    "response = predict_service.Predict(request, timeout=10.0)"
   ]
  },
  {
   "cell_type": "code",
   "execution_count": 116,
   "id": "ca86ed29",
   "metadata": {},
   "outputs": [],
   "source": [
    "output_name_1 = model.output_names[0]\n",
    "output_name_2 = model.output_names[1]\n",
    "outputs_proto_1 = response.outputs[output_name_1]\n",
    "outputs_proto_2 = response.outputs[output_name_2]\n",
    "y_proba_1 = tf.make_ndarray(outputs_proto_1)\n",
    "y_proba_2 = tf.make_ndarray(outputs_proto_2)"
   ]
  },
  {
   "cell_type": "code",
   "execution_count": 117,
   "id": "5c26ceea",
   "metadata": {},
   "outputs": [
    {
     "data": {
      "text/plain": [
       "array([[108541.88 ],\n",
       "       [ 57322.36 ],\n",
       "       [ 73308.88 ],\n",
       "       [ 41962.137],\n",
       "       [ 70075.86 ],\n",
       "       [ 50325.062],\n",
       "       [ 67215.11 ],\n",
       "       [ 74077.984],\n",
       "       [ 39161.945],\n",
       "       [ 67861.24 ],\n",
       "       [ 46169.72 ],\n",
       "       [ 56529.1  ],\n",
       "       [ 64840.75 ],\n",
       "       [ 50075.375],\n",
       "       [ 35757.67 ],\n",
       "       [ 68269.74 ],\n",
       "       [ 66903.195],\n",
       "       [ 57589.098],\n",
       "       [ 74005.484],\n",
       "       [ 99489.9  ],\n",
       "       [ 67581.4  ],\n",
       "       [ 64390.625],\n",
       "       [ 63565.41 ],\n",
       "       [ 34625.406],\n",
       "       [108202.69 ],\n",
       "       [ 69848.6  ],\n",
       "       [ 95680.27 ],\n",
       "       [ 73138.34 ],\n",
       "       [ 29950.348],\n",
       "       [ 64134.688],\n",
       "       [ 70034.62 ],\n",
       "       [ 43475.953],\n",
       "       [ 75458.93 ],\n",
       "       [ 62818.44 ],\n",
       "       [ 45785.418],\n",
       "       [ 49075.86 ],\n",
       "       [ 27918.559],\n",
       "       [ 57173.758],\n",
       "       [ 43594.54 ],\n",
       "       [ 38255.6  ],\n",
       "       [ 74774.25 ],\n",
       "       [ 58978.035],\n",
       "       [ 73407.164],\n",
       "       [ 64419.094]], dtype=float32)"
      ]
     },
     "execution_count": 117,
     "metadata": {},
     "output_type": "execute_result"
    }
   ],
   "source": [
    "y_proba_2"
   ]
  },
  {
   "cell_type": "markdown",
   "id": "ab5dc51b",
   "metadata": {},
   "source": [
    "# Deploying new version"
   ]
  },
  {
   "cell_type": "code",
   "execution_count": 118,
   "id": "c0259403",
   "metadata": {},
   "outputs": [
    {
     "name": "stdout",
     "output_type": "stream",
     "text": [
      "INFO:tensorflow:Assets written to: first_model\\0002\\assets\n"
     ]
    }
   ],
   "source": [
    "import os\n",
    "import tensorflow as tf\n",
    "model_version = '0002'\n",
    "model_name = 'first_model'\n",
    "model_path = os.path.join(model_name, model_version)\n",
    "tf.saved_model.save(model, model_path)"
   ]
  },
  {
   "cell_type": "code",
   "execution_count": null,
   "id": "841fb05b",
   "metadata": {},
   "outputs": [],
   "source": []
  }
 ],
 "metadata": {
  "kernelspec": {
   "display_name": "Python 3",
   "language": "python",
   "name": "python3"
  },
  "language_info": {
   "codemirror_mode": {
    "name": "ipython",
    "version": 3
   },
   "file_extension": ".py",
   "mimetype": "text/x-python",
   "name": "python",
   "nbconvert_exporter": "python",
   "pygments_lexer": "ipython3",
   "version": "3.6.13"
  }
 },
 "nbformat": 4,
 "nbformat_minor": 5
}
