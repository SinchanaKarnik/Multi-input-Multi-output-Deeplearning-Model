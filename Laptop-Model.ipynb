{
 "cells": [
  {
   "cell_type": "code",
   "execution_count": 1,
   "id": "4fb98da2",
   "metadata": {},
   "outputs": [],
   "source": [
    "import pandas as pd\n",
    "import numpy as np\n",
    "from sklearn.preprocessing import OrdinalEncoder\n",
    "from sklearn.model_selection import train_test_split\n",
    "import tensorflow\n",
    "from tensorflow import keras\n",
    "import tensorflow"
   ]
  },
  {
   "cell_type": "code",
   "execution_count": 2,
   "id": "e095f575",
   "metadata": {},
   "outputs": [
    {
     "name": "stderr",
     "output_type": "stream",
     "text": [
      "C:\\ProgramData\\Anaconda3\\envs\\deeplearning\\lib\\site-packages\\ipykernel_launcher.py:4: FutureWarning: Passing a negative integer is deprecated in version 1.0 and will not be supported in future version. Instead, use None to not limit the column width.\n",
      "  after removing the cwd from sys.path.\n"
     ]
    }
   ],
   "source": [
    "pd.set_option('display.max_rows', None)\n",
    "pd.set_option('display.max_columns', None)\n",
    "pd.set_option('display.width', None)\n",
    "pd.set_option('display.max_colwidth', -1)"
   ]
  },
  {
   "cell_type": "code",
   "execution_count": 3,
   "id": "73190200",
   "metadata": {},
   "outputs": [],
   "source": [
    "laptop = pd.read_csv('dataset/completelaptopdata.csv', encoding= 'unicode_escape')"
   ]
  },
  {
   "cell_type": "code",
   "execution_count": 4,
   "id": "3a9e7ca3",
   "metadata": {},
   "outputs": [],
   "source": [
    "laptop = laptop.iloc[:,1:]"
   ]
  },
  {
   "cell_type": "code",
   "execution_count": 5,
   "id": "fc48b27b",
   "metadata": {},
   "outputs": [],
   "source": [
    "laptop['name'].unique()\n",
    "laptop_list = ['ASUS','Lenovo','DELL','HP','acer','MSI','LG','realme','Avita','SAMSUNG','Infinix','Nokia','RedmiBook','APPLE','Mi','Vaio']\n",
    "def extract_company(x):\n",
    "    for i in laptop_list:\n",
    "        if i.capitalize() in x.capitalize():\n",
    "            return i\n",
    "laptop['company'] = laptop['name'].apply(extract_company)"
   ]
  },
  {
   "cell_type": "code",
   "execution_count": 6,
   "id": "68b5f5b3",
   "metadata": {},
   "outputs": [],
   "source": [
    "laptop['Battery Cell'] = laptop['Battery Cell'].str.lower()\n",
    "laptop['Battery Cell'] = laptop['Battery Cell'].replace(' cell','-cell',regex=True)\n",
    "laptop['Battery Cell'] = laptop['Battery Cell'].str.extract('(\\d)-cell')"
   ]
  },
  {
   "cell_type": "code",
   "execution_count": 7,
   "id": "32862f4d",
   "metadata": {},
   "outputs": [
    {
     "data": {
      "text/plain": [
       "array(['Processing & Multitasking', 'Travel & Business', 'Performance',\n",
       "       'Processing & Multitasking, Travel & Business',\n",
       "       'Performance, Processing & Multitasking, Travel & Business'],\n",
       "      dtype=object)"
      ]
     },
     "execution_count": 7,
     "metadata": {},
     "output_type": "execute_result"
    }
   ],
   "source": [
    "def categorise_laptop_suitablity(x):\n",
    "    \n",
    "    if 'Gaming' in x:\n",
    "        return 1\n",
    "    elif'Everyday Use' in x or 'Entertainment' in x:\n",
    "        return 2\n",
    "    else:\n",
    "        return 3\n",
    "laptop['Suitable_cat'] = laptop['Suitable For'].apply(categorise_laptop_suitablity)\n",
    "laptop['Suitable_cat'].unique()\n",
    "laptop[laptop['Suitable_cat']==3]['Suitable For'].unique()"
   ]
  },
  {
   "cell_type": "code",
   "execution_count": 8,
   "id": "525309e6",
   "metadata": {},
   "outputs": [],
   "source": [
    "laptop = laptop.drop('Type',axis=1)"
   ]
  },
  {
   "cell_type": "code",
   "execution_count": 9,
   "id": "014a4eb5",
   "metadata": {},
   "outputs": [],
   "source": [
    "laptop = laptop.drop('Suitable For',axis=1)"
   ]
  },
  {
   "cell_type": "code",
   "execution_count": 10,
   "id": "0651302a",
   "metadata": {},
   "outputs": [],
   "source": [
    "laptop = laptop.drop('Power Supply',axis=1)"
   ]
  },
  {
   "cell_type": "code",
   "execution_count": 11,
   "id": "084f229d",
   "metadata": {},
   "outputs": [],
   "source": [
    "laptop = laptop.drop('MS Office Provided',axis=1)"
   ]
  },
  {
   "cell_type": "code",
   "execution_count": 12,
   "id": "c3332ed8",
   "metadata": {},
   "outputs": [
    {
     "data": {
      "text/plain": [
       "array(['GDDR6', nan, 'DDR4', 'GDDR3', 'GDDR5', 'DDR5'], dtype=object)"
      ]
     },
     "execution_count": 12,
     "metadata": {},
     "output_type": "execute_result"
    }
   ],
   "source": [
    "laptop['Dedicated Graphic Memory Type'].unique()"
   ]
  },
  {
   "cell_type": "code",
   "execution_count": 13,
   "id": "3d707b4e",
   "metadata": {},
   "outputs": [
    {
     "data": {
      "text/plain": [
       "array(['8 GB', '4 GB', nan, '6 GB', '2 GB', '16 GB', '128 MB', '10 GB',\n",
       "       '512 MB', '12 GB'], dtype=object)"
      ]
     },
     "execution_count": 13,
     "metadata": {},
     "output_type": "execute_result"
    }
   ],
   "source": [
    "laptop['Dedicated Graphic Memory Capacity'].unique()"
   ]
  },
  {
   "cell_type": "code",
   "execution_count": 14,
   "id": "285117b1",
   "metadata": {},
   "outputs": [],
   "source": [
    "laptop['Dedicated Graphic Memory Capacity'].unique()\n",
    "def converttobytes(x):\n",
    "    if x is not np.nan:\n",
    "        if 'GB'not in x:\n",
    "            print(x.split(' ')[0])\n",
    "        else:\n",
    "            return int(x.split(' ')[0])\n",
    "    \n",
    "    "
   ]
  },
  {
   "cell_type": "code",
   "execution_count": 15,
   "id": "d85ae002",
   "metadata": {
    "scrolled": false
   },
   "outputs": [
    {
     "name": "stdout",
     "output_type": "stream",
     "text": [
      "128\n",
      "128\n",
      "512\n"
     ]
    }
   ],
   "source": [
    "laptop['Dedicated Graphic Memory Capacity in MB'] = laptop['Dedicated Graphic Memory Capacity'].apply(converttobytes)"
   ]
  },
  {
   "cell_type": "code",
   "execution_count": 16,
   "id": "c2b4b089",
   "metadata": {},
   "outputs": [
    {
     "data": {
      "text/plain": [
       "array([ 8.,  4., nan,  6.,  2., 16., 10., 12.])"
      ]
     },
     "execution_count": 16,
     "metadata": {},
     "output_type": "execute_result"
    }
   ],
   "source": [
    "laptop['Dedicated Graphic Memory Capacity in MB'].unique()"
   ]
  },
  {
   "cell_type": "code",
   "execution_count": 17,
   "id": "3a377d24",
   "metadata": {},
   "outputs": [],
   "source": [
    "laptop = laptop.drop('Dedicated Graphic Memory Capacity',axis=1)"
   ]
  },
  {
   "cell_type": "code",
   "execution_count": 18,
   "id": "812ac52e",
   "metadata": {},
   "outputs": [],
   "source": [
    "laptop = laptop.drop('Processor Brand',axis=1)"
   ]
  },
  {
   "cell_type": "code",
   "execution_count": 19,
   "id": "b1598d48",
   "metadata": {},
   "outputs": [
    {
     "data": {
      "text/plain": [
       "array(['Core i9', 'Ryzen 7 Octa Core', 'Core i5', 'Core i7',\n",
       "       'Celeron Dual Core', 'Pentium Silver', 'Athlon Dual Core',\n",
       "       'Ryzen 7 Dual Core', 'Ryzen 3 Quad Core', 'Ryzen 9 Octa Core',\n",
       "       'Core i3', 'Ryzen 5 Hexa Core', 'Ryzen 5 Quad Core',\n",
       "       'Ryzen 7 Hexa Core', 'Ryzen 7 Quad Core', 'Pentium Quad Core',\n",
       "       'Celeron Quad Core', 'Snapdragon 7c Gen 2', 'Ryzen 5 Dual Core',\n",
       "       'Ryzen 3 Dual Core', 'Dual Core', 'Ryzen 5 Octa Core', 'M1 Pro',\n",
       "       'Ryzen 3 Hexa Core', 'APU Dual Core A6', 'MediaTek Kompanio 500',\n",
       "       'M1', 'APU Dual Core A9', 'Hexa Core i5', 'Octa Core i7'],\n",
       "      dtype=object)"
      ]
     },
     "execution_count": 19,
     "metadata": {},
     "output_type": "execute_result"
    }
   ],
   "source": [
    "laptop['Processor Name'].unique()"
   ]
  },
  {
   "cell_type": "code",
   "execution_count": 20,
   "id": "96ca64ee",
   "metadata": {},
   "outputs": [
    {
     "data": {
      "text/plain": [
       "array(['12th Gen', nan, '5th Gen', '11th Gen', '10th Gen', '7th Gen',\n",
       "       '3rd Gen', '9th Gen', '4th Gen', '8th Gen'], dtype=object)"
      ]
     },
     "execution_count": 20,
     "metadata": {},
     "output_type": "execute_result"
    }
   ],
   "source": [
    "laptop['Processor Generation'].unique()"
   ]
  },
  {
   "cell_type": "code",
   "execution_count": 21,
   "id": "dd5c5e11",
   "metadata": {},
   "outputs": [],
   "source": [
    "def getGen(x):\n",
    "    if x is not np.nan:\n",
    "        if 'th' in x:\n",
    "            return int(x.split('th')[0])\n",
    "        if 'rd' in x:\n",
    "            return int(x.split('rd')[0])"
   ]
  },
  {
   "cell_type": "code",
   "execution_count": 22,
   "id": "22330673",
   "metadata": {},
   "outputs": [],
   "source": [
    "laptop['Processor Generation'] = laptop['Processor Generation'].apply(getGen)"
   ]
  },
  {
   "cell_type": "code",
   "execution_count": 23,
   "id": "74f1a332",
   "metadata": {},
   "outputs": [
    {
     "data": {
      "text/plain": [
       "array(['Yes', 'No'], dtype=object)"
      ]
     },
     "execution_count": 23,
     "metadata": {},
     "output_type": "execute_result"
    }
   ],
   "source": [
    "laptop['SSD'].unique()"
   ]
  },
  {
   "cell_type": "code",
   "execution_count": 24,
   "id": "b809e30a",
   "metadata": {},
   "outputs": [
    {
     "data": {
      "text/plain": [
       "array(['1 TB', '512 GB', '256 GB', '128 GB', nan, '2 TB'], dtype=object)"
      ]
     },
     "execution_count": 24,
     "metadata": {},
     "output_type": "execute_result"
    }
   ],
   "source": [
    "laptop['SSD Capacity'].unique()"
   ]
  },
  {
   "cell_type": "code",
   "execution_count": 25,
   "id": "891dad93",
   "metadata": {},
   "outputs": [],
   "source": [
    "def converttoGbytes(x):\n",
    "    if x is not np.nan:\n",
    "        if 'TB' in x:\n",
    "            return 1000 * int(x.split(' ')[0])\n",
    "        else:\n",
    "            return int(x.split(' ')[0])"
   ]
  },
  {
   "cell_type": "code",
   "execution_count": 26,
   "id": "ae6c87f0",
   "metadata": {},
   "outputs": [],
   "source": [
    "laptop['SSD Capacity'] = laptop['SSD Capacity'].apply(converttoGbytes)"
   ]
  },
  {
   "cell_type": "code",
   "execution_count": null,
   "id": "65312c02",
   "metadata": {},
   "outputs": [],
   "source": []
  },
  {
   "cell_type": "code",
   "execution_count": 27,
   "id": "a0ea4507",
   "metadata": {},
   "outputs": [],
   "source": [
    "laptop = laptop.drop('Processor Variant',axis=1)"
   ]
  },
  {
   "cell_type": "code",
   "execution_count": 28,
   "id": "aeb112d4",
   "metadata": {},
   "outputs": [
    {
     "data": {
      "text/plain": [
       "array([nan, '250 Nits', '300 Nits', '400 Nits', '220 Nits'], dtype=object)"
      ]
     },
     "execution_count": 28,
     "metadata": {},
     "output_type": "execute_result"
    }
   ],
   "source": [
    "laptop['Brightness'].unique()"
   ]
  },
  {
   "cell_type": "code",
   "execution_count": 29,
   "id": "6fbd59ab",
   "metadata": {},
   "outputs": [],
   "source": [
    "laptop = laptop.drop('Brightness',axis=1)"
   ]
  },
  {
   "cell_type": "code",
   "execution_count": 30,
   "id": "9a8c3e83",
   "metadata": {},
   "outputs": [],
   "source": [
    "laptop = laptop.drop('Laptop Bag',axis=1)"
   ]
  },
  {
   "cell_type": "code",
   "execution_count": 31,
   "id": "043b3daf",
   "metadata": {},
   "outputs": [],
   "source": [
    "laptop = laptop.drop('Other Accessories',axis=1)"
   ]
  },
  {
   "cell_type": "code",
   "execution_count": 32,
   "id": "97f8c730",
   "metadata": {},
   "outputs": [],
   "source": [
    "laptop = laptop.drop(['NFC Support','Stylus Included','TGP','VGA Port','Color Gamut','Inbuilt 4G LTE','Cloud Storage','S-video','Dock Port','Firewire Port','RJ11','Read/Write Speed','EMMC Storage Capacity','Optane Memory'],axis=1)"
   ]
  },
  {
   "cell_type": "code",
   "execution_count": 33,
   "id": "977e02d3",
   "metadata": {},
   "outputs": [],
   "source": [
    "laptop = laptop.drop('link',axis=1)"
   ]
  },
  {
   "cell_type": "code",
   "execution_count": 34,
   "id": "490822af",
   "metadata": {},
   "outputs": [],
   "source": [
    "laptop = laptop.drop('name',axis=1)"
   ]
  },
  {
   "cell_type": "code",
   "execution_count": 35,
   "id": "ffe28262",
   "metadata": {},
   "outputs": [],
   "source": [
    "laptop = laptop.drop(['Model Number','Part Number','Model Name','Series'],axis=1)"
   ]
  },
  {
   "cell_type": "code",
   "execution_count": 36,
   "id": "634fa425",
   "metadata": {
    "scrolled": true
   },
   "outputs": [],
   "source": [
    "laptop = laptop.drop('Sales Package',axis=1)"
   ]
  },
  {
   "cell_type": "code",
   "execution_count": 37,
   "id": "83baa425",
   "metadata": {},
   "outputs": [],
   "source": [
    "laptop = laptop.dropna(axis=0, subset=['user rating']) "
   ]
  },
  {
   "cell_type": "code",
   "execution_count": 38,
   "id": "6bd66f74",
   "metadata": {},
   "outputs": [],
   "source": [
    "#laptop = laptop.drop('Sales Package',axis=1)"
   ]
  },
  {
   "cell_type": "code",
   "execution_count": 39,
   "id": "70192139",
   "metadata": {},
   "outputs": [],
   "source": [
    "laptop_x, laptop_y = laptop.drop(['user rating', 'Price'],axis=1), laptop[['user rating', 'Price']]"
   ]
  },
  {
   "cell_type": "code",
   "execution_count": 40,
   "id": "6a1eab80",
   "metadata": {},
   "outputs": [],
   "source": [
    "laptop_x = laptop_x.replace(np.nan, '')\n",
    "laptop_x['Number of Cores'] = laptop_x['Number of Cores'].replace('',0.0)\n",
    "laptop_x['RPM']= laptop_x['RPM'].replace('',0.0)\n",
    "laptop_x['Weight']=laptop_x['Weight'].replace('',0.0)"
   ]
  },
  {
   "cell_type": "code",
   "execution_count": 41,
   "id": "3bbbdfe9",
   "metadata": {},
   "outputs": [
    {
     "data": {
      "text/plain": [
       "array(['4', nan, '3', '2', '6'], dtype=object)"
      ]
     },
     "execution_count": 41,
     "metadata": {},
     "output_type": "execute_result"
    }
   ],
   "source": [
    "laptop['Battery Cell'].unique()"
   ]
  },
  {
   "cell_type": "code",
   "execution_count": 42,
   "id": "fbb33f7e",
   "metadata": {},
   "outputs": [
    {
     "data": {
      "text/plain": [
       "array(['64', nan, 'Upto 32 GB', '16', '32', '12', '20', '8', '16 GB',\n",
       "       '24', 'Upto 16 GB', 'Yes', 'Upto 12 GB', 'Upto12GB', 'Upto 8GB',\n",
       "       'Upto12 GB', '32 GB', 'Upto 20 GB', 'Upto 12GB', 'Up to 16 GB',\n",
       "       '16GB', 'Upgradable Upto 20 GB', 'No', '40',\n",
       "       'Upgradeable up to 20GB', 'Upto 40 GB', 'Upto 24 GB',\n",
       "       'Up to 32 GB', 'Up to 16GB', '32GB'], dtype=object)"
      ]
     },
     "execution_count": 42,
     "metadata": {},
     "output_type": "execute_result"
    }
   ],
   "source": [
    "laptop['Expandable Memory'].unique()"
   ]
  },
  {
   "cell_type": "code",
   "execution_count": 43,
   "id": "010b4b14",
   "metadata": {},
   "outputs": [],
   "source": [
    "def extractBytes(x):\n",
    "    if x is not np.nan:\n",
    "        for i in x.split():\n",
    "            if i.isdigit():\n",
    "                return int(i)\n",
    "            elif i.split('G')[0].isdigit():\n",
    "                return int(i.split('G')[0])\n",
    "            else:\n",
    "                if len(i.split('G')[0].split('Upto'))>1:\n",
    "                    if i.split('G')[0].split('Upto')[1].isdigit():\n",
    "                        return int(i.split('G')[0].split('Upto')[1])\n",
    "                "
   ]
  },
  {
   "cell_type": "code",
   "execution_count": 44,
   "id": "0c2413a5",
   "metadata": {},
   "outputs": [],
   "source": [
    "laptop['Expandable Memory'] = laptop['Expandable Memory'].apply(extractBytes)"
   ]
  },
  {
   "cell_type": "code",
   "execution_count": 45,
   "id": "a5a320a3",
   "metadata": {},
   "outputs": [
    {
     "data": {
      "text/plain": [
       "array([64., nan, 32., 16., 12., 20.,  8., 24., 40.])"
      ]
     },
     "execution_count": 45,
     "metadata": {},
     "output_type": "execute_result"
    }
   ],
   "source": [
    "laptop['Expandable Memory'].unique()"
   ]
  },
  {
   "cell_type": "code",
   "execution_count": 46,
   "id": "93e335f3",
   "metadata": {},
   "outputs": [],
   "source": [
    "def extractMBytes(x):\n",
    "    if x is not np.nan:\n",
    "        for i in x.split(' '):\n",
    "            if i.isdigit():\n",
    "                return int(i)\n",
    "            elif i.split('M')[0].isdigit():\n",
    "                return int(i.split('M')[0])\n",
    "            else:\n",
    "                if len(i.split('M')[0].split('Upto'))>1:\n",
    "                    if i.split('M')[0].split('Upto')[1].isdigit():\n",
    "                        return int(i.split('M')[0].split('Upto')[1])"
   ]
  },
  {
   "cell_type": "code",
   "execution_count": 47,
   "id": "b6a52fd7",
   "metadata": {},
   "outputs": [],
   "source": [
    "laptop['Cache'] = laptop['Cache'].apply(extractMBytes)"
   ]
  },
  {
   "cell_type": "code",
   "execution_count": 48,
   "id": "f1de99ed",
   "metadata": {},
   "outputs": [
    {
     "data": {
      "text/plain": [
       "array(['64 bit', nan, '32 bit'], dtype=object)"
      ]
     },
     "execution_count": 48,
     "metadata": {},
     "output_type": "execute_result"
    }
   ],
   "source": [
    "laptop['OS Architecture'].unique()"
   ]
  },
  {
   "cell_type": "code",
   "execution_count": 49,
   "id": "c25826de",
   "metadata": {},
   "outputs": [
    {
     "data": {
      "text/plain": [
       "array(['Windows 11 Home', 'Windows 10', 'Chrome', 'Windows 10 Home',\n",
       "       'DOS', 'Mac OS Monterey', 'Mac OS Big Sur', 'Windows 10 Pro',\n",
       "       'Ubuntu'], dtype=object)"
      ]
     },
     "execution_count": 49,
     "metadata": {},
     "output_type": "execute_result"
    }
   ],
   "source": [
    "laptop['Operating System'].unique()"
   ]
  },
  {
   "cell_type": "code",
   "execution_count": 50,
   "id": "08e8a232",
   "metadata": {},
   "outputs": [],
   "source": [
    "laptop = laptop.drop('Supported Operating System',axis=1)"
   ]
  },
  {
   "cell_type": "code",
   "execution_count": 51,
   "id": "0903183e",
   "metadata": {},
   "outputs": [],
   "source": [
    "laptop['Mic In'].unique()\n",
    "laptop['Mic In'] = laptop['Mic In'].fillna(\"No\")"
   ]
  },
  {
   "cell_type": "code",
   "execution_count": 52,
   "id": "a2066640",
   "metadata": {},
   "outputs": [],
   "source": [
    "\n",
    "laptop = laptop.drop('USB Port',axis=1)"
   ]
  },
  {
   "cell_type": "code",
   "execution_count": 53,
   "id": "3aa49679",
   "metadata": {},
   "outputs": [],
   "source": [
    "laptop['HDMI Port'].unique()\n",
    "laptop = laptop.drop('HDMI Port',axis=1)"
   ]
  },
  {
   "cell_type": "code",
   "execution_count": 54,
   "id": "c3d0a628",
   "metadata": {},
   "outputs": [
    {
     "data": {
      "text/plain": [
       "array(['No', 'Yes'], dtype=object)"
      ]
     },
     "execution_count": 54,
     "metadata": {},
     "output_type": "execute_result"
    }
   ],
   "source": [
    "laptop['Touchscreen'].unique()"
   ]
  },
  {
   "cell_type": "code",
   "execution_count": 55,
   "id": "c2804cb9",
   "metadata": {},
   "outputs": [],
   "source": [
    "laptop = laptop.drop('Recovery Options',axis=1)"
   ]
  },
  {
   "cell_type": "code",
   "execution_count": 56,
   "id": "c7d6dd1d",
   "metadata": {},
   "outputs": [
    {
     "data": {
      "text/plain": [
       "array(['No', 'Yes'], dtype=object)"
      ]
     },
     "execution_count": 56,
     "metadata": {},
     "output_type": "execute_result"
    }
   ],
   "source": [
    "laptop['Face Recognition'].unique()\n",
    "laptop['Face Recognition'] = laptop['Face Recognition'].fillna('No')\n",
    "laptop['Face Recognition'].unique()"
   ]
  },
  {
   "cell_type": "code",
   "execution_count": 57,
   "id": "4873f1cc",
   "metadata": {},
   "outputs": [],
   "source": [
    "laptop = laptop.drop(['System Architecture','Security Chip','Lock Port','HDD Capacity', 'International Warranty','Chipset','Antivirus'],axis=1)"
   ]
  },
  {
   "cell_type": "code",
   "execution_count": 58,
   "id": "39dac754",
   "metadata": {},
   "outputs": [],
   "source": [
    "laptop = laptop.drop(['Wireless WAN','Domestic Warranty','Ethernet', 'Pointer Device','Hardware Interface','Included Software'],axis=1)"
   ]
  },
  {
   "cell_type": "code",
   "execution_count": 59,
   "id": "ae86ac3d",
   "metadata": {},
   "outputs": [],
   "source": [
    "laptop = laptop.drop(['Additional Features','Warranty Summary','Warranty Service Type', 'Covered in Warranty','Not Covered in Warranty'],axis=1)"
   ]
  },
  {
   "cell_type": "code",
   "execution_count": 60,
   "id": "f7bab7f6",
   "metadata": {},
   "outputs": [
    {
     "data": {
      "text/plain": [
       "array([    nan, 4.0e+00, 5.4e+03, 7.2e+03])"
      ]
     },
     "execution_count": 60,
     "metadata": {},
     "output_type": "execute_result"
    }
   ],
   "source": [
    "laptop['RPM'].unique()"
   ]
  },
  {
   "cell_type": "code",
   "execution_count": 61,
   "id": "394d964c",
   "metadata": {},
   "outputs": [],
   "source": [
    "laptop = laptop.drop(\"RPM\",axis=1)"
   ]
  },
  {
   "cell_type": "code",
   "execution_count": 62,
   "id": "020ac78c",
   "metadata": {},
   "outputs": [],
   "source": [
    "laptop = laptop.drop(\"Sound Chip\",axis=1)"
   ]
  },
  {
   "cell_type": "code",
   "execution_count": 63,
   "id": "bbd862dc",
   "metadata": {},
   "outputs": [],
   "source": [
    "laptop = laptop.drop(\"Battery Backup\",axis=1)"
   ]
  },
  {
   "cell_type": "code",
   "execution_count": 64,
   "id": "6c25b324",
   "metadata": {},
   "outputs": [],
   "source": [
    "laptop = laptop.drop(\"Memory Slots\",axis=1)"
   ]
  },
  {
   "cell_type": "code",
   "execution_count": 65,
   "id": "fb7147de",
   "metadata": {},
   "outputs": [],
   "source": [
    "laptop['Weight'] = laptop['Weight'].str.extractall('(\\d.\\d+)').unstack().loc[:,0]"
   ]
  },
  {
   "cell_type": "code",
   "execution_count": 66,
   "id": "2ad417aa",
   "metadata": {},
   "outputs": [],
   "source": [
    "laptop['RAM'] = laptop['RAM'].apply(extractBytes)"
   ]
  },
  {
   "cell_type": "code",
   "execution_count": 67,
   "id": "dbc0c101",
   "metadata": {},
   "outputs": [],
   "source": [
    "laptop['Backlit Keyboard'] = laptop['Backlit Keyboard'].fillna(\"No\")\n",
    "laptop['Finger Print Sensor'] = laptop['Finger Print Sensor'].fillna(\"No\")\n",
    "laptop['Web Camera'] = laptop['Web Camera'].fillna(\"No\")\n",
    "laptop['Dedicated Graphic Memory Capacity in MB'] = laptop['Dedicated Graphic Memory Capacity in MB'].fillna(0.0)"
   ]
  },
  {
   "cell_type": "code",
   "execution_count": 68,
   "id": "820e25d7",
   "metadata": {},
   "outputs": [],
   "source": [
    "def extractbit(x):\n",
    "    if x is not np.nan:\n",
    "        return x.split(' ')[0]"
   ]
  },
  {
   "cell_type": "code",
   "execution_count": 69,
   "id": "0ef061a5",
   "metadata": {},
   "outputs": [],
   "source": [
    "laptop['OS Architecture'] = laptop['OS Architecture'].apply(extractbit)"
   ]
  },
  {
   "cell_type": "code",
   "execution_count": 70,
   "id": "f3b98f6a",
   "metadata": {},
   "outputs": [],
   "source": [
    "def extractWT(x):\n",
    "    if x is not np.nan:\n",
    "        return x.split(' ')[0]"
   ]
  },
  {
   "cell_type": "code",
   "execution_count": 71,
   "id": "571e4d32",
   "metadata": {},
   "outputs": [],
   "source": [
    "int_col = laptop.select_dtypes(include=[np.float]).columns"
   ]
  },
  {
   "cell_type": "code",
   "execution_count": 72,
   "id": "5442f248",
   "metadata": {},
   "outputs": [],
   "source": [
    "laptop_object = laptop.select_dtypes('object')"
   ]
  },
  {
   "cell_type": "code",
   "execution_count": 73,
   "id": "b3f09b7f",
   "metadata": {},
   "outputs": [],
   "source": [
    "laptop['Price'] = laptop['Price'].replace(',','', regex=True)\n",
    "laptop['Price'] = laptop['Price'].str.extract('(\\d+)').astype(float)"
   ]
  },
  {
   "cell_type": "code",
   "execution_count": 74,
   "id": "e10ee897",
   "metadata": {},
   "outputs": [],
   "source": [
    "laptop['user rating'] = laptop['user rating'].astype(int)"
   ]
  },
  {
   "cell_type": "code",
   "execution_count": 75,
   "id": "d1a71f8d",
   "metadata": {},
   "outputs": [],
   "source": [
    "laptop_x, laptop_y = laptop.drop(['user rating', 'Price'],axis=1), laptop[['user rating', 'Price']]"
   ]
  },
  {
   "cell_type": "code",
   "execution_count": 76,
   "id": "6d3690ba",
   "metadata": {},
   "outputs": [],
   "source": [
    "laptop_x_obj = laptop_x.select_dtypes('object')"
   ]
  },
  {
   "cell_type": "code",
   "execution_count": 77,
   "id": "dfba0a79",
   "metadata": {},
   "outputs": [],
   "source": [
    "laptop = laptop.fillna(0)"
   ]
  },
  {
   "cell_type": "code",
   "execution_count": 78,
   "id": "128b8b44",
   "metadata": {},
   "outputs": [],
   "source": [
    "num_columns = laptop.select_dtypes(include=np.number).columns\n",
    "num_columns\n",
    "cat_columns = []\n",
    "for col in laptop.columns:\n",
    "    if col not in num_columns:\n",
    "        cat_columns.append(col)"
   ]
  },
  {
   "cell_type": "code",
   "execution_count": 79,
   "id": "0a0af106",
   "metadata": {},
   "outputs": [],
   "source": [
    "for cc in cat_columns:\n",
    "    laptop[cc] = pd.Categorical(laptop[cc])\n",
    "    laptop[cc] = laptop[cc].cat.codes"
   ]
  },
  {
   "cell_type": "code",
   "execution_count": 80,
   "id": "ad54d106",
   "metadata": {},
   "outputs": [],
   "source": [
    "laptop_x, laptop_y = laptop.drop(['user rating', 'Price'],axis=1), laptop[['user rating', 'Price']]"
   ]
  },
  {
   "cell_type": "code",
   "execution_count": 81,
   "id": "75a1ee06",
   "metadata": {},
   "outputs": [],
   "source": [
    "corr_lap = laptop.corr()"
   ]
  },
  {
   "cell_type": "code",
   "execution_count": 82,
   "id": "19a30e91",
   "metadata": {},
   "outputs": [],
   "source": [
    "price_col_ = list(corr_lap[corr_lap['Price']>0.5]['Price'].index)"
   ]
  },
  {
   "cell_type": "code",
   "execution_count": 83,
   "id": "041adfef",
   "metadata": {},
   "outputs": [],
   "source": [
    "userrating_col_ = list(corr_lap[corr_lap['user rating']>0.1]['user rating'].index)"
   ]
  },
  {
   "cell_type": "code",
   "execution_count": 84,
   "id": "585b8e56",
   "metadata": {},
   "outputs": [],
   "source": [
    "userrating_col = [col for col in userrating_col_ if col not in price_col_]"
   ]
  },
  {
   "cell_type": "code",
   "execution_count": 85,
   "id": "edf70b25",
   "metadata": {},
   "outputs": [],
   "source": [
    "rem_col = ['Price', 'user rating']"
   ]
  },
  {
   "cell_type": "code",
   "execution_count": 86,
   "id": "1596f5e3",
   "metadata": {},
   "outputs": [],
   "source": [
    "userrating_col = [col for col in userrating_col_ if col not in rem_col]\n",
    "price_col = [col for col in price_col_ if col not in rem_col]"
   ]
  },
  {
   "cell_type": "code",
   "execution_count": 87,
   "id": "e0fff183",
   "metadata": {},
   "outputs": [],
   "source": [
    "train_x, test_x = train_test_split(laptop_x,  random_state=42)"
   ]
  },
  {
   "cell_type": "code",
   "execution_count": 88,
   "id": "264f0554",
   "metadata": {},
   "outputs": [],
   "source": [
    "train_y, test_y = train_test_split(laptop_y,  random_state=42)"
   ]
  },
  {
   "cell_type": "code",
   "execution_count": 89,
   "id": "630c1462",
   "metadata": {},
   "outputs": [],
   "source": [
    "valid_x, test_x = train_test_split(test_x,  random_state=42)"
   ]
  },
  {
   "cell_type": "code",
   "execution_count": 90,
   "id": "247aa080",
   "metadata": {},
   "outputs": [],
   "source": [
    "valid_y, test_y = train_test_split(test_y,  random_state=42)"
   ]
  },
  {
   "cell_type": "code",
   "execution_count": 91,
   "id": "238f61f7",
   "metadata": {},
   "outputs": [],
   "source": [
    "train_user_x = train_x\n",
    "valid_user_x = valid_x\n",
    "test_user_x = test_x\n",
    "#train_user_x = train_x[price_col]\n",
    "#valid_user_x = valid_x[price_col]\n",
    "#test_user_x = test_x[price_col]\n",
    "train_rating_x = train_x[userrating_col]\n",
    "valid_rating_x = valid_x[userrating_col]\n",
    "test_rating_x =test_x[userrating_col]"
   ]
  },
  {
   "cell_type": "code",
   "execution_count": 92,
   "id": "8743afbc",
   "metadata": {},
   "outputs": [],
   "source": [
    "train_user_x = np.array(train_user_x, dtype=np.float32)\n",
    "valid_user_x = np.array(valid_user_x, dtype=np.float32)\n",
    "test_user_x = np.array(test_user_x, dtype=np.float32)\n",
    "train_rating_x = np.array(train_rating_x,dtype=np.float32)\n",
    "valid_rating_x =  np.array(valid_rating_x, dtype=np.float32)\n",
    "test_rating_x =  np.array(test_rating_x,dtype=np.float32)"
   ]
  },
  {
   "cell_type": "code",
   "execution_count": 93,
   "id": "eabc478e",
   "metadata": {},
   "outputs": [
    {
     "name": "stdout",
     "output_type": "stream",
     "text": [
      "517 517 129 129 44 44\n"
     ]
    }
   ],
   "source": [
    "print(len(train_x), len(train_y), len(valid_x), len(valid_y), len(test_x), len(test_y))"
   ]
  },
  {
   "cell_type": "code",
   "execution_count": 94,
   "id": "1872601e",
   "metadata": {},
   "outputs": [],
   "source": [
    "corr_lap = laptop.corr()"
   ]
  },
  {
   "cell_type": "code",
   "execution_count": 95,
   "id": "11eb8bb5",
   "metadata": {},
   "outputs": [
    {
     "data": {
      "text/plain": [
       "Price                                      1.000000\n",
       "Dedicated Graphic Memory Type              0.572944\n",
       "SSD Capacity                               0.708210\n",
       "RAM                                        0.718217\n",
       "Cache                                      0.518089\n",
       "Number of Cores                            0.506365\n",
       "Screen Resolution                          0.504974\n",
       "Dedicated Graphic Memory Capacity in MB    0.648777\n",
       "Name: Price, dtype: float64"
      ]
     },
     "execution_count": 95,
     "metadata": {},
     "output_type": "execute_result"
    }
   ],
   "source": [
    "corr_lap[corr_lap['Price']>0.5]['Price']"
   ]
  },
  {
   "cell_type": "code",
   "execution_count": 96,
   "id": "89a73fc1",
   "metadata": {},
   "outputs": [
    {
     "data": {
      "text/plain": [
       "user rating                                1.000000\n",
       "Price                                      0.193050\n",
       "Dedicated Graphic Memory Type              0.125035\n",
       "Processor Name                             0.148968\n",
       "SSD                                        0.396962\n",
       "SSD Capacity                               0.247314\n",
       "RAM                                        0.174961\n",
       "Clock Speed                                0.109070\n",
       "Cache                                      0.152568\n",
       "Number of Cores                            0.129461\n",
       "Operating System                           0.185911\n",
       "Screen Resolution                          0.129649\n",
       "Wireless LAN                               0.129255\n",
       "Disk Drive                                 0.117127\n",
       "Backlit Keyboard                           0.220258\n",
       "Dedicated Graphic Memory Capacity in MB    0.142788\n",
       "Name: user rating, dtype: float64"
      ]
     },
     "execution_count": 96,
     "metadata": {},
     "output_type": "execute_result"
    }
   ],
   "source": [
    "corr_lap[corr_lap['user rating']>0.1]['user rating']"
   ]
  },
  {
   "cell_type": "code",
   "execution_count": 97,
   "id": "bc3f01eb",
   "metadata": {},
   "outputs": [],
   "source": [
    "price_col = list(corr_lap[corr_lap['Price']>0.5]['Price'].index)"
   ]
  },
  {
   "cell_type": "code",
   "execution_count": 98,
   "id": "1793d2c6",
   "metadata": {},
   "outputs": [],
   "source": [
    "userrating_col_ = list(corr_lap[corr_lap['user rating']>0.1]['user rating'].index)"
   ]
  },
  {
   "cell_type": "code",
   "execution_count": 99,
   "id": "30ac98ce",
   "metadata": {},
   "outputs": [],
   "source": [
    "userrating_col = [col for col in userrating_col_ if col not in price_col]"
   ]
  },
  {
   "cell_type": "code",
   "execution_count": 100,
   "id": "104e3880",
   "metadata": {},
   "outputs": [
    {
     "data": {
      "text/plain": [
       "array([[18.,  2.,  0., ...,  7.,  3.,  0.],\n",
       "       [ 4.,  0.,  0., ...,  6.,  3.,  0.],\n",
       "       [31.,  3.,  4., ...,  1.,  1.,  4.],\n",
       "       ...,\n",
       "       [ 9.,  0.,  4., ...,  7.,  3.,  4.],\n",
       "       [ 4.,  0.,  0., ...,  6.,  3.,  0.],\n",
       "       [ 2.,  0.,  4., ..., 13.,  1.,  6.]], dtype=float32)"
      ]
     },
     "execution_count": 100,
     "metadata": {},
     "output_type": "execute_result"
    }
   ],
   "source": [
    "train_user_x"
   ]
  },
  {
   "cell_type": "code",
   "execution_count": 101,
   "id": "15e769ca",
   "metadata": {},
   "outputs": [
    {
     "data": {
      "text/plain": [
       "array([[ 0.,  5.,  1., ...,  2.,  1.,  0.],\n",
       "       [ 0.,  5.,  1., ...,  2.,  0.,  0.],\n",
       "       [ 4., 21.,  1., ...,  2.,  1.,  4.],\n",
       "       ...,\n",
       "       [ 4.,  6.,  1., ...,  2.,  1.,  4.],\n",
       "       [ 0.,  6.,  1., ...,  2.,  1.,  0.],\n",
       "       [ 4.,  8.,  1., ...,  2.,  1.,  6.]], dtype=float32)"
      ]
     },
     "execution_count": 101,
     "metadata": {},
     "output_type": "execute_result"
    }
   ],
   "source": [
    "train_rating_x"
   ]
  },
  {
   "cell_type": "code",
   "execution_count": 102,
   "id": "638f1428",
   "metadata": {},
   "outputs": [],
   "source": [
    "input_1 = keras.layers.Input(shape=train_user_x[0].shape[0])\n",
    "input_2 = keras.layers.Input(shape=train_rating_x[0].shape[0])\n",
    "#input_3 = keras.layers.concatenate([input_1,input_2])\n",
    "hidden_1 = keras.layers.Dense(30,activation='relu')(input_1)\n",
    "hidden_2 = keras.layers.Dense(30,activation='relu')(hidden_1)\n",
    "hidden_3 = keras.layers.Dense(30,activation='relu')(hidden_2)\n",
    "hidden_4 = keras.layers.Dense(30,activation='relu')(hidden_3)\n",
    "hidden_5 = keras.layers.Dense(30,activation='relu')(hidden_4)\n",
    "concat = keras.layers.concatenate([input_2,hidden_4])\n",
    "output_1 = keras.layers.Dense(6,name='userrating', activation='softmax')(concat)\n",
    "output_2 = keras.layers.Dense(1, name='price')(hidden_4)\n",
    "\n",
    "model = keras.Model(inputs=[input_1, input_2], outputs=[output_1, output_2])"
   ]
  },
  {
   "cell_type": "code",
   "execution_count": 103,
   "id": "05164388",
   "metadata": {},
   "outputs": [
    {
     "name": "stdout",
     "output_type": "stream",
     "text": [
      "Model: \"model\"\n",
      "__________________________________________________________________________________________________\n",
      "Layer (type)                    Output Shape         Param #     Connected to                     \n",
      "==================================================================================================\n",
      "input_1 (InputLayer)            [(None, 41)]         0                                            \n",
      "__________________________________________________________________________________________________\n",
      "dense (Dense)                   (None, 30)           1260        input_1[0][0]                    \n",
      "__________________________________________________________________________________________________\n",
      "dense_1 (Dense)                 (None, 30)           930         dense[0][0]                      \n",
      "__________________________________________________________________________________________________\n",
      "dense_2 (Dense)                 (None, 30)           930         dense_1[0][0]                    \n",
      "__________________________________________________________________________________________________\n",
      "input_2 (InputLayer)            [(None, 14)]         0                                            \n",
      "__________________________________________________________________________________________________\n",
      "dense_3 (Dense)                 (None, 30)           930         dense_2[0][0]                    \n",
      "__________________________________________________________________________________________________\n",
      "concatenate (Concatenate)       (None, 44)           0           input_2[0][0]                    \n",
      "                                                                 dense_3[0][0]                    \n",
      "__________________________________________________________________________________________________\n",
      "userrating (Dense)              (None, 6)            270         concatenate[0][0]                \n",
      "__________________________________________________________________________________________________\n",
      "price (Dense)                   (None, 1)            31          dense_3[0][0]                    \n",
      "==================================================================================================\n",
      "Total params: 4,351\n",
      "Trainable params: 4,351\n",
      "Non-trainable params: 0\n",
      "__________________________________________________________________________________________________\n"
     ]
    }
   ],
   "source": [
    "model.summary()"
   ]
  },
  {
   "cell_type": "code",
   "execution_count": 104,
   "id": "1649426c",
   "metadata": {
    "scrolled": false
   },
   "outputs": [
    {
     "name": "stdout",
     "output_type": "stream",
     "text": [
      "Epoch 1/100\n",
      "17/17 [==============================] - 1s 22ms/step - loss: 4656062307.5556 - userrating_loss: 48.3726 - price_loss: 4656062307.5556 - userrating_accuracy: 0.1337 - price_root_mean_squared_error: 68217.9865 - val_loss: 4178351616.0000 - val_userrating_loss: 44.9986 - val_price_loss: 4178351616.0000 - val_userrating_accuracy: 0.1783 - val_price_root_mean_squared_error: 64640.1719\n",
      "Epoch 2/100\n",
      "17/17 [==============================] - 0s 4ms/step - loss: 4648875434.6667 - userrating_loss: 52.3856 - price_loss: 4648875434.6667 - userrating_accuracy: 0.1052 - price_root_mean_squared_error: 68170.5339 - val_loss: 4177144832.0000 - val_userrating_loss: 43.4882 - val_price_loss: 4177144576.0000 - val_userrating_accuracy: 0.2016 - val_price_root_mean_squared_error: 64630.8320\n",
      "Epoch 3/100\n",
      "17/17 [==============================] - 0s 5ms/step - loss: 4559254670.2222 - userrating_loss: 42.5647 - price_loss: 4559254670.2222 - userrating_accuracy: 0.1282 - price_root_mean_squared_error: 67504.9868 - val_loss: 4175838976.0000 - val_userrating_loss: 43.1307 - val_price_loss: 4175838976.0000 - val_userrating_accuracy: 0.1783 - val_price_root_mean_squared_error: 64620.7305\n",
      "Epoch 4/100\n",
      "17/17 [==============================] - 0s 5ms/step - loss: 4757368632.8889 - userrating_loss: 41.7883 - price_loss: 4757368632.8889 - userrating_accuracy: 0.1485 - price_root_mean_squared_error: 68955.9544 - val_loss: 4174320640.0000 - val_userrating_loss: 43.8019 - val_price_loss: 4174320640.0000 - val_userrating_accuracy: 0.1628 - val_price_root_mean_squared_error: 64608.9844\n",
      "Epoch 5/100\n",
      "17/17 [==============================] - 0s 4ms/step - loss: 4457175424.0000 - userrating_loss: 43.7918 - price_loss: 4457175424.0000 - userrating_accuracy: 0.1234 - price_root_mean_squared_error: 66721.7185 - val_loss: 4172420864.0000 - val_userrating_loss: 45.3641 - val_price_loss: 4172420864.0000 - val_userrating_accuracy: 0.1550 - val_price_root_mean_squared_error: 64594.2773\n",
      "Epoch 6/100\n",
      "17/17 [==============================] - 0s 4ms/step - loss: 4210489472.0000 - userrating_loss: 48.1859 - price_loss: 4210489472.0000 - userrating_accuracy: 0.1116 - price_root_mean_squared_error: 64839.0178 - val_loss: 4170007040.0000 - val_userrating_loss: 47.5319 - val_price_loss: 4170007040.0000 - val_userrating_accuracy: 0.1240 - val_price_root_mean_squared_error: 64575.5898\n",
      "Epoch 7/100\n",
      "17/17 [==============================] - 0s 4ms/step - loss: 4583528775.1111 - userrating_loss: 48.2284 - price_loss: 4583528775.1111 - userrating_accuracy: 0.0927 - price_root_mean_squared_error: 67644.3592 - val_loss: 4166982656.0000 - val_userrating_loss: 50.5797 - val_price_loss: 4166982656.0000 - val_userrating_accuracy: 0.1008 - val_price_root_mean_squared_error: 64552.1719\n",
      "Epoch 8/100\n",
      "17/17 [==============================] - 0s 6ms/step - loss: 4275332295.1111 - userrating_loss: 51.3620 - price_loss: 4275332295.1111 - userrating_accuracy: 0.0735 - price_root_mean_squared_error: 65336.3266 - val_loss: 4163403008.0000 - val_userrating_loss: 54.2502 - val_price_loss: 4163403008.0000 - val_userrating_accuracy: 0.0620 - val_price_root_mean_squared_error: 64524.4375\n",
      "Epoch 9/100\n",
      "17/17 [==============================] - 0s 3ms/step - loss: 4299420487.1111 - userrating_loss: 55.4552 - price_loss: 4299420487.1111 - userrating_accuracy: 0.0719 - price_root_mean_squared_error: 65538.2988 - val_loss: 4159119360.0000 - val_userrating_loss: 57.9693 - val_price_loss: 4159119360.0000 - val_userrating_accuracy: 0.0465 - val_price_root_mean_squared_error: 64491.2344\n",
      "Epoch 10/100\n",
      "17/17 [==============================] - 0s 4ms/step - loss: 4545896021.3333 - userrating_loss: 58.6446 - price_loss: 4545896021.3333 - userrating_accuracy: 0.0747 - price_root_mean_squared_error: 67383.7311 - val_loss: 4154120192.0000 - val_userrating_loss: 61.4650 - val_price_loss: 4154120192.0000 - val_userrating_accuracy: 0.0543 - val_price_root_mean_squared_error: 64452.4648\n",
      "Epoch 11/100\n",
      "17/17 [==============================] - 0s 4ms/step - loss: 4784245347.5556 - userrating_loss: 63.7193 - price_loss: 4784245347.5556 - userrating_accuracy: 0.0916 - price_root_mean_squared_error: 69141.4857 - val_loss: 4148494592.0000 - val_userrating_loss: 63.8550 - val_price_loss: 4148494592.0000 - val_userrating_accuracy: 0.0543 - val_price_root_mean_squared_error: 64408.8086\n",
      "Epoch 12/100\n",
      "17/17 [==============================] - 0s 5ms/step - loss: 4982436010.6667 - userrating_loss: 67.4711 - price_loss: 4982436010.6667 - userrating_accuracy: 0.0775 - price_root_mean_squared_error: 70533.8355 - val_loss: 4142033408.0000 - val_userrating_loss: 64.2075 - val_price_loss: 4142033408.0000 - val_userrating_accuracy: 0.0853 - val_price_root_mean_squared_error: 64358.6328\n",
      "Epoch 13/100\n",
      "17/17 [==============================] - 0s 7ms/step - loss: 4539258481.7778 - userrating_loss: 67.1739 - price_loss: 4539258481.7778 - userrating_accuracy: 0.0998 - price_root_mean_squared_error: 67364.9523 - val_loss: 4134384384.0000 - val_userrating_loss: 64.5829 - val_price_loss: 4134384384.0000 - val_userrating_accuracy: 0.1008 - val_price_root_mean_squared_error: 64299.1797\n",
      "Epoch 14/100\n",
      "17/17 [==============================] - 0s 5ms/step - loss: 5222903694.2222 - userrating_loss: 69.5514 - price_loss: 5222903694.2222 - userrating_accuracy: 0.1233 - price_root_mean_squared_error: 72081.1984 - val_loss: 4125263104.0000 - val_userrating_loss: 71.2541 - val_price_loss: 4125263104.0000 - val_userrating_accuracy: 0.1473 - val_price_root_mean_squared_error: 64228.2109\n",
      "Epoch 15/100\n",
      "17/17 [==============================] - 0s 7ms/step - loss: 4554241180.4444 - userrating_loss: 81.3807 - price_loss: 4554241180.4444 - userrating_accuracy: 0.1372 - price_root_mean_squared_error: 67467.7565 - val_loss: 4114929408.0000 - val_userrating_loss: 84.8002 - val_price_loss: 4114929408.0000 - val_userrating_accuracy: 0.1628 - val_price_root_mean_squared_error: 64147.7148\n",
      "Epoch 16/100\n",
      "17/17 [==============================] - 0s 7ms/step - loss: 4745776725.3333 - userrating_loss: 95.2819 - price_loss: 4745776725.3333 - userrating_accuracy: 0.1580 - price_root_mean_squared_error: 68840.4264 - val_loss: 4103042560.0000 - val_userrating_loss: 101.5569 - val_price_loss: 4103042560.0000 - val_userrating_accuracy: 0.1628 - val_price_root_mean_squared_error: 64054.9961\n",
      "Epoch 17/100\n",
      "17/17 [==============================] - 0s 7ms/step - loss: 4361520312.8889 - userrating_loss: 112.8852 - price_loss: 4361520312.8889 - userrating_accuracy: 0.1772 - price_root_mean_squared_error: 65955.0521 - val_loss: 4088429568.0000 - val_userrating_loss: 123.4454 - val_price_loss: 4088429568.0000 - val_userrating_accuracy: 0.1705 - val_price_root_mean_squared_error: 63940.8281\n",
      "Epoch 18/100\n",
      "17/17 [==============================] - 0s 9ms/step - loss: 5082190449.7778 - userrating_loss: 137.1212 - price_loss: 5082190449.7778 - userrating_accuracy: 0.1669 - price_root_mean_squared_error: 71158.8290 - val_loss: 4070247680.0000 - val_userrating_loss: 153.9939 - val_price_loss: 4070247680.0000 - val_userrating_accuracy: 0.1705 - val_price_root_mean_squared_error: 63798.4922\n",
      "Epoch 19/100\n",
      "17/17 [==============================] - 0s 8ms/step - loss: 4535327943.1111 - userrating_loss: 163.8723 - price_loss: 4535327914.6667 - userrating_accuracy: 0.1955 - price_root_mean_squared_error: 67329.9071 - val_loss: 4048130560.0000 - val_userrating_loss: 181.9923 - val_price_loss: 4048130304.0000 - val_userrating_accuracy: 0.1705 - val_price_root_mean_squared_error: 63624.9180\n",
      "Epoch 20/100\n",
      "17/17 [==============================] - 0s 6ms/step - loss: 4449702129.7778 - userrating_loss: 186.9603 - price_loss: 4449701902.2222 - userrating_accuracy: 0.1927 - price_root_mean_squared_error: 66642.8934 - val_loss: 4022642432.0000 - val_userrating_loss: 204.0346 - val_price_loss: 4022641920.0000 - val_userrating_accuracy: 0.1705 - val_price_root_mean_squared_error: 63424.3008\n",
      "Epoch 21/100\n",
      "17/17 [==============================] - 0s 6ms/step - loss: 4502473728.0000 - userrating_loss: 216.3124 - price_loss: 4502473614.2222 - userrating_accuracy: 0.1684 - price_root_mean_squared_error: 67085.6376 - val_loss: 3991766272.0000 - val_userrating_loss: 220.4261 - val_price_loss: 3991765760.0000 - val_userrating_accuracy: 0.1705 - val_price_root_mean_squared_error: 63180.4219\n"
     ]
    },
    {
     "name": "stdout",
     "output_type": "stream",
     "text": [
      "Epoch 22/100\n",
      "17/17 [==============================] - 0s 6ms/step - loss: 4130116963.5556 - userrating_loss: 219.7375 - price_loss: 4130116878.2222 - userrating_accuracy: 0.1897 - price_root_mean_squared_error: 64230.8175 - val_loss: 3956622336.0000 - val_userrating_loss: 226.7340 - val_price_loss: 3956622080.0000 - val_userrating_accuracy: 0.1705 - val_price_root_mean_squared_error: 62901.6875\n",
      "Epoch 23/100\n",
      "17/17 [==============================] - 0s 6ms/step - loss: 4819570488.8889 - userrating_loss: 229.3702 - price_loss: 4819570403.5556 - userrating_accuracy: 0.1861 - price_root_mean_squared_error: 69328.5690 - val_loss: 3915621888.0000 - val_userrating_loss: 225.5643 - val_price_loss: 3915621120.0000 - val_userrating_accuracy: 0.1705 - val_price_root_mean_squared_error: 62574.9258\n",
      "Epoch 24/100\n",
      "17/17 [==============================] - 0s 6ms/step - loss: 4838467925.3333 - userrating_loss: 228.9347 - price_loss: 4838467896.8889 - userrating_accuracy: 0.1565 - price_root_mean_squared_error: 69437.4592 - val_loss: 3869284096.0000 - val_userrating_loss: 209.8064 - val_price_loss: 3869284096.0000 - val_userrating_accuracy: 0.1705 - val_price_root_mean_squared_error: 62203.5703\n",
      "Epoch 25/100\n",
      "17/17 [==============================] - 0s 6ms/step - loss: 4308046407.1111 - userrating_loss: 205.1941 - price_loss: 4308046208.0000 - userrating_accuracy: 0.1763 - price_root_mean_squared_error: 65592.4905 - val_loss: 3817347584.0000 - val_userrating_loss: 179.6656 - val_price_loss: 3817347328.0000 - val_userrating_accuracy: 0.1705 - val_price_root_mean_squared_error: 61784.6836\n",
      "Epoch 26/100\n",
      "17/17 [==============================] - 0s 6ms/step - loss: 4272735032.8889 - userrating_loss: 172.2541 - price_loss: 4272734535.1111 - userrating_accuracy: 0.1587 - price_root_mean_squared_error: 65353.4201 - val_loss: 3757691904.0000 - val_userrating_loss: 132.5040 - val_price_loss: 3757691392.0000 - val_userrating_accuracy: 0.1705 - val_price_root_mean_squared_error: 61300.0117\n",
      "Epoch 27/100\n",
      "17/17 [==============================] - 0s 12ms/step - loss: 4831060579.5556 - userrating_loss: 112.7407 - price_loss: 4831060579.5556 - userrating_accuracy: 0.1982 - price_root_mean_squared_error: 69369.8494 - val_loss: 3683416832.0000 - val_userrating_loss: 86.7755 - val_price_loss: 3683416576.0000 - val_userrating_accuracy: 0.2326 - val_price_root_mean_squared_error: 60691.1562\n",
      "Epoch 28/100\n",
      "17/17 [==============================] - 0s 6ms/step - loss: 3962508643.5556 - userrating_loss: 75.0547 - price_loss: 3962508643.5556 - userrating_accuracy: 0.2159 - price_root_mean_squared_error: 62925.4894 - val_loss: 3599214848.0000 - val_userrating_loss: 55.6026 - val_price_loss: 3599214848.0000 - val_userrating_accuracy: 0.4651 - val_price_root_mean_squared_error: 59993.4570\n",
      "Epoch 29/100\n",
      "17/17 [==============================] - 0s 8ms/step - loss: 3769474545.7778 - userrating_loss: 43.8739 - price_loss: 3769474545.7778 - userrating_accuracy: 0.4441 - price_root_mean_squared_error: 61327.5532 - val_loss: 3495505920.0000 - val_userrating_loss: 54.1500 - val_price_loss: 3495505920.0000 - val_userrating_accuracy: 0.6822 - val_price_root_mean_squared_error: 59122.8047\n",
      "Epoch 30/100\n",
      "17/17 [==============================] - 0s 11ms/step - loss: 3697418851.5556 - userrating_loss: 38.4751 - price_loss: 3697418851.5556 - userrating_accuracy: 0.5804 - price_root_mean_squared_error: 60795.2515 - val_loss: 3379047424.0000 - val_userrating_loss: 59.9641 - val_price_loss: 3379046912.0000 - val_userrating_accuracy: 0.6822 - val_price_root_mean_squared_error: 58129.5703\n",
      "Epoch 31/100\n",
      "17/17 [==============================] - 0s 9ms/step - loss: 3893432334.2222 - userrating_loss: 50.1124 - price_loss: 3893432334.2222 - userrating_accuracy: 0.5770 - price_root_mean_squared_error: 62260.9490 - val_loss: 3246227200.0000 - val_userrating_loss: 66.0196 - val_price_loss: 3246226688.0000 - val_userrating_accuracy: 0.7054 - val_price_root_mean_squared_error: 56975.6680\n",
      "Epoch 32/100\n",
      "17/17 [==============================] - 0s 6ms/step - loss: 3540985173.3333 - userrating_loss: 45.9689 - price_loss: 3540985173.3333 - userrating_accuracy: 0.5893 - price_root_mean_squared_error: 59491.1066 - val_loss: 3094974208.0000 - val_userrating_loss: 72.3734 - val_price_loss: 3094974208.0000 - val_userrating_accuracy: 0.7132 - val_price_root_mean_squared_error: 55632.4922\n",
      "Epoch 33/100\n",
      "17/17 [==============================] - 0s 6ms/step - loss: 3695446243.5556 - userrating_loss: 39.2741 - price_loss: 3695446243.5556 - userrating_accuracy: 0.6594 - price_root_mean_squared_error: 60647.1608 - val_loss: 2928503552.0000 - val_userrating_loss: 79.6333 - val_price_loss: 2928503552.0000 - val_userrating_accuracy: 0.7597 - val_price_root_mean_squared_error: 54115.6484\n",
      "Epoch 34/100\n",
      "17/17 [==============================] - 0s 5ms/step - loss: 3104922496.0000 - userrating_loss: 45.2100 - price_loss: 3104922496.0000 - userrating_accuracy: 0.6811 - price_root_mean_squared_error: 55695.9325 - val_loss: 2745879040.0000 - val_userrating_loss: 85.8267 - val_price_loss: 2745879040.0000 - val_userrating_accuracy: 0.7442 - val_price_root_mean_squared_error: 52401.1367\n",
      "Epoch 35/100\n",
      "17/17 [==============================] - 0s 5ms/step - loss: 3012333937.7778 - userrating_loss: 34.9291 - price_loss: 3012333937.7778 - userrating_accuracy: 0.6852 - price_root_mean_squared_error: 54869.8602 - val_loss: 2547199232.0000 - val_userrating_loss: 92.7081 - val_price_loss: 2547199232.0000 - val_userrating_accuracy: 0.7519 - val_price_root_mean_squared_error: 50469.7852\n",
      "Epoch 36/100\n",
      "17/17 [==============================] - 0s 10ms/step - loss: 2807553891.5556 - userrating_loss: 45.2085 - price_loss: 2807553877.3333 - userrating_accuracy: 0.6938 - price_root_mean_squared_error: 52956.1070 - val_loss: 2335192832.0000 - val_userrating_loss: 99.4616 - val_price_loss: 2335192832.0000 - val_userrating_accuracy: 0.7442 - val_price_root_mean_squared_error: 48323.8320\n",
      "Epoch 37/100\n",
      "17/17 [==============================] - 0s 6ms/step - loss: 2429087879.1111 - userrating_loss: 46.3699 - price_loss: 2429087872.0000 - userrating_accuracy: 0.7339 - price_root_mean_squared_error: 49253.5043 - val_loss: 2117591296.0000 - val_userrating_loss: 103.8328 - val_price_loss: 2117591296.0000 - val_userrating_accuracy: 0.7364 - val_price_root_mean_squared_error: 46017.2930\n",
      "Epoch 38/100\n",
      "17/17 [==============================] - 0s 7ms/step - loss: 2234369777.7778 - userrating_loss: 53.3789 - price_loss: 2234369770.6667 - userrating_accuracy: 0.6597 - price_root_mean_squared_error: 47230.0204 - val_loss: 1885943936.0000 - val_userrating_loss: 110.5708 - val_price_loss: 1885943680.0000 - val_userrating_accuracy: 0.7442 - val_price_root_mean_squared_error: 43427.4531\n",
      "Epoch 39/100\n",
      "17/17 [==============================] - 0s 7ms/step - loss: 2234264675.5556 - userrating_loss: 45.1663 - price_loss: 2234264526.2222 - userrating_accuracy: 0.7222 - price_root_mean_squared_error: 47215.2611 - val_loss: 1663224960.0000 - val_userrating_loss: 115.7859 - val_price_loss: 1663224832.0000 - val_userrating_accuracy: 0.7442 - val_price_root_mean_squared_error: 40782.6523\n",
      "Epoch 40/100\n",
      "17/17 [==============================] - 0s 7ms/step - loss: 1632117632.0000 - userrating_loss: 44.9771 - price_loss: 1632117617.7778 - userrating_accuracy: 0.7574 - price_root_mean_squared_error: 40322.3314 - val_loss: 1452453760.0000 - val_userrating_loss: 118.2389 - val_price_loss: 1452453632.0000 - val_userrating_accuracy: 0.7132 - val_price_root_mean_squared_error: 38111.0703\n",
      "Epoch 41/100\n",
      "17/17 [==============================] - 0s 8ms/step - loss: 1483473201.7778 - userrating_loss: 43.5366 - price_loss: 1483473024.0000 - userrating_accuracy: 0.6962 - price_root_mean_squared_error: 38404.5343 - val_loss: 1249059456.0000 - val_userrating_loss: 121.8721 - val_price_loss: 1249059328.0000 - val_userrating_accuracy: 0.7209 - val_price_root_mean_squared_error: 35342.0352\n",
      "Epoch 42/100\n",
      "17/17 [==============================] - 0s 13ms/step - loss: 1631438805.3333 - userrating_loss: 47.0298 - price_loss: 1631438805.3333 - userrating_accuracy: 0.6574 - price_root_mean_squared_error: 40355.4655 - val_loss: 1057028928.0000 - val_userrating_loss: 124.8841 - val_price_loss: 1057028864.0000 - val_userrating_accuracy: 0.7674 - val_price_root_mean_squared_error: 32511.9805\n"
     ]
    },
    {
     "name": "stdout",
     "output_type": "stream",
     "text": [
      "Epoch 43/100\n",
      "17/17 [==============================] - 0s 13ms/step - loss: 1186456398.2222 - userrating_loss: 42.2765 - price_loss: 1186456394.6667 - userrating_accuracy: 0.6984 - price_root_mean_squared_error: 34400.8205 - val_loss: 894582400.0000 - val_userrating_loss: 124.3248 - val_price_loss: 894582336.0000 - val_userrating_accuracy: 0.7442 - val_price_root_mean_squared_error: 29909.5684\n",
      "Epoch 44/100\n",
      "17/17 [==============================] - 0s 8ms/step - loss: 988472942.2222 - userrating_loss: 42.5391 - price_loss: 988472888.8889 - userrating_accuracy: 0.6912 - price_root_mean_squared_error: 31360.3777 - val_loss: 752645696.0000 - val_userrating_loss: 121.0755 - val_price_loss: 752645632.0000 - val_userrating_accuracy: 0.7442 - val_price_root_mean_squared_error: 27434.3887\n",
      "Epoch 45/100\n",
      "17/17 [==============================] - 0s 7ms/step - loss: 1064928252.4444 - userrating_loss: 44.3847 - price_loss: 1064928248.8889 - userrating_accuracy: 0.7332 - price_root_mean_squared_error: 32478.6436 - val_loss: 632580736.0000 - val_userrating_loss: 118.7663 - val_price_loss: 632580608.0000 - val_userrating_accuracy: 0.7519 - val_price_root_mean_squared_error: 25151.1543\n",
      "Epoch 46/100\n",
      "17/17 [==============================] - 0s 6ms/step - loss: 851131900.4444 - userrating_loss: 42.3018 - price_loss: 851131889.7778 - userrating_accuracy: 0.6786 - price_root_mean_squared_error: 29006.6753 - val_loss: 545896960.0000 - val_userrating_loss: 117.1649 - val_price_loss: 545896896.0000 - val_userrating_accuracy: 0.7829 - val_price_root_mean_squared_error: 23364.4375\n",
      "Epoch 47/100\n",
      "17/17 [==============================] - 0s 6ms/step - loss: 737430019.5556 - userrating_loss: 36.9272 - price_loss: 737429998.2222 - userrating_accuracy: 0.7171 - price_root_mean_squared_error: 27122.1739 - val_loss: 478294688.0000 - val_userrating_loss: 121.3374 - val_price_loss: 478294592.0000 - val_userrating_accuracy: 0.7519 - val_price_root_mean_squared_error: 21869.9473\n",
      "Epoch 48/100\n",
      "17/17 [==============================] - 0s 7ms/step - loss: 734623527.1111 - userrating_loss: 33.4326 - price_loss: 734623527.1111 - userrating_accuracy: 0.7175 - price_root_mean_squared_error: 26973.2123 - val_loss: 429078944.0000 - val_userrating_loss: 120.7364 - val_price_loss: 429078848.0000 - val_userrating_accuracy: 0.7442 - val_price_root_mean_squared_error: 20714.2188\n",
      "Epoch 49/100\n",
      "17/17 [==============================] - 0s 7ms/step - loss: 681526972.4444 - userrating_loss: 30.6634 - price_loss: 681526947.5556 - userrating_accuracy: 0.7130 - price_root_mean_squared_error: 25976.8689 - val_loss: 396355200.0000 - val_userrating_loss: 124.8632 - val_price_loss: 396355104.0000 - val_userrating_accuracy: 0.7752 - val_price_root_mean_squared_error: 19908.6699\n",
      "Epoch 50/100\n",
      "17/17 [==============================] - 0s 7ms/step - loss: 648599409.7778 - userrating_loss: 30.6205 - price_loss: 648599395.5556 - userrating_accuracy: 0.7102 - price_root_mean_squared_error: 25344.1796 - val_loss: 375291648.0000 - val_userrating_loss: 127.3183 - val_price_loss: 375291520.0000 - val_userrating_accuracy: 0.7364 - val_price_root_mean_squared_error: 19372.4414\n",
      "Epoch 51/100\n",
      "17/17 [==============================] - 0s 6ms/step - loss: 565285219.5556 - userrating_loss: 30.1589 - price_loss: 565285144.8889 - userrating_accuracy: 0.7168 - price_root_mean_squared_error: 23698.4654 - val_loss: 364529632.0000 - val_userrating_loss: 130.3991 - val_price_loss: 364529504.0000 - val_userrating_accuracy: 0.7054 - val_price_root_mean_squared_error: 19092.6562\n",
      "Epoch 52/100\n",
      "17/17 [==============================] - 0s 6ms/step - loss: 525073734.2222 - userrating_loss: 38.4219 - price_loss: 525073728.0000 - userrating_accuracy: 0.6071 - price_root_mean_squared_error: 22616.3222 - val_loss: 357487296.0000 - val_userrating_loss: 141.0452 - val_price_loss: 357487168.0000 - val_userrating_accuracy: 0.7829 - val_price_root_mean_squared_error: 18907.3320\n",
      "Epoch 53/100\n",
      "17/17 [==============================] - 0s 7ms/step - loss: 605689160.8889 - userrating_loss: 36.7565 - price_loss: 605689095.1111 - userrating_accuracy: 0.7765 - price_root_mean_squared_error: 24495.9756 - val_loss: 353184192.0000 - val_userrating_loss: 139.3690 - val_price_loss: 353184064.0000 - val_userrating_accuracy: 0.7829 - val_price_root_mean_squared_error: 18793.1914\n",
      "Epoch 54/100\n",
      "17/17 [==============================] - 0s 9ms/step - loss: 521451052.4444 - userrating_loss: 31.1621 - price_loss: 521451036.4444 - userrating_accuracy: 0.7927 - price_root_mean_squared_error: 22804.4125 - val_loss: 351538592.0000 - val_userrating_loss: 137.7582 - val_price_loss: 351538464.0000 - val_userrating_accuracy: 0.7054 - val_price_root_mean_squared_error: 18749.3594\n",
      "Epoch 55/100\n",
      "17/17 [==============================] - 0s 7ms/step - loss: 559737930.6667 - userrating_loss: 31.2025 - price_loss: 559737898.6667 - userrating_accuracy: 0.7271 - price_root_mean_squared_error: 23530.1291 - val_loss: 350368032.0000 - val_userrating_loss: 133.8033 - val_price_loss: 350367904.0000 - val_userrating_accuracy: 0.7132 - val_price_root_mean_squared_error: 18718.1172\n",
      "Epoch 56/100\n",
      "17/17 [==============================] - 0s 6ms/step - loss: 503958942.2222 - userrating_loss: 33.6946 - price_loss: 503958915.5556 - userrating_accuracy: 0.6216 - price_root_mean_squared_error: 22409.1319 - val_loss: 349646336.0000 - val_userrating_loss: 138.5260 - val_price_loss: 349646208.0000 - val_userrating_accuracy: 0.7597 - val_price_root_mean_squared_error: 18698.8281\n",
      "Epoch 57/100\n",
      "17/17 [==============================] - 0s 7ms/step - loss: 545600897.7778 - userrating_loss: 35.4716 - price_loss: 545600883.5556 - userrating_accuracy: 0.7043 - price_root_mean_squared_error: 23324.6911 - val_loss: 349373312.0000 - val_userrating_loss: 143.8068 - val_price_loss: 349373184.0000 - val_userrating_accuracy: 0.7597 - val_price_root_mean_squared_error: 18691.5273\n",
      "Epoch 58/100\n",
      "17/17 [==============================] - 0s 5ms/step - loss: 527334696.8889 - userrating_loss: 35.5215 - price_loss: 527334648.8889 - userrating_accuracy: 0.7286 - price_root_mean_squared_error: 22905.1367 - val_loss: 348436640.0000 - val_userrating_loss: 137.5636 - val_price_loss: 348436512.0000 - val_userrating_accuracy: 0.7519 - val_price_root_mean_squared_error: 18666.4551\n",
      "Epoch 59/100\n",
      "17/17 [==============================] - 0s 6ms/step - loss: 439556674.6667 - userrating_loss: 28.1393 - price_loss: 439556653.3333 - userrating_accuracy: 0.6805 - price_root_mean_squared_error: 20820.2963 - val_loss: 346950240.0000 - val_userrating_loss: 140.6956 - val_price_loss: 346950112.0000 - val_userrating_accuracy: 0.7752 - val_price_root_mean_squared_error: 18626.5977\n",
      "Epoch 60/100\n",
      "17/17 [==============================] - 0s 6ms/step - loss: 562148549.3333 - userrating_loss: 33.9818 - price_loss: 562148545.7778 - userrating_accuracy: 0.7625 - price_root_mean_squared_error: 23675.1694 - val_loss: 346419616.0000 - val_userrating_loss: 138.7918 - val_price_loss: 346419488.0000 - val_userrating_accuracy: 0.7364 - val_price_root_mean_squared_error: 18612.3477\n",
      "Epoch 61/100\n",
      "17/17 [==============================] - 0s 5ms/step - loss: 448674976.0000 - userrating_loss: 30.6555 - price_loss: 448674949.3333 - userrating_accuracy: 0.6902 - price_root_mean_squared_error: 21150.2001 - val_loss: 345661888.0000 - val_userrating_loss: 138.9512 - val_price_loss: 345661760.0000 - val_userrating_accuracy: 0.7519 - val_price_root_mean_squared_error: 18591.9805\n",
      "Epoch 62/100\n",
      "17/17 [==============================] - 0s 6ms/step - loss: 623630599.1111 - userrating_loss: 35.4063 - price_loss: 623630595.5556 - userrating_accuracy: 0.6653 - price_root_mean_squared_error: 24824.2266 - val_loss: 344676928.0000 - val_userrating_loss: 137.9370 - val_price_loss: 344676800.0000 - val_userrating_accuracy: 0.7519 - val_price_root_mean_squared_error: 18565.4727\n",
      "Epoch 63/100\n",
      "17/17 [==============================] - 0s 6ms/step - loss: 503513224.8889 - userrating_loss: 29.6309 - price_loss: 503513216.0000 - userrating_accuracy: 0.6927 - price_root_mean_squared_error: 22382.6179 - val_loss: 343406272.0000 - val_userrating_loss: 137.1512 - val_price_loss: 343406144.0000 - val_userrating_accuracy: 0.7364 - val_price_root_mean_squared_error: 18531.2207\n"
     ]
    },
    {
     "name": "stdout",
     "output_type": "stream",
     "text": [
      "Epoch 64/100\n",
      "17/17 [==============================] - 0s 5ms/step - loss: 528447434.6667 - userrating_loss: 28.1083 - price_loss: 528447424.0000 - userrating_accuracy: 0.6743 - price_root_mean_squared_error: 22873.1707 - val_loss: 342355488.0000 - val_userrating_loss: 137.2013 - val_price_loss: 342355360.0000 - val_userrating_accuracy: 0.7054 - val_price_root_mean_squared_error: 18502.8477\n",
      "Epoch 65/100\n",
      "17/17 [==============================] - 0s 6ms/step - loss: 423594016.8889 - userrating_loss: 24.8429 - price_loss: 423593953.7778 - userrating_accuracy: 0.7036 - price_root_mean_squared_error: 20466.1337 - val_loss: 341705664.0000 - val_userrating_loss: 138.2233 - val_price_loss: 341705536.0000 - val_userrating_accuracy: 0.7364 - val_price_root_mean_squared_error: 18485.2793\n",
      "Epoch 66/100\n",
      "17/17 [==============================] - 0s 7ms/step - loss: 545989066.6667 - userrating_loss: 31.3379 - price_loss: 545989061.3333 - userrating_accuracy: 0.6619 - price_root_mean_squared_error: 23315.1827 - val_loss: 340581472.0000 - val_userrating_loss: 141.6646 - val_price_loss: 340581312.0000 - val_userrating_accuracy: 0.7674 - val_price_root_mean_squared_error: 18454.8457\n",
      "Epoch 67/100\n",
      "17/17 [==============================] - 0s 9ms/step - loss: 470858577.7778 - userrating_loss: 25.3862 - price_loss: 470858560.0000 - userrating_accuracy: 0.7750 - price_root_mean_squared_error: 21639.7334 - val_loss: 339719200.0000 - val_userrating_loss: 138.5311 - val_price_loss: 339719072.0000 - val_userrating_accuracy: 0.7209 - val_price_root_mean_squared_error: 18431.4688\n",
      "Epoch 68/100\n",
      "17/17 [==============================] - 0s 5ms/step - loss: 537072067.5556 - userrating_loss: 32.3227 - price_loss: 537071994.6667 - userrating_accuracy: 0.6552 - price_root_mean_squared_error: 23112.1740 - val_loss: 338982720.0000 - val_userrating_loss: 139.7646 - val_price_loss: 338982560.0000 - val_userrating_accuracy: 0.7674 - val_price_root_mean_squared_error: 18411.4785\n",
      "Epoch 69/100\n",
      "17/17 [==============================] - 0s 6ms/step - loss: 572471379.5556 - userrating_loss: 35.5412 - price_loss: 572471326.2222 - userrating_accuracy: 0.6924 - price_root_mean_squared_error: 23863.6654 - val_loss: 338135488.0000 - val_userrating_loss: 138.0112 - val_price_loss: 338135328.0000 - val_userrating_accuracy: 0.7519 - val_price_root_mean_squared_error: 18388.4570\n",
      "Epoch 70/100\n",
      "17/17 [==============================] - 0s 5ms/step - loss: 554146691.5556 - userrating_loss: 32.4360 - price_loss: 554146682.6667 - userrating_accuracy: 0.6685 - price_root_mean_squared_error: 23490.6047 - val_loss: 337537216.0000 - val_userrating_loss: 139.4136 - val_price_loss: 337537088.0000 - val_userrating_accuracy: 0.7442 - val_price_root_mean_squared_error: 18372.1816\n",
      "Epoch 71/100\n",
      "17/17 [==============================] - 0s 5ms/step - loss: 486986385.7778 - userrating_loss: 29.8161 - price_loss: 486986375.1111 - userrating_accuracy: 0.7064 - price_root_mean_squared_error: 22028.5420 - val_loss: 336726144.0000 - val_userrating_loss: 140.6810 - val_price_loss: 336726016.0000 - val_userrating_accuracy: 0.7519 - val_price_root_mean_squared_error: 18350.0957\n",
      "Epoch 72/100\n",
      "17/17 [==============================] - 0s 6ms/step - loss: 604227493.3333 - userrating_loss: 30.2781 - price_loss: 604227463.1111 - userrating_accuracy: 0.7006 - price_root_mean_squared_error: 24382.2308 - val_loss: 335583808.0000 - val_userrating_loss: 140.3676 - val_price_loss: 335583648.0000 - val_userrating_accuracy: 0.7442 - val_price_root_mean_squared_error: 18318.9414\n",
      "Epoch 73/100\n",
      "17/17 [==============================] - 0s 6ms/step - loss: 512273978.6667 - userrating_loss: 31.6961 - price_loss: 512273905.7778 - userrating_accuracy: 0.7332 - price_root_mean_squared_error: 22598.9877 - val_loss: 334627232.0000 - val_userrating_loss: 140.3274 - val_price_loss: 334627072.0000 - val_userrating_accuracy: 0.7597 - val_price_root_mean_squared_error: 18292.8145\n",
      "Epoch 74/100\n",
      "17/17 [==============================] - 0s 6ms/step - loss: 543338650.6667 - userrating_loss: 29.5861 - price_loss: 543338645.3333 - userrating_accuracy: 0.7186 - price_root_mean_squared_error: 23259.7916 - val_loss: 333858976.0000 - val_userrating_loss: 138.9006 - val_price_loss: 333858848.0000 - val_userrating_accuracy: 0.7519 - val_price_root_mean_squared_error: 18271.8047\n",
      "Epoch 75/100\n",
      "17/17 [==============================] - 0s 6ms/step - loss: 552356961.7778 - userrating_loss: 31.6582 - price_loss: 552356913.7778 - userrating_accuracy: 0.6710 - price_root_mean_squared_error: 23339.1209 - val_loss: 333342240.0000 - val_userrating_loss: 139.4868 - val_price_loss: 333342112.0000 - val_userrating_accuracy: 0.7442 - val_price_root_mean_squared_error: 18257.6582\n",
      "Epoch 76/100\n",
      "17/17 [==============================] - 0s 6ms/step - loss: 452104320.0000 - userrating_loss: 31.5860 - price_loss: 452104284.4444 - userrating_accuracy: 0.7190 - price_root_mean_squared_error: 21234.0033 - val_loss: 332373920.0000 - val_userrating_loss: 139.3116 - val_price_loss: 332373792.0000 - val_userrating_accuracy: 0.7287 - val_price_root_mean_squared_error: 18231.1211\n",
      "Epoch 77/100\n",
      "17/17 [==============================] - 0s 5ms/step - loss: 535492803.5556 - userrating_loss: 28.6191 - price_loss: 535492792.8889 - userrating_accuracy: 0.6794 - price_root_mean_squared_error: 23092.7637 - val_loss: 332126464.0000 - val_userrating_loss: 140.2905 - val_price_loss: 332126336.0000 - val_userrating_accuracy: 0.7442 - val_price_root_mean_squared_error: 18224.3340\n",
      "Epoch 78/100\n",
      "17/17 [==============================] - 0s 6ms/step - loss: 568192785.7778 - userrating_loss: 29.5795 - price_loss: 568192736.0000 - userrating_accuracy: 0.6870 - price_root_mean_squared_error: 23753.5225 - val_loss: 331472896.0000 - val_userrating_loss: 140.3700 - val_price_loss: 331472736.0000 - val_userrating_accuracy: 0.7442 - val_price_root_mean_squared_error: 18206.3926\n",
      "Epoch 79/100\n",
      "17/17 [==============================] - 0s 12ms/step - loss: 566247248.0000 - userrating_loss: 29.8608 - price_loss: 566247223.1111 - userrating_accuracy: 0.6826 - price_root_mean_squared_error: 23739.8656 - val_loss: 331317952.0000 - val_userrating_loss: 142.1607 - val_price_loss: 331317792.0000 - val_userrating_accuracy: 0.7597 - val_price_root_mean_squared_error: 18202.1367\n",
      "Epoch 80/100\n",
      "17/17 [==============================] - 0s 5ms/step - loss: 534283886.2222 - userrating_loss: 30.8757 - price_loss: 534283806.2222 - userrating_accuracy: 0.6926 - price_root_mean_squared_error: 23083.4465 - val_loss: 329681344.0000 - val_userrating_loss: 144.7135 - val_price_loss: 329681216.0000 - val_userrating_accuracy: 0.7519 - val_price_root_mean_squared_error: 18157.1250\n",
      "Epoch 81/100\n",
      "17/17 [==============================] - 0s 5ms/step - loss: 563777895.1111 - userrating_loss: 35.0301 - price_loss: 563777873.7778 - userrating_accuracy: 0.6797 - price_root_mean_squared_error: 23691.2095 - val_loss: 328386784.0000 - val_userrating_loss: 141.0135 - val_price_loss: 328386624.0000 - val_userrating_accuracy: 0.7597 - val_price_root_mean_squared_error: 18121.4414\n",
      "Epoch 82/100\n",
      "17/17 [==============================] - 0s 7ms/step - loss: 527646371.5556 - userrating_loss: 29.4890 - price_loss: 527646364.4444 - userrating_accuracy: 0.6967 - price_root_mean_squared_error: 22895.3123 - val_loss: 327453472.0000 - val_userrating_loss: 143.9905 - val_price_loss: 327453344.0000 - val_userrating_accuracy: 0.7442 - val_price_root_mean_squared_error: 18095.6719\n",
      "Epoch 83/100\n",
      "17/17 [==============================] - 0s 7ms/step - loss: 603886341.3333 - userrating_loss: 32.5674 - price_loss: 603886275.5556 - userrating_accuracy: 0.6852 - price_root_mean_squared_error: 24244.5643 - val_loss: 326099168.0000 - val_userrating_loss: 143.2783 - val_price_loss: 326099008.0000 - val_userrating_accuracy: 0.7597 - val_price_root_mean_squared_error: 18058.2109\n",
      "Epoch 84/100\n",
      "17/17 [==============================] - 0s 5ms/step - loss: 418097662.2222 - userrating_loss: 23.3479 - price_loss: 418097631.1111 - userrating_accuracy: 0.7393 - price_root_mean_squared_error: 20364.1909 - val_loss: 325516512.0000 - val_userrating_loss: 142.1369 - val_price_loss: 325516384.0000 - val_userrating_accuracy: 0.7364 - val_price_root_mean_squared_error: 18042.0723\n"
     ]
    },
    {
     "name": "stdout",
     "output_type": "stream",
     "text": [
      "Epoch 85/100\n",
      "17/17 [==============================] - 0s 5ms/step - loss: 505688684.4444 - userrating_loss: 33.8793 - price_loss: 505688625.7778 - userrating_accuracy: 0.6891 - price_root_mean_squared_error: 22464.2437 - val_loss: 325430528.0000 - val_userrating_loss: 144.9135 - val_price_loss: 325430400.0000 - val_userrating_accuracy: 0.7442 - val_price_root_mean_squared_error: 18039.6895\n",
      "Epoch 86/100\n",
      "17/17 [==============================] - 0s 6ms/step - loss: 379842792.8889 - userrating_loss: 28.4598 - price_loss: 379842744.8889 - userrating_accuracy: 0.7021 - price_root_mean_squared_error: 19408.6345 - val_loss: 324162784.0000 - val_userrating_loss: 143.1998 - val_price_loss: 324162656.0000 - val_userrating_accuracy: 0.7442 - val_price_root_mean_squared_error: 18004.5176\n",
      "Epoch 87/100\n",
      "17/17 [==============================] - 0s 6ms/step - loss: 449534197.3333 - userrating_loss: 27.4232 - price_loss: 449534128.0000 - userrating_accuracy: 0.7146 - price_root_mean_squared_error: 21118.7263 - val_loss: 325021056.0000 - val_userrating_loss: 145.6300 - val_price_loss: 325020896.0000 - val_userrating_accuracy: 0.7674 - val_price_root_mean_squared_error: 18028.3359\n",
      "Epoch 88/100\n",
      "17/17 [==============================] - 0s 6ms/step - loss: 441275265.7778 - userrating_loss: 29.0081 - price_loss: 441275244.4444 - userrating_accuracy: 0.7521 - price_root_mean_squared_error: 20949.8695 - val_loss: 324964864.0000 - val_userrating_loss: 143.5544 - val_price_loss: 324964736.0000 - val_userrating_accuracy: 0.7442 - val_price_root_mean_squared_error: 18026.7773\n",
      "Epoch 89/100\n",
      "17/17 [==============================] - 0s 6ms/step - loss: 588631831.1111 - userrating_loss: 28.1023 - price_loss: 588631827.5556 - userrating_accuracy: 0.7324 - price_root_mean_squared_error: 24124.8970 - val_loss: 322912736.0000 - val_userrating_loss: 143.4636 - val_price_loss: 322912608.0000 - val_userrating_accuracy: 0.7597 - val_price_root_mean_squared_error: 17969.7695\n",
      "Epoch 90/100\n",
      "17/17 [==============================] - 0s 6ms/step - loss: 563452904.8889 - userrating_loss: 32.1771 - price_loss: 563452848.0000 - userrating_accuracy: 0.6677 - price_root_mean_squared_error: 23620.4104 - val_loss: 321363360.0000 - val_userrating_loss: 142.7787 - val_price_loss: 321363200.0000 - val_userrating_accuracy: 0.7364 - val_price_root_mean_squared_error: 17926.6055\n",
      "Epoch 91/100\n",
      "17/17 [==============================] - 0s 6ms/step - loss: 518625843.5556 - userrating_loss: 26.6481 - price_loss: 518625788.4444 - userrating_accuracy: 0.7031 - price_root_mean_squared_error: 22738.3953 - val_loss: 320489024.0000 - val_userrating_loss: 144.9871 - val_price_loss: 320488864.0000 - val_userrating_accuracy: 0.7519 - val_price_root_mean_squared_error: 17902.2031\n",
      "Epoch 92/100\n",
      "17/17 [==============================] - 0s 5ms/step - loss: 498523352.8889 - userrating_loss: 29.1163 - price_loss: 498523342.2222 - userrating_accuracy: 0.7374 - price_root_mean_squared_error: 22259.2093 - val_loss: 319881408.0000 - val_userrating_loss: 142.8577 - val_price_loss: 319881280.0000 - val_userrating_accuracy: 0.7442 - val_price_root_mean_squared_error: 17885.2246\n",
      "Epoch 93/100\n",
      "17/17 [==============================] - 0s 8ms/step - loss: 448523165.3333 - userrating_loss: 26.0411 - price_loss: 448523123.5556 - userrating_accuracy: 0.7012 - price_root_mean_squared_error: 21091.2402 - val_loss: 318931072.0000 - val_userrating_loss: 142.2953 - val_price_loss: 318930944.0000 - val_userrating_accuracy: 0.7132 - val_price_root_mean_squared_error: 17858.6387\n",
      "Epoch 94/100\n",
      "17/17 [==============================] - 0s 6ms/step - loss: 480565582.2222 - userrating_loss: 28.4161 - price_loss: 480565562.6667 - userrating_accuracy: 0.6517 - price_root_mean_squared_error: 21881.3712 - val_loss: 318541824.0000 - val_userrating_loss: 144.0423 - val_price_loss: 318541664.0000 - val_userrating_accuracy: 0.7364 - val_price_root_mean_squared_error: 17847.7363\n",
      "Epoch 95/100\n",
      "17/17 [==============================] - 0s 5ms/step - loss: 493267861.3333 - userrating_loss: 27.6971 - price_loss: 493267824.0000 - userrating_accuracy: 0.6513 - price_root_mean_squared_error: 22144.4035 - val_loss: 317327616.0000 - val_userrating_loss: 146.0685 - val_price_loss: 317327456.0000 - val_userrating_accuracy: 0.7907 - val_price_root_mean_squared_error: 17813.6875\n",
      "Epoch 96/100\n",
      "17/17 [==============================] - 0s 6ms/step - loss: 463488579.5556 - userrating_loss: 31.9237 - price_loss: 463488547.5556 - userrating_accuracy: 0.7159 - price_root_mean_squared_error: 21503.4439 - val_loss: 316664032.0000 - val_userrating_loss: 146.3235 - val_price_loss: 316663872.0000 - val_userrating_accuracy: 0.7597 - val_price_root_mean_squared_error: 17795.0527\n",
      "Epoch 97/100\n",
      "17/17 [==============================] - 0s 6ms/step - loss: 492833264.0000 - userrating_loss: 30.5391 - price_loss: 492833224.8889 - userrating_accuracy: 0.7725 - price_root_mean_squared_error: 22157.4068 - val_loss: 316238848.0000 - val_userrating_loss: 143.1595 - val_price_loss: 316238720.0000 - val_userrating_accuracy: 0.7054 - val_price_root_mean_squared_error: 17783.1016\n",
      "Epoch 98/100\n",
      "17/17 [==============================] - 0s 6ms/step - loss: 421658293.3333 - userrating_loss: 30.1000 - price_loss: 421658272.0000 - userrating_accuracy: 0.6378 - price_root_mean_squared_error: 20473.1812 - val_loss: 315455840.0000 - val_userrating_loss: 144.4582 - val_price_loss: 315455648.0000 - val_userrating_accuracy: 0.7364 - val_price_root_mean_squared_error: 17761.0703\n",
      "Epoch 99/100\n",
      "17/17 [==============================] - 0s 7ms/step - loss: 455724978.6667 - userrating_loss: 24.6396 - price_loss: 455724951.1111 - userrating_accuracy: 0.7184 - price_root_mean_squared_error: 21243.6806 - val_loss: 314038272.0000 - val_userrating_loss: 143.1055 - val_price_loss: 314038144.0000 - val_userrating_accuracy: 0.7519 - val_price_root_mean_squared_error: 17721.1211\n",
      "Epoch 100/100\n",
      "17/17 [==============================] - 0s 6ms/step - loss: 451084640.0000 - userrating_loss: 31.9331 - price_loss: 451084600.0000 - userrating_accuracy: 0.6645 - price_root_mean_squared_error: 21161.4970 - val_loss: 313254112.0000 - val_userrating_loss: 143.8376 - val_price_loss: 313253952.0000 - val_userrating_accuracy: 0.7597 - val_price_root_mean_squared_error: 17698.9824\n"
     ]
    }
   ],
   "source": [
    "model.compile(loss=['sparse_categorical_crossentropy','mse'], metrics={'price': keras.metrics.RootMeanSquaredError(),\n",
    "                     'userrating': 'accuracy'}, optimizer=keras.optimizers.Adam(lr=0.0001))\n",
    "\n",
    "history = model.fit((train_user_x,train_rating_x),(train_y['user rating'],train_y['Price']),epochs=100,validation_data=((valid_user_x, valid_rating_x),(valid_y['user rating'],valid_y['Price'])))"
   ]
  },
  {
   "cell_type": "code",
   "execution_count": 105,
   "id": "408622f4",
   "metadata": {},
   "outputs": [
    {
     "name": "stdout",
     "output_type": "stream",
     "text": [
      "INFO:tensorflow:Assets written to: first_model\\0001\\assets\n"
     ]
    }
   ],
   "source": [
    "import os\n",
    "import tensorflow as tf\n",
    "model_version = '0001'\n",
    "model_name = 'first_model'\n",
    "model_path = os.path.join(model_name, model_version)\n",
    "tf.saved_model.save(model, model_path)"
   ]
  },
  {
   "cell_type": "code",
   "execution_count": 106,
   "id": "4ce8360d",
   "metadata": {},
   "outputs": [],
   "source": [
    "saved_model = tf.saved_model.load(model_path)"
   ]
  },
  {
   "cell_type": "code",
   "execution_count": 107,
   "id": "24a28053",
   "metadata": {},
   "outputs": [
    {
     "data": {
      "text/plain": [
       "517"
      ]
     },
     "execution_count": 107,
     "metadata": {},
     "output_type": "execute_result"
    }
   ],
   "source": [
    "train_x.shape[0]"
   ]
  },
  {
   "cell_type": "code",
   "execution_count": 108,
   "id": "324f5dee",
   "metadata": {},
   "outputs": [],
   "source": [
    "converter = tf.lite.TFLiteConverter.from_saved_model(model_path)\n",
    "converter.optimizations=[tf.lite.Optimize.OPTIMIZE_FOR_SIZE]\n",
    "tflite_model = converter.convert()\n",
    "with open(\"converted_model.tflite\",\"wb\") as f:\n",
    "    f.write(tflite_model)"
   ]
  },
  {
   "cell_type": "code",
   "execution_count": 109,
   "id": "3f1154b2",
   "metadata": {},
   "outputs": [
    {
     "data": {
      "text/plain": [
       "(129, 41)"
      ]
     },
     "execution_count": 109,
     "metadata": {},
     "output_type": "execute_result"
    }
   ],
   "source": [
    "valid_x.shape"
   ]
  },
  {
   "cell_type": "code",
   "execution_count": 110,
   "id": "5e0070cc",
   "metadata": {
    "scrolled": false
   },
   "outputs": [
    {
     "data": {
      "image/png": "[encoded data removed]",
      "text/plain": [
       "<IPython.core.display.Image object>"
      ]
     },
     "execution_count": 110,
     "metadata": {},
     "output_type": "execute_result"
    }
   ],
   "source": [
    "keras.utils.plot_model(model)"
   ]
  },
  {
   "cell_type": "code",
   "execution_count": 111,
   "id": "4e803712",
   "metadata": {},
   "outputs": [],
   "source": [
    "#test_user_x = tf.convert_to_tensor(test_user_x, dtype=np.float32)\n",
    "#test_rating_x = tf.convert_to_tensor(test_rating_x, dtype=np.float32)\n",
    "predictions=saved_model([test_user_x, test_rating_x], training=False)"
   ]
  },
  {
   "cell_type": "code",
   "execution_count": 112,
   "id": "10599a5b",
   "metadata": {},
   "outputs": [],
   "source": [
    "price_pred = predictions[1]\n",
    "rate_pred = predictions[0]"
   ]
  },
  {
   "cell_type": "code",
   "execution_count": 113,
   "id": "dcc80fbb",
   "metadata": {},
   "outputs": [],
   "source": [
    "final= []\n",
    "for rate in rate_pred:\n",
    "    final.append(np.argmax(rate))"
   ]
  },
  {
   "cell_type": "code",
   "execution_count": 114,
   "id": "e27fddf9",
   "metadata": {
    "scrolled": false
   },
   "outputs": [
    {
     "data": {
      "image/png": "[encoded data removed]",
      "text/plain": [
       "<Figure size 720x432 with 1 Axes>"
      ]
     },
     "metadata": {
      "needs_background": "light"
     },
     "output_type": "display_data"
    }
   ],
   "source": [
    "import matplotlib.pyplot as plt\n",
    "plt.figure(figsize=(10, 6))\n",
    "plt.scatter(range(len(price_pred)), price_pred, color='green')\n",
    "plt.scatter(range(len(price_pred)), test_y['Price'], color='red')\n",
    "#plt.legend()\n",
    "plt.title(\"Comparison of Actual and Predicted Prices\", fontsize=18)\n",
    "plt.show()"
   ]
  },
  {
   "cell_type": "code",
   "execution_count": 115,
   "id": "5ed78ba7",
   "metadata": {},
   "outputs": [
    {
     "data": {
      "image/png": "[encoded data removed]",
      "text/plain": [
       "<Figure size 720x432 with 1 Axes>"
      ]
     },
     "metadata": {
      "needs_background": "light"
     },
     "output_type": "display_data"
    }
   ],
   "source": [
    "import matplotlib.pyplot as plt\n",
    "plt.figure(figsize=(10, 6))\n",
    "plt.scatter(range(len(final)), final, color='green')\n",
    "plt.scatter(range(len(final)), test_y['user rating'], color='red')\n",
    "#plt.legend()\n",
    "plt.title(\"Comparison of Actual and Predicted Prices\", fontsize=18)\n",
    "plt.show()"
   ]
  },
  {
   "cell_type": "code",
   "execution_count": 116,
   "id": "6efcb7b1",
   "metadata": {},
   "outputs": [],
   "source": [
    "import requests\n",
    "import json\n",
    "\n",
    "data = {\"signature_name\":\"serving_default\",\n",
    "                   \"instances\":[{\n",
    "                        'input_1':test_user,\n",
    "                        'input_2':test_rating} for test_user, test_rating in zip(test_user_x.tolist(),test_rating_x.tolist())]}\n",
    "headers = {\"content-type\":\"application/json\"}\n",
    "\n",
    "json_response = requests.post('http://localhost:8501/v1/models/first_model:predict',json=data,headers=headers)\n",
    "json_response.raise_for_status()\n",
    "response =  json.loads(json_response.text)"
   ]
  },
  {
   "cell_type": "code",
   "execution_count": 117,
   "id": "f92675c9",
   "metadata": {},
   "outputs": [],
   "source": [
    "y_proba = np.array(response['predictions'])"
   ]
  },
  {
   "cell_type": "code",
   "execution_count": 118,
   "id": "6942b078",
   "metadata": {
    "scrolled": true
   },
   "outputs": [
    {
     "name": "stdout",
     "output_type": "stream",
     "text": [
      "[105656.102]\n",
      "4\n",
      "[57755.8633]\n",
      "3\n",
      "[72338.8672]\n",
      "4\n",
      "[49985.957]\n",
      "5\n",
      "[66300.2891]\n",
      "4\n",
      "[48083.0234]\n",
      "4\n",
      "[66347.8125]\n",
      "4\n",
      "[73478.4531]\n",
      "4\n",
      "[40806.8398]\n",
      "3\n",
      "[67729.8203]\n",
      "4\n",
      "[49968.7578]\n",
      "4\n",
      "[55866.375]\n",
      "4\n",
      "[60531.375]\n",
      "4\n",
      "[52304.9805]\n",
      "4\n",
      "[41751.8164]\n",
      "3\n",
      "[67924.6172]\n",
      "4\n",
      "[64787.1562]\n",
      "4\n",
      "[58797.8438]\n",
      "4\n",
      "[74668.6094]\n",
      "4\n",
      "[93231.7266]\n",
      "4\n",
      "[68841.0469]\n",
      "4\n",
      "[68696.1641]\n",
      "4\n",
      "[62355.7773]\n",
      "4\n",
      "[41487.9453]\n",
      "3\n",
      "[108396.594]\n",
      "4\n",
      "[71088.2812]\n",
      "4\n",
      "[92032.8828]\n",
      "4\n",
      "[78951.9453]\n",
      "4\n",
      "[36167.1914]\n",
      "3\n",
      "[63992.2734]\n",
      "4\n",
      "[68813.0391]\n",
      "4\n",
      "[46091.1328]\n",
      "4\n",
      "[74645.8828]\n",
      "4\n",
      "[59038.4102]\n",
      "4\n",
      "[44276.7617]\n",
      "4\n",
      "[53067.4766]\n",
      "3\n",
      "[28620.8438]\n",
      "3\n",
      "[62743.8594]\n",
      "3\n",
      "[49491.1719]\n",
      "5\n",
      "[48067.625]\n",
      "3\n",
      "[71073.5234]\n",
      "4\n",
      "[53583.793]\n",
      "4\n",
      "[75992.6406]\n",
      "4\n",
      "[63189.3203]\n",
      "4\n"
     ]
    }
   ],
   "source": [
    "for i in y_proba:\n",
    "    print(i['price'])\n",
    "    print(np.argmax(i['userrating']))\n",
    "              "
   ]
  },
  {
   "cell_type": "code",
   "execution_count": 119,
   "id": "436c9ec8",
   "metadata": {},
   "outputs": [],
   "source": [
    "from tensorflow_serving.apis.predict_pb2 import PredictRequest"
   ]
  },
  {
   "cell_type": "code",
   "execution_count": 120,
   "id": "1e956e0a",
   "metadata": {},
   "outputs": [
    {
     "data": {
      "text/plain": [
       "['input_1', 'input_2']"
      ]
     },
     "execution_count": 120,
     "metadata": {},
     "output_type": "execute_result"
    }
   ],
   "source": [
    "model.input_names"
   ]
  },
  {
   "cell_type": "code",
   "execution_count": 121,
   "id": "8cba13b5",
   "metadata": {},
   "outputs": [],
   "source": [
    "request = PredictRequest()\n",
    "request.model_spec.name = model_name\n",
    "request.model_spec.signature_name ='serving_default'\n",
    "input_name_1 = model.input_names[0]\n",
    "input_name_2 = model.input_names[1]"
   ]
  },
  {
   "cell_type": "code",
   "execution_count": 122,
   "id": "1ba2dbff",
   "metadata": {},
   "outputs": [],
   "source": [
    "request.inputs[input_name_1].CopyFrom(tf.make_tensor_proto(test_user_x))\n",
    "request.inputs[input_name_2].CopyFrom(tf.make_tensor_proto(test_rating_x))"
   ]
  },
  {
   "cell_type": "code",
   "execution_count": 123,
   "id": "1aebbb37",
   "metadata": {},
   "outputs": [],
   "source": [
    "import grpc\n",
    "from tensorflow_serving.apis import prediction_service_pb2_grpc\n",
    "\n",
    "channel = grpc.insecure_channel('localhost:8500')\n",
    "predict_service = prediction_service_pb2_grpc.PredictionServiceStub(channel)\n",
    "response = predict_service.Predict(request, timeout=10.0)"
   ]
  },
  {
   "cell_type": "code",
   "execution_count": 124,
   "id": "ca86ed29",
   "metadata": {},
   "outputs": [],
   "source": [
    "output_name_1 = model.output_names[0]\n",
    "output_name_2 = model.output_names[1]\n",
    "outputs_proto_1 = response.outputs[output_name_1]\n",
    "outputs_proto_2 = response.outputs[output_name_2]\n",
    "y_proba_1 = tf.make_ndarray(outputs_proto_1)\n",
    "y_proba_2 = tf.make_ndarray(outputs_proto_2)"
   ]
  },
  {
   "cell_type": "code",
   "execution_count": 125,
   "id": "5c26ceea",
   "metadata": {},
   "outputs": [
    {
     "data": {
      "text/plain": [
       "array([[105656.1  ],\n",
       "       [ 57755.863],\n",
       "       [ 72338.87 ],\n",
       "       [ 49985.957],\n",
       "       [ 66300.29 ],\n",
       "       [ 48083.023],\n",
       "       [ 66347.81 ],\n",
       "       [ 73478.45 ],\n",
       "       [ 40806.84 ],\n",
       "       [ 67729.82 ],\n",
       "       [ 49968.758],\n",
       "       [ 55866.375],\n",
       "       [ 60531.375],\n",
       "       [ 52304.98 ],\n",
       "       [ 41751.816],\n",
       "       [ 67924.62 ],\n",
       "       [ 64787.156],\n",
       "       [ 58797.844],\n",
       "       [ 74668.61 ],\n",
       "       [ 93231.73 ],\n",
       "       [ 68841.05 ],\n",
       "       [ 68696.164],\n",
       "       [ 62355.777],\n",
       "       [ 41487.945],\n",
       "       [108396.59 ],\n",
       "       [ 71088.28 ],\n",
       "       [ 92032.88 ],\n",
       "       [ 78951.945],\n",
       "       [ 36167.19 ],\n",
       "       [ 63992.273],\n",
       "       [ 68813.04 ],\n",
       "       [ 46091.133],\n",
       "       [ 74645.88 ],\n",
       "       [ 59038.41 ],\n",
       "       [ 44276.76 ],\n",
       "       [ 53067.477],\n",
       "       [ 28620.844],\n",
       "       [ 62743.86 ],\n",
       "       [ 49491.17 ],\n",
       "       [ 48067.625],\n",
       "       [ 71073.52 ],\n",
       "       [ 53583.793],\n",
       "       [ 75992.64 ],\n",
       "       [ 63189.32 ]], dtype=float32)"
      ]
     },
     "execution_count": 125,
     "metadata": {},
     "output_type": "execute_result"
    }
   ],
   "source": [
    "y_proba_2"
   ]
  },
  {
   "cell_type": "code",
   "execution_count": 126,
   "id": "c0259403",
   "metadata": {},
   "outputs": [
    {
     "name": "stdout",
     "output_type": "stream",
     "text": [
      "INFO:tensorflow:Assets written to: first_model\\0002\\assets\n"
     ]
    }
   ],
   "source": [
    "import os\n",
    "import tensorflow as tf\n",
    "model_version = '0002'\n",
    "model_name = 'first_model'\n",
    "model_path = os.path.join(model_name, model_version)\n",
    "tf.saved_model.save(model, model_path)"
   ]
  },
  {
   "cell_type": "code",
   "execution_count": null,
   "id": "841fb05b",
   "metadata": {},
   "outputs": [],
   "source": []
  }
 ],
 "metadata": {
  "kernelspec": {
   "display_name": "Python 3",
   "language": "python",
   "name": "python3"
  },
  "language_info": {
   "codemirror_mode": {
    "name": "ipython",
    "version": 3
   },
   "file_extension": ".py",
   "mimetype": "text/x-python",
   "name": "python",
   "nbconvert_exporter": "python",
   "pygments_lexer": "ipython3",
   "version": "3.6.13"
  }
 },
 "nbformat": 4,
 "nbformat_minor": 5
}
